{
  "nbformat": 4,
  "nbformat_minor": 0,
  "metadata": {
    "colab": {
      "provenance": [],
      "authorship_tag": "ABX9TyOCjqqL6ixw5eWiiCn8PC0j",
      "include_colab_link": true
    },
    "kernelspec": {
      "name": "python3",
      "display_name": "Python 3"
    },
    "language_info": {
      "name": "python"
    }
  },
  "cells": [
    {
      "cell_type": "markdown",
      "metadata": {
        "id": "view-in-github",
        "colab_type": "text"
      },
      "source": [
        "<a href=\"https://colab.research.google.com/github/naoya1110/IP2_Lecture_2023/blob/main/2023_IP2_Step06.ipynb\" target=\"_parent\"><img src=\"https://colab.research.google.com/assets/colab-badge.svg\" alt=\"Open In Colab\"/></a>"
      ]
    },
    {
      "cell_type": "markdown",
      "metadata": {
        "id": "YH854bAreHnL"
      },
      "source": [
        "# Step06 データの読み込みと分析"
      ]
    },
    {
      "cell_type": "markdown",
      "metadata": {
        "id": "Rr4Jg1ZjdrPc"
      },
      "source": [
        "## はじめに\n",
        "Excel形式で保存されたデータを読み込み，グラフのプロットとデータの分析を行う方法について学習します。"
      ]
    },
    {
      "cell_type": "markdown",
      "metadata": {
        "id": "CP9HSuQ9TuVb"
      },
      "source": [
        "## パッケージのインポート\n",
        "データの読み込みにはPandas（パンダス）と呼ばれるパッケージを利用します。その他にもNumpyやMatplotlib，ファイル操作用のosも使用するのでインポートしておきます。\n",
        "\n",
        "\n",
        "```\n",
        "import pandas as pd                # Pandasのインポート\n",
        "import numpy as np                 # Numpyのインポート\n",
        "import matplotlib.pyplot as plt    # Matplotlibのインポート\n",
        "import os                          # osのインポート\n",
        "```\n",
        "\n"
      ]
    },
    {
      "cell_type": "code",
      "metadata": {
        "id": "NLPREtp_d5Xm"
      },
      "source": [],
      "execution_count": null,
      "outputs": []
    },
    {
      "cell_type": "markdown",
      "metadata": {
        "id": "KmLaK38XXoMj"
      },
      "source": [
        "matplotlib単体ではグラフに日本語を表示することができません。以下のコードで`japanize-matplotlib`というパッケージのインストールとインポートを行うことで日本語を使えるようにします。\n",
        "\n",
        "\n",
        "\n",
        "```\n",
        "! pip install japanize_matplotlib    # japanize_matplotlibのインストール\n",
        "import japanize_matplotlib           # japanize_matplotlibのインポート\n",
        "```\n",
        "\n"
      ]
    },
    {
      "cell_type": "code",
      "metadata": {
        "id": "36CKqcksXdET"
      },
      "source": [],
      "execution_count": null,
      "outputs": []
    },
    {
      "cell_type": "markdown",
      "metadata": {
        "id": "r4iYGKcTYmDm"
      },
      "source": [
        "## Google Driveのマウント\n",
        "Google DriveをマウントしStep06のフォルダ（ディレクトリ）にアクセスできるようにします。左のファイルタブに`drive`というディレクトリが表示されればマウント完了です。\n",
        "\n",
        "\n",
        "```\n",
        "from google.colab import drive\n",
        "drive.mount('/content/drive')\n",
        "```\n",
        "\n"
      ]
    },
    {
      "cell_type": "code",
      "metadata": {
        "id": "ezJ1tPmIYacr"
      },
      "source": [],
      "execution_count": null,
      "outputs": []
    },
    {
      "cell_type": "markdown",
      "metadata": {
        "id": "62IrKA0OZDfL"
      },
      "source": [
        "## Excelファイルの読み込み\n",
        "左のファイルタブから`data_voltage_current.xlsx`のファイルを探し，パスをコピーします。コピーしたパスを`filepath`として使用します。Excelファイルの読み込みには`pd.read_excel()`という関数が便利です。`df`を実行するとデータを確認できます。`df.head()`はデータの先頭部分，`df.tail()`はデータの末尾部分を表示します。\n",
        "\n",
        "\n",
        "\n",
        "```\n",
        "filepath = \"自分のExcelファイルのパスに変更\"\n",
        "df = pd.read_excel(filepath)    # Excelファイルをdfとして読み込み\n",
        "df.head()                       # dfの先頭部分を表示\n",
        "```\n",
        "\n"
      ]
    },
    {
      "cell_type": "code",
      "metadata": {
        "id": "XBpel07TZCzG"
      },
      "source": [],
      "execution_count": null,
      "outputs": []
    },
    {
      "cell_type": "markdown",
      "source": [
        "読み込んだデータ`df`はpandasの`DataFrame`というデータタイプになっています。\n",
        "\n",
        "\n",
        "```\n",
        "type(df)\n",
        "```\n",
        "\n"
      ],
      "metadata": {
        "id": "OTn9zmzcaqU6"
      }
    },
    {
      "cell_type": "code",
      "source": [],
      "metadata": {
        "id": "BXmal1uraZOO"
      },
      "execution_count": null,
      "outputs": []
    },
    {
      "cell_type": "markdown",
      "metadata": {
        "id": "4j0hpWpkpTT3"
      },
      "source": [
        "## データのプロットとフィッティング\n",
        "`data_voltage_current.xlsx`は実験で測定したデータであると仮定し，これをグラフにプロットしたり分析してみましょう。\n",
        "\n",
        "`df`から電圧のデータのみを取り出すには次のように書きます。\n",
        "\n",
        "\n",
        "\n",
        "```\n",
        "voltage = df[\"電圧[V]\"]    # dfから電圧のデータを取得\n",
        "voltage.head()\n",
        "```\n",
        "\n"
      ]
    },
    {
      "cell_type": "code",
      "metadata": {
        "id": "trviefjPZ4or"
      },
      "source": [],
      "execution_count": null,
      "outputs": []
    },
    {
      "cell_type": "markdown",
      "metadata": {
        "id": "McWdETsmg0P-"
      },
      "source": [
        "同じように電流1のデータを取り出します。\n",
        "\n",
        "\n",
        "\n",
        "```\n",
        "current1 = df[\"電流1[A]\"]   #dfから電流1のデータを取得\n",
        "current1.head()\n",
        "```\n",
        "\n"
      ]
    },
    {
      "cell_type": "code",
      "metadata": {
        "id": "o8nw1_O_aEoE"
      },
      "source": [],
      "execution_count": null,
      "outputs": []
    },
    {
      "cell_type": "markdown",
      "metadata": {
        "id": "czb3tXt1g6d9"
      },
      "source": [
        "電圧と電流1の関係をプロットしてみましょう。\n",
        "\n",
        "\n",
        "\n",
        "```\n",
        "plt.rcParams[\"font.size\"]=14    # グラフのフォントサイズを変更\n",
        "plt.plot(voltage, current1, marker=\"o\", linewidth=0, label=\"電流1\")\n",
        "plt.xlabel(\"電圧 [V]\")\n",
        "plt.ylabel(\"電流 [A]\")\n",
        "plt.legend()\n",
        "plt.grid()\n",
        "```\n",
        "\n"
      ]
    },
    {
      "cell_type": "code",
      "metadata": {
        "id": "sDexwbD9aYdT"
      },
      "source": [],
      "execution_count": null,
      "outputs": []
    },
    {
      "cell_type": "markdown",
      "metadata": {
        "id": "29ZNeMp0mFUX"
      },
      "source": [
        "## フィッティング（近似）\n",
        "プロットしたデータにはノイズが含まれているようですが電圧と電流1はおおよそ比例関係にあり，$y=ax+b$の式で近似（フィッティング）できそうです。この近似式において傾き$a$と切片$b$はパラメータです。このパラメータを求めるためには`np.polyfit(x_data, y_data, dim)`という関数を使うことができます。ここで`dim`は近似式の次数です。今回使う近似式は$y=ax+b$で一次式なので`dim=1`です。このように$x$と$y$のデータに対して近似式$y=f(x)$を求めることを[回帰分析](https://ja.wikipedia.org/wiki/%E5%9B%9E%E5%B8%B0%E5%88%86%E6%9E%90)と呼びます。\n",
        "\n",
        "\n",
        "\n",
        "```\n",
        "dim = 1    # 近似式の次数を指定\n",
        "a, b = np.polyfit(voltage, current1, dim)    # フィッティングを実行\n",
        "print(f\"a = {a}\")\n",
        "print(f\"b = {b}\")\n",
        "```\n",
        "\n"
      ]
    },
    {
      "cell_type": "code",
      "metadata": {
        "id": "hZ0N8-i5bI7z"
      },
      "source": [],
      "execution_count": null,
      "outputs": []
    },
    {
      "cell_type": "markdown",
      "metadata": {
        "id": "iJ1p5JennDVI"
      },
      "source": [
        "$a$と$b$の値が求まったので`current1`の近似値`current1_fit`を求めます。\n",
        "\n",
        "\n",
        "\n",
        "```\n",
        "current1_fit = a*voltage + b\n",
        "```\n",
        "\n"
      ]
    },
    {
      "cell_type": "code",
      "metadata": {
        "id": "MBt8-uZZcWod"
      },
      "source": [],
      "execution_count": null,
      "outputs": []
    },
    {
      "cell_type": "markdown",
      "metadata": {
        "id": "iHj6zRo4oWk9"
      },
      "source": [
        "実験値と近似値をプロットして比較してみましょう。また`plt.savefig()`を使って画像を保存しましょう。\n",
        "\n",
        "\n",
        "\n",
        "```\n",
        "plt.plot(voltage, current1, marker=\"o\", linewidth=0, label=\"実験値\")\n",
        "plt.plot(voltage, current1_fit, label=f\"近似線\")\n",
        "plt.xlabel(\"電圧 [V]\")\n",
        "plt.ylabel(\"電流 [A]\")\n",
        "plt.legend()\n",
        "plt.grid()\n",
        "plt.tight_layout()\n",
        "\n",
        "plt.savefig(\"figure.png\")    # 画像の保存\n",
        "```\n",
        "\n"
      ]
    },
    {
      "cell_type": "code",
      "metadata": {
        "id": "_S99yG9Ubicz"
      },
      "source": [],
      "execution_count": null,
      "outputs": []
    },
    {
      "cell_type": "markdown",
      "metadata": {
        "id": "g9--lg-jqg6z"
      },
      "source": [
        "ところで，ここで求めた傾き$a$は電流と電圧の比例係数($I=aV$)なのでコンダクタンス$G$の値と同じです。したがって抵抗値$R$は$1/a$で求めることができます。このようにして未知の物体の抵抗値を求めることができます。\n",
        "\n",
        "\n",
        "\n",
        "```\n",
        "G = a\n",
        "R = 1/G\n",
        "print(f\"抵抗値 = {R:.3f} [Ohm]\")\n",
        "print(f\"コンダクタンス = {G:.3f} [S]\")\n",
        "```\n",
        "\n"
      ]
    },
    {
      "cell_type": "code",
      "metadata": {
        "id": "3a88xhxcqL-b"
      },
      "source": [],
      "execution_count": null,
      "outputs": []
    },
    {
      "cell_type": "markdown",
      "metadata": {
        "id": "YdW5Q-CpbfqY"
      },
      "source": [
        "## データの保存\n",
        "電圧データ，実験値，近似値を統合して`df_save`というDataFrameを新しく作ります。\n",
        "\n",
        "\n",
        "\n",
        "```\n",
        "df_save = pd.DataFrame()    #新しいDataFrameを作成\n",
        "\n",
        "df_save[\"電圧[V]\"] = voltage           # df_saveにvoltageの列を追加\n",
        "df_save[\"実験値[A]\"] = current1        # df_saveにcurrent1の列を追加\n",
        "df_save[\"近似値[A]\"] = current1_fit    # df_saveにcurrent1_fitの列を追加\n",
        "\n",
        "df_save.head()\n",
        "```\n",
        "\n"
      ]
    },
    {
      "cell_type": "code",
      "metadata": {
        "id": "AI_BBJNtb0-f"
      },
      "source": [],
      "execution_count": null,
      "outputs": []
    },
    {
      "cell_type": "markdown",
      "metadata": {
        "id": "coCHAaVDcHzw"
      },
      "source": [
        "df1_saveをExcelファイルとしてgoogleドライブに保存しましょう。\n",
        "\n",
        "\n",
        "\n",
        "```\n",
        "data_dir = \"googleドライブ内のフォルダを指定\"\n",
        "filename = \"current_data_analized.xlsx\"\n",
        "filepath = os.path.join(data_dir, filename)\n",
        "df_save.to_excel(filepath, index=False)\n",
        "```\n",
        "\n"
      ]
    },
    {
      "cell_type": "code",
      "metadata": {
        "id": "GcHLmPR9cRyP"
      },
      "source": [],
      "execution_count": null,
      "outputs": []
    },
    {
      "cell_type": "markdown",
      "metadata": {
        "id": "0atUiurspZgp"
      },
      "source": [
        "## 練習問題1\n",
        "電圧と電流2の実験値をプロットしてみましょう。"
      ]
    },
    {
      "cell_type": "code",
      "metadata": {
        "id": "HR_y0HM91BaH"
      },
      "source": [],
      "execution_count": null,
      "outputs": []
    },
    {
      "cell_type": "markdown",
      "metadata": {
        "id": "SZrd_aVi1M7d"
      },
      "source": [
        "電流2の実験データをフィッティングしてみましょう。まずは何次式を使って近似すればよいか考え，`np.polyfit(x_data, y_data, dim)`を使ってパラメータ$a_1, a_2, ... , a_N, b$を求めましょう。求めたパラメータを使って近似値`current2_fit`を求め，実験値と合わせてグラフにプロットしてみましょう。"
      ]
    },
    {
      "cell_type": "code",
      "source": [],
      "metadata": {
        "id": "e2Wp48kYcvE3"
      },
      "execution_count": null,
      "outputs": []
    },
    {
      "cell_type": "markdown",
      "metadata": {
        "id": "sSv826oo5sAO"
      },
      "source": [
        "## 気象データのプロットと分析"
      ]
    },
    {
      "cell_type": "markdown",
      "metadata": {
        "id": "A7vI_ftD5zIZ"
      },
      "source": [
        "気象庁のHPで公開化されいる[多度津の2021/5/3の気象データ](https://www.data.jma.go.jp/obd/stats/etrn/view/10min_s1.php?prec_no=72&block_no=47890&year=2021&month=5&day=3&view=)`data_tadotsu_20210503.xlsx`を`df_weather`として読み込みます。\n",
        "\n",
        "\n",
        "\n",
        "```\n",
        "filepath = \"自分のExcelファイルのパスに変更\"\n",
        "df_weather = pd.read_excel(filepath)\n",
        "df_weather.head()\n",
        "```\n",
        "\n"
      ]
    },
    {
      "cell_type": "code",
      "metadata": {
        "id": "fZrllMqX91jq"
      },
      "source": [],
      "execution_count": null,
      "outputs": []
    },
    {
      "cell_type": "markdown",
      "metadata": {
        "id": "OEywHueL9Ren"
      },
      "source": [
        "この日の時刻と気温の関係をプロットしてみましょう。\n",
        "\n",
        "\n",
        "\n",
        "```\n",
        "minute = np.arange(1, 144, 1)*10    # 分単位の時刻データを作成\n",
        "hour = minute/60    # 分単位の時間データから時間単位の時刻データを作成\n",
        "temperature = df_weather[\"気温[C]\"]\n",
        "\n",
        "plt.plot(hour, temperature)\n",
        "plt.xlim(0, 24)\n",
        "plt.xticks(np.arange(0, 25, 2))\n",
        "plt.ylim(10, 24)\n",
        "plt.yticks(np.arange(10, 25, 2))\n",
        "plt.xlabel(\"時刻\")\n",
        "plt.ylabel(\"気温[$^o$C]\")\n",
        "plt.grid()\n",
        "```\n",
        "\n"
      ]
    },
    {
      "cell_type": "code",
      "metadata": {
        "id": "Tt1Dw1ZX-up6"
      },
      "source": [],
      "execution_count": null,
      "outputs": []
    },
    {
      "cell_type": "markdown",
      "metadata": {
        "id": "cAMIY8vP-UhH"
      },
      "source": [
        "この日の最高気温（`temperature`の最大値）を求めてみましょう。\n",
        "\n",
        "\n",
        "```\n",
        "temperature.max()\n",
        "```\n",
        "\n"
      ]
    },
    {
      "cell_type": "code",
      "metadata": {
        "id": "9-1iDoE4-XcT"
      },
      "source": [],
      "execution_count": null,
      "outputs": []
    },
    {
      "cell_type": "markdown",
      "metadata": {
        "id": "B8e5C0eM-hvQ"
      },
      "source": [
        "次の書き方でも同じことができます。\n",
        "\n",
        "\n",
        "```\n",
        "np.max(temperature)\n",
        "```\n",
        "\n"
      ]
    },
    {
      "cell_type": "code",
      "metadata": {
        "id": "b90sLhR3-oYY"
      },
      "source": [],
      "execution_count": null,
      "outputs": []
    },
    {
      "cell_type": "markdown",
      "source": [
        "同様に最低気温（`temperature`の最小値）を求めることができます。\n",
        "\n",
        "\n",
        "```\n",
        "temperature.min()\n",
        "```\n",
        "\n"
      ],
      "metadata": {
        "id": "ZLNW4kIneE-Y"
      }
    },
    {
      "cell_type": "code",
      "source": [],
      "metadata": {
        "id": "y9CxRJmFeISI"
      },
      "execution_count": null,
      "outputs": []
    },
    {
      "cell_type": "markdown",
      "source": [
        "\n",
        "\n",
        "```\n",
        "np.min(temperature)\n",
        "```\n",
        "\n"
      ],
      "metadata": {
        "id": "mwsFJK6fQ2wN"
      }
    },
    {
      "cell_type": "code",
      "source": [],
      "metadata": {
        "id": "pr1BzNUJeMwP"
      },
      "execution_count": null,
      "outputs": []
    },
    {
      "cell_type": "markdown",
      "metadata": {
        "id": "aYCUjbuK-skg"
      },
      "source": [
        "平均気温（`temperature`の平均値）を求めてみましょう。\n",
        "\n",
        "\n",
        "```\n",
        "temperature.mean()\n",
        "```\n",
        "\n"
      ]
    },
    {
      "cell_type": "code",
      "source": [],
      "metadata": {
        "id": "cOr7-h-deeA0"
      },
      "execution_count": null,
      "outputs": []
    },
    {
      "cell_type": "markdown",
      "source": [
        "\n",
        "\n",
        "```\n",
        "np.mean(temperature)\n",
        "```\n",
        "\n"
      ],
      "metadata": {
        "id": "hS1hfUu3Q7x3"
      }
    },
    {
      "cell_type": "code",
      "source": [],
      "metadata": {
        "id": "nXZWqEPXegHf"
      },
      "execution_count": null,
      "outputs": []
    },
    {
      "cell_type": "markdown",
      "metadata": {
        "id": "RHa9jF5K_9q4"
      },
      "source": [
        "## 練習問題2\n",
        "気圧や湿度，風速のデータについてもプロットし，それぞれの最大値，平均値，最小値を求めてみましょう。"
      ]
    },
    {
      "cell_type": "code",
      "metadata": {
        "id": "xo8m_Cor_9E7"
      },
      "source": [],
      "execution_count": null,
      "outputs": []
    },
    {
      "cell_type": "markdown",
      "metadata": {
        "id": "ZNEbnucxuFcQ"
      },
      "source": [
        "## まとめ\n",
        "Excelのデータを読み込んで分析する方法について学習しました。学んだことを使って実験レポートのグラフを作成してみましょう。"
      ]
    }
  ]
}