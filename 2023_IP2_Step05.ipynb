{
  "nbformat": 4,
  "nbformat_minor": 0,
  "metadata": {
    "colab": {
      "provenance": [],
      "toc_visible": true,
      "include_colab_link": true
    },
    "kernelspec": {
      "name": "python3",
      "display_name": "Python 3"
    },
    "language_info": {
      "name": "python"
    }
  },
  "cells": [
    {
      "cell_type": "markdown",
      "metadata": {
        "id": "view-in-github",
        "colab_type": "text"
      },
      "source": [
        "<a href=\"https://colab.research.google.com/github/naoya1110/IP2_Lecture_2023/blob/main/2023_IP2_Step05.ipynb\" target=\"_parent\"><img src=\"https://colab.research.google.com/assets/colab-badge.svg\" alt=\"Open In Colab\"/></a>"
      ]
    },
    {
      "cell_type": "markdown",
      "metadata": {
        "id": "YH854bAreHnL"
      },
      "source": [
        "# Step05：パッケージの利用方法とグラフ作成"
      ]
    },
    {
      "cell_type": "markdown",
      "metadata": {
        "id": "Rr4Jg1ZjdrPc"
      },
      "source": [
        "## はじめに\n",
        "Pythonには便利なパッケージ（ライブラリ）がたくさんあり，これらを利用することで高度なプログラムを簡単に作成することができます。ここではNumpy（ナムパイ）やMatplotlib（マットプロットリブ）と呼ばれる非常に有名なパッケージを使ってグラフ作成の方法を学びます。"
      ]
    },
    {
      "cell_type": "markdown",
      "metadata": {
        "id": "CP9HSuQ9TuVb"
      },
      "source": [
        "## パッケージのインポート\n",
        "はじめにパッケージを読み込みます。C言語における`#include <math.h>`と同等の作業です。`import numpy as np`は「`numpy`というパッケージを`np`と省略して使います」という意味です。`as np`は無くても問題ありませんが，プログラムを簡潔にするために省略することが慣例となっています。\n",
        "\n",
        "```\n",
        "import numpy as np    # Numpyのインポート\n",
        "import matplotlib.pyplot as plt    # Matplotlibのインポート\n",
        "```\n",
        "\n",
        "\n"
      ]
    },
    {
      "cell_type": "code",
      "metadata": {
        "id": "NLPREtp_d5Xm"
      },
      "source": [],
      "execution_count": null,
      "outputs": []
    },
    {
      "cell_type": "markdown",
      "metadata": {
        "id": "CuG9QwOFpdPw"
      },
      "source": [
        "## Numpyの基礎\n",
        "Numpyは数値計算を効率よく行うためのパッケージです。以下は使用方法のほんの一例です。詳しくはネットで検索してみましょう。\n",
        "\n",
        "*   https://note.nkmk.me/numpy/\n"
      ]
    },
    {
      "cell_type": "markdown",
      "metadata": {
        "id": "IM8knu4Efh5Y"
      },
      "source": [
        "### 数学の定数"
      ]
    },
    {
      "cell_type": "markdown",
      "source": [
        "円周率 $\\pi$\n",
        "\n",
        "\n",
        "\n",
        "```\n",
        "np.pi\n",
        "```\n",
        "\n",
        "\n",
        "\n"
      ],
      "metadata": {
        "id": "motdf1FxznqH"
      }
    },
    {
      "cell_type": "code",
      "source": [],
      "metadata": {
        "id": "apTfADEazj_P"
      },
      "execution_count": null,
      "outputs": []
    },
    {
      "cell_type": "markdown",
      "source": [
        "ネイピア数（自然対数の底）$e$\n",
        "\n",
        "\n",
        "\n",
        "```\n",
        "np.e\n",
        "```\n",
        "\n"
      ],
      "metadata": {
        "id": "aLVaoQjjzvcf"
      }
    },
    {
      "cell_type": "code",
      "source": [],
      "metadata": {
        "id": "9_-TVHqWztAf"
      },
      "execution_count": null,
      "outputs": []
    },
    {
      "cell_type": "markdown",
      "metadata": {
        "id": "OFsG6OIIf4kU"
      },
      "source": [
        "### 三角関数"
      ]
    },
    {
      "cell_type": "markdown",
      "source": [
        "$\\sin(x)$\n",
        "\n",
        "\n",
        "\n",
        "```\n",
        "x = np.pi/6\n",
        "np.sin(x)\n",
        "```\n",
        "\n"
      ],
      "metadata": {
        "id": "8vdF23kh4Kno"
      }
    },
    {
      "cell_type": "code",
      "metadata": {
        "id": "kAaLSP3CfH6X"
      },
      "source": [],
      "execution_count": null,
      "outputs": []
    },
    {
      "cell_type": "markdown",
      "source": [
        "$\\cos(x)$\n",
        "\n",
        "\n",
        "\n",
        "```\n",
        "np.cos(x)\n",
        "```\n",
        "\n"
      ],
      "metadata": {
        "id": "--gCmRyV4OOP"
      }
    },
    {
      "cell_type": "code",
      "source": [],
      "metadata": {
        "id": "szzPKq-o0GOH"
      },
      "execution_count": null,
      "outputs": []
    },
    {
      "cell_type": "markdown",
      "source": [
        "$\\tan(x)$\n",
        "\n",
        "\n",
        "\n",
        "```\n",
        "np.tan(x)\n",
        "```\n",
        "\n"
      ],
      "metadata": {
        "id": "X7TQAVj74QO_"
      }
    },
    {
      "cell_type": "code",
      "source": [],
      "metadata": {
        "id": "mh0iNeis0Ibf"
      },
      "execution_count": null,
      "outputs": []
    },
    {
      "cell_type": "markdown",
      "source": [
        "### 対数関数"
      ],
      "metadata": {
        "id": "jgMMQcmu0bZP"
      }
    },
    {
      "cell_type": "markdown",
      "source": [
        "自然対数 $\\log_e, \\ln$\n",
        "\n",
        "\n",
        "\n",
        "```\n",
        "np.log(10)\n",
        "```\n",
        "\n"
      ],
      "metadata": {
        "id": "vYxXhZtD0fhP"
      }
    },
    {
      "cell_type": "code",
      "source": [],
      "metadata": {
        "id": "FYINm_590Usm"
      },
      "execution_count": null,
      "outputs": []
    },
    {
      "cell_type": "markdown",
      "source": [
        "常用対数 $\\log_{10}$\n",
        "\n",
        "\n",
        "\n",
        "```\n",
        "np.log10(10)\n",
        "```\n",
        "\n"
      ],
      "metadata": {
        "id": "cyq1FhJa0umJ"
      }
    },
    {
      "cell_type": "code",
      "source": [],
      "metadata": {
        "id": "VIGxA1S70YRn"
      },
      "execution_count": null,
      "outputs": []
    },
    {
      "cell_type": "markdown",
      "source": [
        "### その他に使えるNumpy関数\n",
        "https://pythondatascience.plavox.info/numpy/%E6%95%B0%E5%AD%A6%E7%B3%BB%E3%81%AE%E9%96%A2%E6%95%B0"
      ],
      "metadata": {
        "id": "UgzwtnECKaSn"
      }
    },
    {
      "cell_type": "markdown",
      "metadata": {
        "id": "58oQQUp15Xvs"
      },
      "source": [
        "### Numpy配列\n",
        "Numpyでは複数のデータをまとめて取り扱うためにNumpy配列（ndarray）という独自のデータタイプが用意されています。リストに似ていますが別のものです。\n",
        "\n",
        "\n",
        "\n",
        "```\n",
        "x = np.array([1, 2, 3, 4, 5])\n",
        "print(x)\n",
        "print(type(x))    # xのデータタイプを確認\n",
        "```\n",
        "\n"
      ]
    },
    {
      "cell_type": "code",
      "metadata": {
        "id": "59jlnW575cFW"
      },
      "source": [],
      "execution_count": null,
      "outputs": []
    },
    {
      "cell_type": "markdown",
      "metadata": {
        "id": "yHFNQdrigXR9"
      },
      "source": [
        "### いろいろなNumpy配列の作り方"
      ]
    },
    {
      "cell_type": "markdown",
      "source": [
        "すべての要素が0, 長さが5\n",
        "\n",
        "\n",
        "\n",
        "```\n",
        "np.zeros(5)\n",
        "```\n",
        "\n"
      ],
      "metadata": {
        "id": "KqlrewGb05oI"
      }
    },
    {
      "cell_type": "code",
      "metadata": {
        "id": "-aAfXuXEfTXz"
      },
      "source": [],
      "execution_count": null,
      "outputs": []
    },
    {
      "cell_type": "markdown",
      "source": [
        "すべての要素が1，長さが10\n",
        "\n",
        "\n",
        "\n",
        "```\n",
        "np.ones(10)\n",
        "```\n",
        "\n"
      ],
      "metadata": {
        "id": "2DZs-NH21BW_"
      }
    },
    {
      "cell_type": "code",
      "metadata": {
        "id": "HZS9BEezhFOr"
      },
      "source": [],
      "execution_count": null,
      "outputs": []
    },
    {
      "cell_type": "markdown",
      "source": [
        "すべての要素が7, 長さが3\n",
        "\n",
        "\n",
        "\n",
        "```\n",
        "7*np.ones(3)\n",
        "```\n",
        "\n"
      ],
      "metadata": {
        "id": "kj-yi4fF1J63"
      }
    },
    {
      "cell_type": "code",
      "metadata": {
        "id": "DlXFYjyC5-Ji"
      },
      "source": [],
      "execution_count": null,
      "outputs": []
    },
    {
      "cell_type": "markdown",
      "source": [
        "等差数列：0から10まで，間隔2\n",
        "\n",
        "\n",
        "\n",
        "```\n",
        "np.arange(0, 10, 2)\n",
        "```\n",
        "\n",
        "\n",
        "\n"
      ],
      "metadata": {
        "id": "Sd_W99ba1W5f"
      }
    },
    {
      "cell_type": "code",
      "metadata": {
        "id": "A_TOOjXAi4SI"
      },
      "source": [],
      "execution_count": null,
      "outputs": []
    },
    {
      "cell_type": "markdown",
      "source": [
        "等差数列：1から10まで，均等に10分割\n",
        "\n",
        "\n",
        "\n",
        "```\n",
        "np.linspace(1, 10, 10)\n",
        "```\n",
        "\n"
      ],
      "metadata": {
        "id": "hvsLN7eb1hlP"
      }
    },
    {
      "cell_type": "code",
      "metadata": {
        "id": "ME3Tsp3qy4bZ"
      },
      "source": [],
      "execution_count": null,
      "outputs": []
    },
    {
      "cell_type": "markdown",
      "source": [
        "0から1の間の乱数配列，長さが5\n",
        "\n",
        "\n",
        "\n",
        "```\n",
        "np.random.rand(5)\n",
        "```\n",
        "\n"
      ],
      "metadata": {
        "id": "oVJsgnoa1zyA"
      }
    },
    {
      "cell_type": "code",
      "metadata": {
        "id": "ddepfoRKhfFj"
      },
      "source": [],
      "execution_count": null,
      "outputs": []
    },
    {
      "cell_type": "markdown",
      "metadata": {
        "id": "7OAomSo_jlfH"
      },
      "source": [
        "## Matplotlibの基礎\n",
        "Matplotlibはグラフ作成用のパッケージです。Excelよりも格段にカッコいいグラフを作成することができます。NatureやScienceなどの超一流の科学雑誌に投稿される論文もMatplotlibでグラフを作成していることが良くあります。\n",
        "\n",
        "*   https://algorithm.joho.info/programming/python/matplotlib-sample-code/"
      ]
    },
    {
      "cell_type": "markdown",
      "metadata": {
        "id": "q62Jwz0TkbTD"
      },
      "source": [
        "### 折れ線グラフ\n",
        "グラフ作成のためのxとyのデータをNumpy配列として適当に作成します。xとyの要素の数が同じになるように注意してください。\n",
        "\n",
        "\n",
        "\n",
        "```\n",
        "x = np.array([1, 2, 3, 4, 5, 6, 7, 8, 9])\n",
        "y = np.array([3, 2, 1, 1, 5, 7, 9, 6, 5]) # 好きな値に変更してください。\n",
        "```\n",
        "\n"
      ]
    },
    {
      "cell_type": "code",
      "metadata": {
        "id": "H8ENOZzUlNud"
      },
      "source": [],
      "execution_count": null,
      "outputs": []
    },
    {
      "cell_type": "markdown",
      "metadata": {
        "id": "omTtLIXNlge-"
      },
      "source": [
        "折れ線グラフは次の1行で作成できます。ただしデフォルトの設定だとあまり良いグラフとは言えません。\n",
        "\n",
        "\n",
        "\n",
        "```\n",
        "plt.plot(x, y)\n",
        "```\n",
        "\n"
      ]
    },
    {
      "cell_type": "code",
      "metadata": {
        "id": "T2EN0HXtkYb8"
      },
      "source": [],
      "execution_count": null,
      "outputs": []
    },
    {
      "cell_type": "markdown",
      "source": [
        "例えば次のようにパラメータを設定することでカスタマイズできます。\n",
        "\n",
        "\n",
        "\n",
        "```\n",
        "plt.plot(x, y, marker=\"o\", markersize=14, linewidth=2, color=\"red\")\n",
        "```\n",
        "\n",
        "\n",
        "\n"
      ],
      "metadata": {
        "id": "O_fKv-hXK4DW"
      }
    },
    {
      "cell_type": "code",
      "source": [],
      "metadata": {
        "id": "bkZF_iCHKyi4"
      },
      "execution_count": null,
      "outputs": []
    },
    {
      "cell_type": "markdown",
      "metadata": {
        "id": "5bJkm0c2lqCE"
      },
      "source": [
        "例えば実験レポートに載せるグラフであれば次のように縦軸と横軸の目盛りやラベル，凡例なども表示する必要があります。詳しくは「Matplotlib カスタマイズ」等で検索してみましょう。\n",
        "\n",
        "\n",
        "\n",
        "```\n",
        "plt.figure(figsize=(6, 4))    # 描画エリアのサイズ設定\n",
        "plt.rcParams[\"font.size\"]=12    # フォントサイズ\n",
        "\n",
        "plt.plot(x, y, marker=\"o\", markersize=14, linewidth=2, color=\"red\", label=\"data\")\n",
        "\n",
        "plt.xlim(0, 10)    # x軸の範囲\n",
        "plt.ylim(0, 10)    # y軸の範囲\n",
        "plt.xlabel(\"x\")    # x軸のタイトル\n",
        "plt.ylabel(\"y\")    # y軸のタイトル\n",
        "plt.xticks(np.arange(0, 11, 1))    # x軸の目盛り\n",
        "plt.yticks(np.arange(0, 11, 1))    # y軸の目盛り\n",
        "plt.grid()    # グリッド線\n",
        "plt.legend()    # 凡例\n",
        "\n",
        "# plt.savefig(\"figure.png\")    # 画像として保存\n",
        "```\n",
        "\n"
      ]
    },
    {
      "cell_type": "code",
      "metadata": {
        "id": "AaNSTaeDl7en"
      },
      "source": [],
      "execution_count": null,
      "outputs": []
    },
    {
      "cell_type": "markdown",
      "source": [
        "グラフを画像として保存したい場合は最後の1行のコメントアウトを外してください。"
      ],
      "metadata": {
        "id": "XJru-LeiM4ML"
      }
    },
    {
      "cell_type": "markdown",
      "metadata": {
        "id": "8j5GhtE7k6Fk"
      },
      "source": [
        "### 棒グラフ\n",
        "\n",
        "\n",
        "\n",
        "```\n",
        "plt.figure(figsize=(6, 4))    # 描画エリアのサイズ設定\n",
        "\n",
        "plt.bar(x, y, label=\"data\")    # 棒グラフをプロット\n",
        "\n",
        "plt.xlim(0, 10)    # x軸の範囲\n",
        "plt.ylim(0, 10)    # y軸の範囲\n",
        "plt.xlabel(\"x\")    # x軸のタイトル\n",
        "plt.ylabel(\"y\")    # y軸のタイトル\n",
        "plt.title(\"Bar Plot\") # グラフタイトル\n",
        "```\n",
        "\n"
      ]
    },
    {
      "cell_type": "code",
      "metadata": {
        "id": "806v-SXUk5Af"
      },
      "source": [],
      "execution_count": null,
      "outputs": []
    },
    {
      "cell_type": "markdown",
      "metadata": {
        "id": "L7urf0AIoAjK"
      },
      "source": [
        "### 円グラフ\n",
        "\n",
        "\n",
        "\n",
        "```\n",
        "x = np.array([\"a\", \"b\", \"c\", \"d\", \"e\"])\n",
        "y = np.array([3, 2, 1, 1, 5])\n",
        "\n",
        "plt.figure(figsize=(4, 4))\n",
        "plt.pie(y, labels=x, counterclock=False, startangle=90)    # 円グラフをプロット\n",
        "plt.title(\"Pie Chart\")\n",
        "```\n",
        "\n"
      ]
    },
    {
      "cell_type": "code",
      "metadata": {
        "id": "03TeB9aDoD0f"
      },
      "source": [],
      "execution_count": null,
      "outputs": []
    },
    {
      "cell_type": "markdown",
      "metadata": {
        "id": "4WKM-kBWqQuO"
      },
      "source": [
        "### 三角関数のグラフ\n",
        "\n",
        "\n",
        "```\n",
        "plt.figure(figsize=(6, 4))\n",
        "x = np.arange(0, 4*np.pi, 0.01)\n",
        "y1 = np.sin(x)\n",
        "y2 = np.cos(x)\n",
        "y3 = y1*y2\n",
        "\n",
        "plt.plot(x, y1, label=\"sin(x)\")\n",
        "plt.plot(x, y2, label=\"cos(x)\")\n",
        "plt.plot(x, y3, label=\"sin(x)cos(x)\")\n",
        "plt.grid()\n",
        "plt.legend()\n",
        "```"
      ]
    },
    {
      "cell_type": "code",
      "metadata": {
        "id": "N_efkZTUqVS8"
      },
      "source": [],
      "execution_count": null,
      "outputs": []
    },
    {
      "cell_type": "markdown",
      "metadata": {
        "id": "Xxndup73q5K5"
      },
      "source": [
        "## 応用問題\n",
        "これまでに学んだことを応用していろいろなグラフを作成してみましょう。"
      ]
    },
    {
      "cell_type": "markdown",
      "metadata": {
        "id": "sAoSf0CbSVCO"
      },
      "source": [
        "### 円の方程式（媒介変数表示）\n",
        "$x = \\cos(t)$\n",
        "\n",
        "$y = \\sin(t)$\n",
        "\n",
        "$0 \\leq t < 2\\pi$\n",
        "\n",
        "\n",
        "\n",
        "```\n",
        "plt.figure(figsize=(4, 4))\n",
        "\n",
        "t = np.arange(0, 2*np.pi, 0.01)\n",
        "x = np.cos(t)\n",
        "y = np.sin(t)\n",
        "\n",
        "plt.plot(x, y)\n",
        "plt.grid()\n",
        "```\n",
        "\n"
      ]
    },
    {
      "cell_type": "code",
      "metadata": {
        "id": "0-o3HIxl2wMa"
      },
      "source": [],
      "execution_count": null,
      "outputs": []
    },
    {
      "cell_type": "markdown",
      "metadata": {
        "id": "M8U2-1Xm8Wvf"
      },
      "source": [
        "### ???の方程式\n",
        "円の方程式のプログラムを参考に，以下の方程式をグラフ化してみましょう。\n",
        "\n",
        "$x = 16\\sin^3(t)$\n",
        "\n",
        "$y = 13\\cos(t)-5\\cos(2t)-2\\cos(3t)-\\cos(4t)$\n",
        "\n",
        "$0 \\leq t < 2\\pi$"
      ]
    },
    {
      "cell_type": "code",
      "metadata": {
        "id": "8UhDTTeJ3GsR"
      },
      "source": [],
      "execution_count": null,
      "outputs": []
    },
    {
      "cell_type": "markdown",
      "source": [
        "### 自分の好きな公式や物理法則の数式をグラフ化してみましょう\n",
        "何の式か説明も記載してください。"
      ],
      "metadata": {
        "id": "_9vbdlBO2ZxA"
      }
    },
    {
      "cell_type": "code",
      "metadata": {
        "id": "I393vtXitQhC"
      },
      "source": [],
      "execution_count": null,
      "outputs": []
    },
    {
      "cell_type": "markdown",
      "metadata": {
        "id": "ZNEbnucxuFcQ"
      },
      "source": [
        "## まとめ\n",
        "NumpyとMatplotlibを使った簡単なグラフ作成の方法を学びました。数値データからグラフを作成することを可視化と言います。データを適切に可視化できる技術はレポート作成や研究発表を行う際に非常に役に立ちます。"
      ]
    }
  ]
}