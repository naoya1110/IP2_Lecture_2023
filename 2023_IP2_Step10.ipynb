{
  "nbformat": 4,
  "nbformat_minor": 0,
  "metadata": {
    "colab": {
      "provenance": [],
      "toc_visible": true,
      "include_colab_link": true
    },
    "kernelspec": {
      "display_name": "Python 3",
      "language": "python",
      "name": "python3"
    },
    "language_info": {
      "codemirror_mode": {
        "name": "ipython",
        "version": 3
      },
      "file_extension": ".py",
      "mimetype": "text/x-python",
      "name": "python",
      "nbconvert_exporter": "python",
      "pygments_lexer": "ipython3",
      "version": "3.7.6"
    }
  },
  "cells": [
    {
      "cell_type": "markdown",
      "metadata": {
        "id": "view-in-github",
        "colab_type": "text"
      },
      "source": [
        "<a href=\"https://colab.research.google.com/github/naoya1110/IP2_Lecture_2023/blob/main/2023_IP2_Step10.ipynb\" target=\"_parent\"><img src=\"https://colab.research.google.com/assets/colab-badge.svg\" alt=\"Open In Colab\"/></a>"
      ]
    },
    {
      "cell_type": "markdown",
      "metadata": {
        "id": "YH854bAreHnL"
      },
      "source": [
        "# Step10 NumpyとOpenCVを使った画像処理"
      ]
    },
    {
      "cell_type": "markdown",
      "metadata": {
        "id": "Rr4Jg1ZjdrPc"
      },
      "source": [
        "## はじめに\n",
        "NumpyとOpenCVを使って簡単な画像処理をしてみましょう。"
      ]
    },
    {
      "cell_type": "markdown",
      "metadata": {
        "id": "CP9HSuQ9TuVb"
      },
      "source": [
        "## パッケージのインポート\n",
        "Numpy，Matplotlibに加えて画像処理用のパッケージOpenCV（インポート名は`cv2`）を使用します。\n",
        "\n",
        "\n",
        "\n",
        "```\n",
        "import numpy as np                  # Numpyのインポート\n",
        "import matplotlib.pyplot as plt     # Matplotlibのインポート\n",
        "import cv2                          # OpenCVのインポート\n",
        "```\n",
        "\n"
      ]
    },
    {
      "cell_type": "code",
      "metadata": {
        "id": "NLPREtp_d5Xm"
      },
      "source": [],
      "execution_count": null,
      "outputs": []
    },
    {
      "cell_type": "markdown",
      "metadata": {
        "id": "RjHhtJGEVLmW"
      },
      "source": [
        "## Google Driveのマウント\n",
        "\n",
        "\n",
        "```\n",
        "from google.colab import drive\n",
        "drive.mount('/content/drive')\n",
        "```\n",
        "\n"
      ]
    },
    {
      "cell_type": "code",
      "metadata": {
        "id": "iRnMrOptVYj1"
      },
      "source": [],
      "execution_count": null,
      "outputs": []
    },
    {
      "cell_type": "markdown",
      "metadata": {
        "id": "cqI8fAxfZVr6"
      },
      "source": [
        "## 画像データの読み込みと表示\n",
        "`cat.jpg`を読み込んでみましょう。\n",
        "\n",
        "\n",
        "\n",
        "```\n",
        "filepath = \"PATH/TO/YOUR/DATA\"    # 要変更\n",
        "img = cv2.imread(filepath)\n",
        "```\n",
        "\n"
      ]
    },
    {
      "cell_type": "code",
      "metadata": {
        "id": "71pOzlJbVkID"
      },
      "source": [],
      "execution_count": null,
      "outputs": []
    },
    {
      "cell_type": "markdown",
      "metadata": {
        "id": "x0Dvx-3hZaky"
      },
      "source": [
        "`img`のデータタイプを確認してみましょう。Numpy配列になっていることが分かります。\n",
        "\n",
        "\n",
        "\n",
        "```\n",
        "type(img)\n",
        "```\n",
        "\n"
      ]
    },
    {
      "cell_type": "code",
      "metadata": {
        "id": "Ik6ePVOEV2uz"
      },
      "source": [],
      "execution_count": null,
      "outputs": []
    },
    {
      "cell_type": "markdown",
      "metadata": {
        "id": "ua61_xhnaE36"
      },
      "source": [
        "`img`に含まれる要素の最大値と最小値を確認しましょう。\n",
        "\n",
        "\n",
        "\n",
        "```\n",
        "print(\"最大値:\", img.max())\n",
        "print(\"最小値:\", img.min())\n",
        "```\n",
        "\n"
      ]
    },
    {
      "cell_type": "code",
      "metadata": {
        "id": "hIf20imjaI8i"
      },
      "source": [],
      "execution_count": null,
      "outputs": []
    },
    {
      "cell_type": "markdown",
      "metadata": {
        "id": "n-MTLKpnWLwp"
      },
      "source": [
        "`img`の要素のデータタイプを確認しましょう。`uint8`（符号なし8ビット整数）になっていることが分かります。`uint8`は2進数で$(0000\\,0000)_2$から$(1111\\,1111)_2$まで，10進数では0から255までを表すことができます。\n",
        "\n",
        "\n",
        "\n",
        "```\n",
        "img.dtype\n",
        "```\n",
        "\n"
      ]
    },
    {
      "cell_type": "code",
      "metadata": {
        "id": "sXGPKBMRWD6i"
      },
      "source": [],
      "execution_count": null,
      "outputs": []
    },
    {
      "cell_type": "markdown",
      "metadata": {
        "id": "kyZKluS2ZmBS"
      },
      "source": [
        "imgのshapeを確認してみましょう。\n",
        "\n",
        "\n",
        "\n",
        "```\n",
        "img.shape\n",
        "```\n",
        "\n"
      ]
    },
    {
      "cell_type": "code",
      "metadata": {
        "id": "BFKngCw1V4xa"
      },
      "source": [],
      "execution_count": null,
      "outputs": []
    },
    {
      "cell_type": "markdown",
      "metadata": {
        "id": "ZcY9hHIHbd3K"
      },
      "source": [
        "487x650x3の3次元配列になっていることが分かります。これは縦487ピクセル，横650ピクセルの画像であることを示しています。最後の3はカラーチャンネルと呼ばれるものです。カラー画像は赤(Red), 緑(Green), 青(Blue)の光の3原色(RGB)の2次元配列を重ね合わせることで構成されています。"
      ]
    },
    {
      "cell_type": "markdown",
      "metadata": {
        "id": "xPj5c8imZtyq"
      },
      "source": [
        "`matplotlib`を使って`img`を表示してみましょう。\n",
        "\n",
        "\n",
        "\n",
        "```\n",
        "plt.imshow(img)    # 画像データの表示\n",
        "```\n",
        "\n"
      ]
    },
    {
      "cell_type": "code",
      "metadata": {
        "id": "4f4JR0yNV7iC"
      },
      "source": [],
      "execution_count": null,
      "outputs": []
    },
    {
      "cell_type": "markdown",
      "metadata": {
        "id": "ydt_V_QWaofJ"
      },
      "source": [
        "なぜか画像が青っぽくなってしまいました。これは画像の読み込みに利用したOpenCVと画像の表示に利用したMatplotlibでカラーチャンネルの順番が異なるためです。OpenCVはB --> G --> R，MatplotlibはR --> B --> Gとして扱います。従って以下のようにカラーチャンネルの順番を変更します。\n",
        "\n",
        "\n",
        "\n",
        "```\n",
        "img_RGB = cv2.cvtColor(img, cv2.COLOR_BGR2RGB)   # 色変換 BGR ---> RGB\n",
        "plt.imshow(img_RGB)\n",
        "```\n",
        "\n"
      ]
    },
    {
      "cell_type": "code",
      "metadata": {
        "id": "vM_z3dTmV-O7",
        "scrolled": true
      },
      "source": [],
      "execution_count": null,
      "outputs": []
    },
    {
      "cell_type": "markdown",
      "metadata": {
        "id": "fAsiW6r5ed_Y"
      },
      "source": [
        "## 画像データの色\n",
        "R, G, Bの各チャンネルのデータのみをスライスするには次のようにします。\n",
        "\n",
        "\n",
        "\n",
        "```\n",
        "img_R = img_RGB[:, :, 0]    # Rチャンネルのみ\n",
        "img_G = img_RGB[:, :, 1]    # Gチャンネルのみ\n",
        "img_B = img_RGB[:, :, 2]    # Bチャンネルのみ\n",
        "```\n",
        "\n"
      ]
    },
    {
      "cell_type": "code",
      "metadata": {
        "id": "H8Bq62CJWIm6"
      },
      "source": [],
      "execution_count": null,
      "outputs": []
    },
    {
      "cell_type": "markdown",
      "metadata": {
        "id": "56ILKaFHenMo"
      },
      "source": [
        "Rチャンネルのデータのみを表示してみましょう。\n",
        "\n",
        "\n",
        "\n",
        "```\n",
        "plt.imshow(img_R, cmap=\"Reds\")\n",
        "plt.colorbar()\n",
        "```\n",
        "\n"
      ]
    },
    {
      "cell_type": "code",
      "metadata": {
        "id": "eiFAQ6jnWkr7"
      },
      "source": [],
      "execution_count": null,
      "outputs": []
    },
    {
      "cell_type": "markdown",
      "metadata": {
        "id": "EJBepIHhequv"
      },
      "source": [
        "Gチャンネルのデータのみを表示してみましょう。\n",
        "\n",
        "\n",
        "\n",
        "```\n",
        "plt.imshow(img_G, cmap=\"Greens\")\n",
        "plt.colorbar()\n",
        "```\n",
        "\n"
      ]
    },
    {
      "cell_type": "code",
      "metadata": {
        "id": "7wGYjUT1XH3T"
      },
      "source": [],
      "execution_count": null,
      "outputs": []
    },
    {
      "cell_type": "markdown",
      "metadata": {
        "id": "G6PFWOGEeuxv"
      },
      "source": [
        "Bチャンネルのデータのみを表示してみましょう。\n",
        "\n",
        "\n",
        "\n",
        "```\n",
        "plt.imshow(img_G, cmap=\"Blues\")\n",
        "plt.colorbar()\n",
        "```\n",
        "\n"
      ]
    },
    {
      "cell_type": "code",
      "metadata": {
        "id": "Og_BqRQNXU1C"
      },
      "source": [],
      "execution_count": null,
      "outputs": []
    },
    {
      "cell_type": "markdown",
      "metadata": {
        "id": "DQTHr0XBe25H"
      },
      "source": [
        "ここで猫のお尻のあたりのデータに注目してみましょう。カラー画像では白くなっている部分が，R, G, Bの各チャンネルのデータで濃い色（255に近い値）となっていることが分かります。一方，ベンチの脚など，カラー画像では黒くなっている部分では，R, G, Bの各チャンネルのデータが白い色（0に近い値）になっていることが分かります。つまりカラー画像を作るときは，R, G, Bの各値を最大値の255に近づけると白くなり，逆に0に近づけると黒い色になります。これを「加法混色」と言います。\n",
        "\n",
        "参考：https://www.dataplan.jp/blog/design/456"
      ]
    },
    {
      "cell_type": "markdown",
      "metadata": {
        "id": "iu8nPtWLfqeI"
      },
      "source": [
        "次のセルでred_value, green_value, blue_valueの値を変更して合成される色がどのように変化するか確認しましょう。\n",
        "\n",
        "参考　https://www.sysecol2.ethz.ch/_DevAux/Testing_and_Development/colormap.html\n",
        "\n",
        "\n",
        "\n",
        "```\n",
        "red_value = 255\n",
        "green_value = 120\n",
        "blue_value = 75\n",
        "\n",
        "test_img = np.zeros((5, 5, 3), dtype=\"uint8\")   # 5x5x3の配列，要素の値は全て0で初期化\n",
        "\n",
        "test_img[:, :, 0] = red_value        # redチャンネルの要素を全てred_valueにする\n",
        "test_img[:, :, 1] = green_value      # greenチャンネルの要素を全てgreen_valueにする\n",
        "test_img[:, :, 2] = blue_value       # blueチャンネルの要素を全てblue_valueにする\n",
        "\n",
        "plt.imshow(test_img)\n",
        "```\n",
        "\n"
      ]
    },
    {
      "cell_type": "code",
      "metadata": {
        "id": "e3shut5edL5h",
        "scrolled": true
      },
      "source": [],
      "execution_count": null,
      "outputs": []
    },
    {
      "cell_type": "markdown",
      "metadata": {
        "id": "xY3t_0K6U7NC"
      },
      "source": [
        "## 色調整"
      ]
    },
    {
      "cell_type": "markdown",
      "metadata": {
        "id": "m3j2ITueLqtJ"
      },
      "source": [
        "### ガンマ補正\n",
        "画像データの明るさを調整する方法としてガンマ補正と呼ばれる手法があります。ガンマ補正は元画像$\\mathrm{img}_\\mathrm{before}$の各ピクセルの値に対してガンマ$\\gamma$の値を用いて次の式を計算し，補正後の画像$\\mathrm{img}_\\mathrm{after}$を生成します。\n",
        "\n",
        "$\\displaystyle \\mathrm{img}_\\mathrm{after} = 255 \\times \\left( \\dfrac{\\mathrm{img}_\\mathrm{before}}{{255}}\\right)^\\gamma$\n",
        "\n",
        "参考：https://qiita.com/yoya/items/122b93970c190068c752"
      ]
    },
    {
      "cell_type": "markdown",
      "metadata": {
        "id": "MnLp71wXLqtJ"
      },
      "source": [
        "元画像の各ピクセルの値`x`と補正後の画像の各ピクセルの値`y`は次の関係になります。\n",
        "\n",
        "\n",
        "\n",
        "```\n",
        "plt.figure(figsize=(5, 5))\n",
        "x = np.arange(0, 256, 1)\n",
        "\n",
        "for gamma in [0.25, 0.5, 1, 2, 4]:\n",
        "    y = 255*(x/255)**gamma\n",
        "    plt.plot(x, y, label=f\"gamma={gamma:.2f}\")\n",
        "\n",
        "plt.xlabel(\"Input, x\")\n",
        "plt.ylabel(\"Output, y\")\n",
        "plt.grid()\n",
        "plt.legend()\n",
        "```\n",
        "\n"
      ]
    },
    {
      "cell_type": "code",
      "metadata": {
        "id": "4_D2rjFaLqtJ"
      },
      "source": [],
      "execution_count": null,
      "outputs": []
    },
    {
      "cell_type": "markdown",
      "metadata": {
        "id": "J3BkleQDLqtJ"
      },
      "source": [
        "実際にガンマ補正を適用してみましょう。\n",
        "\n",
        "\n",
        "\n",
        "```\n",
        "gamma = 0.5\n",
        "\n",
        "img_before = img_RGB.copy()                # img_RGBをimg_beforeにコピー\n",
        "img_after = 255*(img_before/255)**gamma    # ガンマ補正，データタイプは自動的にfloatに変更される\n",
        "img_after = img_after.astype(\"uint8\")      # データをuint8に変更\n",
        "\n",
        "plt.subplot(1, 2, 1)\n",
        "plt.imshow(img_before)\n",
        "plt.title(\"before\")\n",
        "\n",
        "plt.subplot(1, 2, 2)\n",
        "plt.imshow(img_after)\n",
        "plt.title(\"after\")\n",
        "```\n",
        "\n"
      ]
    },
    {
      "cell_type": "code",
      "metadata": {
        "id": "udppbLolLqtJ"
      },
      "source": [],
      "execution_count": null,
      "outputs": []
    },
    {
      "cell_type": "markdown",
      "metadata": {
        "id": "b1P7G2P7LqtJ"
      },
      "source": [
        "補正の前後でRGBの各ピクセルの値がどのような分布をしているのかヒストグラムを確認してみましょう。\n",
        "\n",
        "\n",
        "\n",
        "```\n",
        "bins = np.arange(0, 256, 5)\n",
        "colors = [\"red\", \"green\", \"blue\"]\n",
        "\n",
        "plt.figure(figsize=(8, 4))\n",
        "for i in range(3):\n",
        "    plt.subplot(2, 3, i+1)\n",
        "    plt.hist(img_before[:, :, i].reshape(-1), bins=bins, color=colors[i], label=colors[i], alpha=0.3)\n",
        "    plt.legend()\n",
        "    plt.title(\"Before\")\n",
        "    \n",
        "    plt.subplot(2, 3, i+4)\n",
        "    plt.hist(img_after[:, :, i].reshape(-1), bins=bins, color=colors[i], label=colors[i], alpha=0.3)\n",
        "    plt.legend()\n",
        "    plt.title(\"After\")\n",
        "\n",
        "plt.tight_layout()\n",
        "```\n",
        "\n"
      ]
    },
    {
      "cell_type": "code",
      "metadata": {
        "id": "iG9GOqZgmqfl"
      },
      "source": [],
      "execution_count": null,
      "outputs": []
    },
    {
      "cell_type": "markdown",
      "metadata": {
        "id": "MQf_SsfCLqtK"
      },
      "source": [
        "### 画像の保存\n",
        "\n",
        "\n",
        "\n",
        "```\n",
        "savepath = \"img_after.jpg\"                               # 保存先のパス\n",
        "img_after = cv2.cvtColor(img_after, cv2.COLOR_RGB2BGR)   # 色変換 RGB ---> BGR\n",
        "cv2.imwrite(savepath, img_after)                         # savepathにimg_afterの画像データを保存\n",
        "```\n",
        "\n"
      ]
    },
    {
      "cell_type": "code",
      "metadata": {
        "id": "t3GpZOKyLqtK"
      },
      "source": [],
      "execution_count": null,
      "outputs": []
    },
    {
      "cell_type": "markdown",
      "metadata": {
        "id": "U9ms-uoQmBoQ"
      },
      "source": [
        "### グレースケールと二値化"
      ]
    },
    {
      "cell_type": "markdown",
      "metadata": {
        "id": "6flZ1c4ei4AO"
      },
      "source": [
        "カラー画像からグレイスケール画像へ変換することもできます。\n",
        "\n",
        "\n",
        "\n",
        "```\n",
        "img_gray = cv2.cvtColor(img, cv2.COLOR_BGR2GRAY)   # 色変換 BGR ---> GRAY\n",
        "plt.imshow(img_gray, cmap=\"gray\")\n",
        "```\n",
        "\n"
      ]
    },
    {
      "cell_type": "code",
      "metadata": {
        "id": "OrRsyx23iffU"
      },
      "source": [],
      "execution_count": null,
      "outputs": []
    },
    {
      "cell_type": "markdown",
      "metadata": {
        "id": "dPfZcqk6i8c2"
      },
      "source": [
        "img_grayのshapeを確認するとカラーチャンネルが無くなったため487x650の二次元配列になっていることが分かります。\n",
        "\n",
        "\n",
        "\n",
        "```\n",
        "img_gray.shape\n",
        "```\n",
        "\n"
      ]
    },
    {
      "cell_type": "code",
      "metadata": {
        "id": "PmKmYw4Si0hH"
      },
      "source": [],
      "execution_count": null,
      "outputs": []
    },
    {
      "cell_type": "markdown",
      "metadata": {
        "id": "dkofwapQLqtL"
      },
      "source": [
        "グレースケール画像から二値化画像に変更します。二値化画像とは全てのピクセルを白（255）または黒（0）で表した画像のことです。元画像に対して閾値`threshold`を設定し二値化を行います。\n",
        "\n",
        "\n",
        "\n",
        "```\n",
        "threshold = 120         # 閾値を設定\n",
        "\n",
        "img_binary = img_gray.copy()         # img_grayをコピーしてimg_binaryを作成\n",
        "\n",
        "img_binary[img_gray >= threshold] = 255    # threshold以上の要素は全て255に変更\n",
        "img_binary[img_gray < threshold] = 0       # threshold未満の要素は全て0に変更\n",
        "\n",
        "plt.imshow(img_binary, cmap=\"gray\")\n",
        "```\n",
        "\n"
      ]
    },
    {
      "cell_type": "code",
      "metadata": {
        "id": "Cba066bmjHXw"
      },
      "source": [],
      "execution_count": null,
      "outputs": []
    },
    {
      "cell_type": "markdown",
      "metadata": {
        "id": "mXRtNoojLqtL"
      },
      "source": [
        "### 画像の保存\n",
        "\n",
        "\n",
        "\n",
        "```\n",
        "savepath = \"img_binary.jpg\"\n",
        "cv2.imwrite(savepath, img_binary)\n",
        "```\n",
        "\n"
      ]
    },
    {
      "cell_type": "code",
      "metadata": {
        "id": "t-jLtzZUhfto"
      },
      "source": [],
      "execution_count": null,
      "outputs": []
    },
    {
      "cell_type": "markdown",
      "metadata": {
        "id": "-pXAOtX9VH2C"
      },
      "source": [
        "## サイズ変更\n",
        "画像のサイズを変更(resize)することができます。Numpyのreshapeと違って要素数に関係なくどんなサイズでも変更可能です。\n",
        "\n",
        "\n",
        "\n",
        "```\n",
        "new_size = (200, 50)                          # 新しい画像サイズ\n",
        "img_resized = cv2.resize(img_RGB, new_size)   # サイズ変更\n",
        "plt.imshow(img_resized)\n",
        "```\n",
        "\n"
      ]
    },
    {
      "cell_type": "code",
      "metadata": {
        "id": "fWO0YeYaVOyh"
      },
      "source": [
        "new_size = (200, 50)                         # 新しい画像サイズ\n",
        "img_resized = cv2.resize(img_RGB, new_size)   # サイズ変更\n",
        "plt.figure(figsize=(5, 2.5))\n",
        "plt.imshow(img_resized)"
      ],
      "execution_count": null,
      "outputs": []
    }
  ]
}