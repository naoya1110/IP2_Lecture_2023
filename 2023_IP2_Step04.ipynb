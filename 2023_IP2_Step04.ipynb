{
  "nbformat": 4,
  "nbformat_minor": 0,
  "metadata": {
    "colab": {
      "provenance": [],
      "toc_visible": true,
      "authorship_tag": "ABX9TyNaeq3BPlbWCVcmWOnmPCV9",
      "include_colab_link": true
    },
    "kernelspec": {
      "name": "python3",
      "display_name": "Python 3"
    },
    "language_info": {
      "name": "python"
    }
  },
  "cells": [
    {
      "cell_type": "markdown",
      "metadata": {
        "id": "view-in-github",
        "colab_type": "text"
      },
      "source": [
        "<a href=\"https://colab.research.google.com/github/naoya1110/IP2_Lecture_2023/blob/main/2023_IP2_Step04.ipynb\" target=\"_parent\"><img src=\"https://colab.research.google.com/assets/colab-badge.svg\" alt=\"Open In Colab\"/></a>"
      ]
    },
    {
      "cell_type": "markdown",
      "metadata": {
        "id": "YH854bAreHnL"
      },
      "source": [
        "# Step04 制御文 if, for, while"
      ]
    },
    {
      "cell_type": "markdown",
      "metadata": {
        "id": "Rr4Jg1ZjdrPc"
      },
      "source": [
        "## 制御文 p.64-84\n",
        "制御文とはif, for, whileなどを使ったプログラムのことです。プログラムの実行順をコントロールすることができます。"
      ]
    },
    {
      "cell_type": "markdown",
      "metadata": {
        "id": "CP9HSuQ9TuVb"
      },
      "source": [
        "## if文 p.66-69\n",
        "条件によって異なる処理を行う場合に使用します。Pythonのif文は次のように書きます。\n",
        "\n",
        "#### 例１\n",
        "```\n",
        "if 条件式:\n",
        "    処理1\n",
        "else:\n",
        "    処理2\n",
        "```\n",
        "\n",
        "#### 例２\n",
        "```\n",
        "if 条件式1:\n",
        "    処理1\n",
        "elif 条件式2:\n",
        "    処理2a\n",
        "    処理2b\n",
        "else:\n",
        "    処理3\n",
        "```\n",
        "\n",
        "*   if文中の処理のブロックはインデント（字下げ）されています。インデントは通常タブ１個分，またはスペース４個分です。このインデントが正しくないとエラーが発生します。\n"
      ]
    },
    {
      "cell_type": "markdown",
      "metadata": {
        "id": "CuG9QwOFpdPw"
      },
      "source": [
        "### 整数か否かの判定\n",
        "\n",
        "\n",
        "\n",
        "```\n",
        "x = 3\n",
        "\n",
        "if x%1 == 0:\n",
        "    print(f\"{x}は整数です。\")\n",
        "else:\n",
        "    print(f\"{x}は整数ではありません\")\n",
        "```\n",
        "\n"
      ]
    },
    {
      "cell_type": "code",
      "metadata": {
        "id": "1ywYv4DZpYDf"
      },
      "source": [],
      "execution_count": null,
      "outputs": []
    },
    {
      "cell_type": "markdown",
      "metadata": {
        "id": "aOTX5RZZpxzf"
      },
      "source": [
        "### 奇数・偶数・それ以外を判定\n",
        "\n",
        "\n",
        "\n",
        "```\n",
        "x = 100\n",
        "\n",
        "if x%2 == 0:\n",
        "    print(f\"{x}は偶数です。\")\n",
        "    print(f\"{x} is an even number.\")\n",
        "elif x%2 == 1:\n",
        "    print(f\"{x}は奇数です。\")\n",
        "    print(f\"{x} is an odd number.\")\n",
        "else:\n",
        "    print(f\"{x}は整数ではありません。\")\n",
        "    print(f\"{x} is not an integer number.\")\n",
        "```\n",
        "\n"
      ]
    },
    {
      "cell_type": "code",
      "metadata": {
        "id": "GO6oc06gWK3P"
      },
      "source": [],
      "execution_count": null,
      "outputs": []
    },
    {
      "cell_type": "markdown",
      "metadata": {
        "id": "rhtJdyBnYZpf"
      },
      "source": [
        "## for文 p.70-73\n",
        "同じ処理を決まった回数繰り返す場合に使用します。書き方はいくつかありますので具体例を見てみましょう。"
      ]
    },
    {
      "cell_type": "markdown",
      "metadata": {
        "id": "r7BYPg1BYtzV"
      },
      "source": [
        "### n回繰り返す\n",
        "`i`はループの番号で0から始まります。\n",
        "\n",
        "\n",
        "\n",
        "```\n",
        "n = 5\n",
        "for i in range(n):\n",
        "    print(i)\n",
        "```\n",
        "\n"
      ]
    },
    {
      "cell_type": "code",
      "metadata": {
        "id": "muNzUc3BZCuu"
      },
      "source": [],
      "execution_count": null,
      "outputs": []
    },
    {
      "cell_type": "markdown",
      "metadata": {
        "id": "7_Vjd9otgBEy"
      },
      "source": [
        "`i`はループの中で使わなくても構いません。\n",
        "\n",
        "\n",
        "\n",
        "```\n",
        "n = 5\n",
        "for i in range(n):\n",
        "    print(\"hello\")\n",
        "```\n",
        "\n"
      ]
    },
    {
      "cell_type": "code",
      "metadata": {
        "id": "9JVoX91lYsJy"
      },
      "source": [],
      "execution_count": null,
      "outputs": []
    },
    {
      "cell_type": "markdown",
      "metadata": {
        "id": "XqbGo8gLY4gL"
      },
      "source": [
        "### リストを使って繰り返す\n",
        "リストを使うと簡単にループ内でリストの要素を取り出すことができます。\n",
        "\n",
        "\n",
        "\n",
        "```\n",
        "noodle_list = [\"うどん\", \"ラーメン\", \"スパゲッティ\", \"そば\"]\n",
        "\n",
        "for noodle in noodle_list:\n",
        "    print(noodle)\n",
        "```\n",
        "\n"
      ]
    },
    {
      "cell_type": "code",
      "metadata": {
        "id": "njduc1VQZQpN"
      },
      "source": [],
      "execution_count": null,
      "outputs": []
    },
    {
      "cell_type": "markdown",
      "metadata": {
        "id": "3UaKsdX8ZvfW"
      },
      "source": [
        "ループ番号をリストの指標として使って次のように書くと上のコードと同じ結果になりますが少し複雑かもしれません。\n",
        "\n",
        "\n",
        "\n",
        "```\n",
        "n = 4\n",
        "\n",
        "for i in range(n):\n",
        "    print(noodle_list[i])\n",
        "```\n",
        "\n"
      ]
    },
    {
      "cell_type": "code",
      "metadata": {
        "id": "e4aCqsvfZ6HP"
      },
      "source": [],
      "execution_count": null,
      "outputs": []
    },
    {
      "cell_type": "markdown",
      "metadata": {
        "id": "E1bhcQQ_Z3K6"
      },
      "source": [
        "リストのループ番号と要素の両方を使いたいときは`enumerate( )`を使います。\n",
        "\n",
        "\n",
        "\n",
        "```\n",
        "for i, noodle in enumerate(noodle_list):\n",
        "    print(f\"{i} {noodle}\")\n",
        "```\n",
        "\n"
      ]
    },
    {
      "cell_type": "code",
      "metadata": {
        "id": "njQgTmX0afA9"
      },
      "source": [],
      "execution_count": null,
      "outputs": []
    },
    {
      "cell_type": "markdown",
      "metadata": {
        "id": "suX4LDUFlZtz"
      },
      "source": [
        "### 文字列を使う？\n",
        "\n",
        "\n",
        "\n",
        "```\n",
        "for i in \"こんにちは\":\n",
        "    print(i)\n",
        "```\n",
        "\n"
      ]
    },
    {
      "cell_type": "code",
      "metadata": {
        "id": "AzUhQcCvlhum"
      },
      "source": [],
      "execution_count": null,
      "outputs": []
    },
    {
      "cell_type": "markdown",
      "metadata": {
        "id": "EWXOTnAWadHj"
      },
      "source": [
        "## while文 p.74-77\n",
        "条件式がTrueの間だけ，同じ処理を繰り返します。Pythonのwhile文は次のように書きます。\n",
        "\n",
        "\n",
        "```\n",
        "while (条件式):\n",
        "    処理1\n",
        "    処理2\n",
        "```\n",
        "\n"
      ]
    },
    {
      "cell_type": "markdown",
      "metadata": {
        "id": "s5z0J19Fg8p-"
      },
      "source": [
        "### 条件式がTrueの場合繰り返すプログラム\n",
        "\n",
        "\n",
        "\n",
        "\n",
        "```\n",
        "i = 0\n",
        "limit = 5\n",
        "\n",
        "while i < limit:\n",
        "    print(f\"{i}は{limit}より小さい\")\n",
        "    i = i + 1    # i += 1 と書いてもよい\n",
        "```\n",
        "\n"
      ]
    },
    {
      "cell_type": "code",
      "metadata": {
        "id": "oM83v2jCeiXe"
      },
      "source": [],
      "execution_count": null,
      "outputs": []
    },
    {
      "cell_type": "markdown",
      "metadata": {
        "id": "6d_KMUMdfSkW"
      },
      "source": [
        "### 無限ループにしておいて`break`で止める方法\n",
        "\n",
        "\n",
        "\n",
        "```\n",
        "i = 0\n",
        "limit = 5\n",
        "\n",
        "while True:   # 無限ループ\n",
        "    print(f\"{i}は{limit}より小さい\")\n",
        "    i += 1\n",
        "    if i >= limit:\n",
        "        break\n",
        "```\n",
        "\n"
      ]
    },
    {
      "cell_type": "code",
      "metadata": {
        "id": "yKceL8tVe0bs"
      },
      "source": [],
      "execution_count": null,
      "outputs": []
    },
    {
      "cell_type": "markdown",
      "source": [
        "## 番外編：文字入力"
      ],
      "metadata": {
        "id": "Eja3cVhiU4HK"
      }
    },
    {
      "cell_type": "markdown",
      "source": [
        "`input( )`を使うと文字を入力することができます。\n",
        "\n",
        "\n",
        "```\n",
        "x = input(\"文字を入力してください。\")\n",
        "print(x)\n",
        "```\n",
        "\n"
      ],
      "metadata": {
        "id": "huOELpsTV8rm"
      }
    },
    {
      "cell_type": "code",
      "source": [],
      "metadata": {
        "id": "N053clNEUGUC"
      },
      "execution_count": null,
      "outputs": []
    },
    {
      "cell_type": "markdown",
      "source": [
        "入力されたデータの型は必ず`str`（文字列）となります。\n",
        "\n",
        "\n",
        "\n",
        "```\n",
        "type(x)\n",
        "```\n",
        "\n"
      ],
      "metadata": {
        "id": "ZUsCMFxMWCAu"
      }
    },
    {
      "cell_type": "code",
      "source": [],
      "metadata": {
        "id": "GrtA5p9mUTeO"
      },
      "execution_count": null,
      "outputs": []
    },
    {
      "cell_type": "markdown",
      "source": [
        "数字を入力しても文字列として扱われます。数字として扱いたい場合は`int`または`float`に変換する必要があります。このようにデータ型を変換することをキャストと言います。\n",
        "\n",
        "\n",
        "\n",
        "```\n",
        "x = input(\"数字を入力してください。\")\n",
        "x = float(x)\n",
        "print(x)\n",
        "print(type(x))\n",
        "```\n",
        "\n"
      ],
      "metadata": {
        "id": "UQe5AkQvNCU7"
      }
    },
    {
      "cell_type": "code",
      "source": [],
      "metadata": {
        "id": "wpyAh4lHNP4C"
      },
      "execution_count": null,
      "outputs": []
    },
    {
      "cell_type": "markdown",
      "metadata": {
        "id": "WQ2LIIg9mPBR"
      },
      "source": [
        "## 応用"
      ]
    },
    {
      "cell_type": "markdown",
      "metadata": {
        "id": "BVJm_1Y7hFTu"
      },
      "source": [
        "### 素数判定プログラム\n",
        "キーボードから入力された数字が素数かどうかを判定するプログラムを作ります。素数の定義は次の通りです。\n",
        "\n",
        "\n",
        "*   1より大きい自然数（正の整数），１は含まない\n",
        "*   1とその数字以外では割り切れない\n",
        "\n",
        "\n",
        "\n",
        "```\n",
        "x = input(\"数字を入力してください。素数判定を行います。\")\n",
        "x = float(x)\n",
        "\n",
        "if (x < 2) or (x%1 != 0):\n",
        "    print(f\"{x}は素数ではありません\")\n",
        "\n",
        "else:\n",
        "    x = int(x)\n",
        "    for n in range(2, x+1):\n",
        "        if x%n == 0:\n",
        "            if x == n:\n",
        "                print(f\"{x}は素数です。\")\n",
        "                break\n",
        "            else:\n",
        "                print(f\"{x}は素数ではありません。{n}で割り切れます。\")\n",
        "                break\n",
        "```\n",
        "\n"
      ]
    },
    {
      "cell_type": "code",
      "metadata": {
        "id": "S3goKKgZvOGs"
      },
      "source": [],
      "execution_count": null,
      "outputs": []
    },
    {
      "cell_type": "markdown",
      "metadata": {
        "id": "ZNEbnucxuFcQ"
      },
      "source": [
        "## まとめ\n",
        "プログラムの基本，制御文について学びました。Pythonはインデントを使って制御文を書くという特徴があります。C言語とは異なりますので少しずつ慣れていきましょう。"
      ]
    }
  ]
}