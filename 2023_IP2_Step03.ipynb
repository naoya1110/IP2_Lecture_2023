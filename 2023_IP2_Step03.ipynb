{
  "nbformat": 4,
  "nbformat_minor": 0,
  "metadata": {
    "colab": {
      "provenance": [],
      "toc_visible": true,
      "authorship_tag": "ABX9TyOdWj0hhvM0IPyQ7kNDG/O+",
      "include_colab_link": true
    },
    "kernelspec": {
      "name": "python3",
      "display_name": "Python 3"
    },
    "language_info": {
      "name": "python"
    }
  },
  "cells": [
    {
      "cell_type": "markdown",
      "metadata": {
        "id": "view-in-github",
        "colab_type": "text"
      },
      "source": [
        "<a href=\"https://colab.research.google.com/github/naoya1110/IP2_Lecture_2023/blob/main/2023_IP2_Step03.ipynb\" target=\"_parent\"><img src=\"https://colab.research.google.com/assets/colab-badge.svg\" alt=\"Open In Colab\"/></a>"
      ]
    },
    {
      "cell_type": "markdown",
      "metadata": {
        "id": "YH854bAreHnL"
      },
      "source": [
        "# Step03 リスト，タプル，辞書\n",
        "\n",
        "Pythonではデータをまとめて取り扱うためにリスト型，タプル型，辞書型などのデータタイプがあります。"
      ]
    },
    {
      "cell_type": "markdown",
      "metadata": {
        "id": "Urq1dGoXRLab"
      },
      "source": [
        "## リスト\n",
        "\n"
      ]
    },
    {
      "cell_type": "markdown",
      "source": [
        "### リストの作り方 p.36\n",
        "リストは`[ ]`と`,`を使って以下のように作ります。リストの中身のデータのことを要素(element)と言います。\n",
        "\n",
        "\n",
        "\n",
        "```\n",
        "mylist = [\"うどん\", \"ラーメン\", \"スパゲッティ\", \"そば\"]\n",
        "print(mylist)\n",
        "print(type(mylist))\n",
        "```"
      ],
      "metadata": {
        "id": "M2V-A8av_jKZ"
      }
    },
    {
      "cell_type": "code",
      "metadata": {
        "id": "DU8dV_WERmlh"
      },
      "source": [],
      "execution_count": null,
      "outputs": []
    },
    {
      "cell_type": "markdown",
      "metadata": {
        "id": "K7iEV4o68UmR"
      },
      "source": [
        "リストに含まれる要素のデータタイプはバラバラでも構いません。\n",
        "\n",
        "\n",
        "\n",
        "```\n",
        "mylist2 = [1, 3.14, True, \"hello\"]\n",
        "mylist2\n",
        "```\n",
        "\n"
      ]
    },
    {
      "cell_type": "code",
      "metadata": {
        "id": "TzvW_wtFR1B4"
      },
      "source": [],
      "execution_count": null,
      "outputs": []
    },
    {
      "cell_type": "markdown",
      "source": [
        "### リストの情報 p.38\n",
        "リストの中の要素数は`len( )`関数（由来は長さ：length）を使って調べることができます。\n",
        "\n",
        "\n",
        "\n",
        "```\n",
        "len(mylist)\n",
        "```\n",
        "\n"
      ],
      "metadata": {
        "id": "ZgQS69nuBdJk"
      }
    },
    {
      "cell_type": "code",
      "source": [],
      "metadata": {
        "id": "4vhVxF30_8A8"
      },
      "execution_count": null,
      "outputs": []
    },
    {
      "cell_type": "markdown",
      "source": [
        "リストのなかに特定の要素が入っているか調べるには`in`を使います。\n",
        "\n",
        "\n",
        "\n",
        "```\n",
        "print(\"うどん\" in mylist)\n",
        "print(\"きしめん\" in mylist)\n",
        "```\n",
        "\n",
        "\n",
        "\n"
      ],
      "metadata": {
        "id": "Ex56zm3FAGHR"
      }
    },
    {
      "cell_type": "code",
      "source": [],
      "metadata": {
        "id": "of2iG2EvBazC"
      },
      "execution_count": null,
      "outputs": []
    },
    {
      "cell_type": "markdown",
      "metadata": {
        "id": "EnPkWN3w8tKI"
      },
      "source": [
        "### 要素の参照と代入 p.37\n",
        "リストの要素を参照する（取り出す）ためにはには指標(index)を使います。**指標の数字は0から始まります。**\n",
        "\n",
        "\n",
        "\n",
        "```\n",
        "mylist[0]\n",
        "```\n",
        "\n"
      ]
    },
    {
      "cell_type": "code",
      "source": [],
      "metadata": {
        "id": "A_MN8Vlkz2zZ"
      },
      "execution_count": null,
      "outputs": []
    },
    {
      "cell_type": "markdown",
      "metadata": {
        "id": "0usCYd-x9SEv"
      },
      "source": [
        "変数を使って指標を指定することもできます。\n",
        "\n",
        "\n",
        "\n",
        "```\n",
        "n = 1\n",
        "mylist[n]\n",
        "```\n",
        "\n"
      ]
    },
    {
      "cell_type": "code",
      "metadata": {
        "id": "LvNZJenl9Rkg"
      },
      "source": [],
      "execution_count": null,
      "outputs": []
    },
    {
      "cell_type": "markdown",
      "metadata": {
        "id": "Fy2pLBOm9DEG"
      },
      "source": [
        "リストの中から複数のデータを取り出すときは`:`（コロン）を使って次のように書きます。\n",
        "\n",
        "*   `mylist[n:m]` n番目からm番目のひとつ前までの要素\n",
        "*   `mylist[n:]`　n番目以降すべての要素（mを省略）\n",
        "*   `mylist[:m]`　m番目のひとつ前までのすべての要素（nを省略）\n",
        "\n",
        "実際に確認してみましょう。\n",
        "\n",
        "\n",
        "全ての要素\n",
        "```\n",
        "mylist\n",
        "```\n",
        "\n"
      ]
    },
    {
      "cell_type": "code",
      "source": [],
      "metadata": {
        "id": "F_o7Zei3asUO"
      },
      "execution_count": null,
      "outputs": []
    },
    {
      "cell_type": "markdown",
      "source": [
        "1番目から3番目のひとつ前（=2番目）までの要素を取り出す。\n",
        "\n",
        "```\n",
        "mylist[1:3]\n",
        "```\n",
        "\n"
      ],
      "metadata": {
        "id": "gIf7eo7Z0C9z"
      }
    },
    {
      "cell_type": "code",
      "metadata": {
        "id": "j3qH4f0P9AyI"
      },
      "source": [],
      "execution_count": null,
      "outputs": []
    },
    {
      "cell_type": "markdown",
      "source": [
        "2番目以降のすべての要素を取り出す。\n",
        "\n",
        "```\n",
        "mylist[2:]\n",
        "```\n",
        "\n"
      ],
      "metadata": {
        "id": "eS9mo1rl0GOJ"
      }
    },
    {
      "cell_type": "code",
      "metadata": {
        "id": "Ec0D4L5AAzDe"
      },
      "source": [],
      "execution_count": null,
      "outputs": []
    },
    {
      "cell_type": "markdown",
      "source": [
        "2番目のひとつ前（=1番目）までのすべての要素を取り出す。\n",
        "\n",
        "```\n",
        "mylist[:2]\n",
        "```\n",
        "\n"
      ],
      "metadata": {
        "id": "KWsNmaKG0N3B"
      }
    },
    {
      "cell_type": "code",
      "metadata": {
        "id": "n6N9Em6CA2Zl"
      },
      "source": [],
      "execution_count": null,
      "outputs": []
    },
    {
      "cell_type": "markdown",
      "source": [
        "指標を使ってリストの要素を代入（変更）することができます。\n",
        "\n",
        "```\n",
        "print(mylist)\n",
        "mylist[1] = \"タンタンメン\"\n",
        "print(mylist)\n",
        "```\n",
        "\n"
      ],
      "metadata": {
        "id": "LfA0AeI0BLIB"
      }
    },
    {
      "cell_type": "code",
      "source": [],
      "metadata": {
        "id": "zPJFmSD1BDGO"
      },
      "execution_count": null,
      "outputs": []
    },
    {
      "cell_type": "markdown",
      "source": [
        "### 要素の追加 p.40\n",
        "\n",
        "リストの最後尾に要素を追加するには`.append()`メソッドを使います。\n",
        "\n",
        "\n",
        "\n",
        "```\n",
        "mylist = [\"うどん\", \"ラーメン\", \"スパゲッティ\"]\n",
        "print(mylist)\n",
        "mylist.append(\"そば\")\n",
        "print(mylist)\n",
        "```\n",
        "\n"
      ],
      "metadata": {
        "id": "gZm94fPPCGBz"
      }
    },
    {
      "cell_type": "code",
      "source": [],
      "metadata": {
        "id": "5T7mtCXgCfcd"
      },
      "execution_count": null,
      "outputs": []
    },
    {
      "cell_type": "markdown",
      "source": [
        "特定の位置に要素を追加するには`.insert()`メソッドを使います。\n",
        "\n",
        "```\n",
        "mylist = [\"うどん\", \"ラーメン\", \"スパゲッティ\"]\n",
        "print(mylist)\n",
        "mylist.insert(1, \"そば\")\n",
        "print(mylist)\n",
        "```\n",
        "\n"
      ],
      "metadata": {
        "id": "yUjaCC0nDKSf"
      }
    },
    {
      "cell_type": "markdown",
      "source": [
        "### 要素の削除 p.42\n",
        "\n",
        "指標を指定して要素を削除するには`.pop()`メソッドを使います。\n",
        "\n",
        "```\n",
        "mylist = [\"うどん\", \"ラーメン\", \"スパゲッティ\"]\n",
        "print(mylist)\n",
        "mylist.pop(1)\n",
        "print(mylist)\n",
        "```\n",
        "\n"
      ],
      "metadata": {
        "id": "HBhYHyiMDgyL"
      }
    },
    {
      "cell_type": "code",
      "source": [],
      "metadata": {
        "id": "p7mLVAvMETx2"
      },
      "execution_count": null,
      "outputs": []
    },
    {
      "cell_type": "markdown",
      "source": [
        "特定の値を持つ要素を削除するには`.remove()`メソッドを使います。\n",
        "\n",
        "\n",
        "\n",
        "```\n",
        "mylist = [\"うどん\", \"ラーメン\", \"スパゲッティ\"]\n",
        "print(mylist)\n",
        "mylist.remove(\"スパゲッティ\")\n",
        "print(mylist)\n",
        "```\n",
        "\n"
      ],
      "metadata": {
        "id": "D9K8tEvnD_Nq"
      }
    },
    {
      "cell_type": "code",
      "source": [],
      "metadata": {
        "id": "s3vUTjhjD-TA"
      },
      "execution_count": null,
      "outputs": []
    },
    {
      "cell_type": "markdown",
      "source": [
        "### ソート p.44-45"
      ],
      "metadata": {
        "id": "7hNiFg2hErPV"
      }
    },
    {
      "cell_type": "markdown",
      "source": [
        "リストの要素を並べ替えるには`.sort()`メソッドを使います。デフォルトでは昇順（小→大）になります。\n",
        "\n",
        "```\n",
        "mylist = [4,20,0,-5,300]\n",
        "print(mylist)\n",
        "mylist.sort()\n",
        "print(mylist)\n",
        "```\n",
        "\n"
      ],
      "metadata": {
        "id": "Jx5yVRQNFaZO"
      }
    },
    {
      "cell_type": "code",
      "source": [],
      "metadata": {
        "id": "F3riN_7jEv3u"
      },
      "execution_count": null,
      "outputs": []
    },
    {
      "cell_type": "markdown",
      "source": [
        "降順（大→小）とするには`.sort(reverse=True)`とします。\n",
        "\n",
        "```\n",
        "mylist = [4,20,0,-5,300]\n",
        "print(mylist)\n",
        "mylist.sort(reverse=True)\n",
        "print(mylist)\n",
        "```\n",
        "\n"
      ],
      "metadata": {
        "id": "jxsNMOhlFp2j"
      }
    },
    {
      "cell_type": "code",
      "source": [],
      "metadata": {
        "id": "MhH1-SXxw1pp"
      },
      "execution_count": null,
      "outputs": []
    },
    {
      "cell_type": "markdown",
      "source": [
        "数値データ以外もソートすることができます。文字列の場合はアルファベット順になるようです。\n",
        "\n",
        "```\n",
        "mylist = [\"banana\", \"apple\", \"orange\"]\n",
        "print(mylist)\n",
        "mylist.sort()\n",
        "print(mylist)\n",
        "```\n",
        "\n"
      ],
      "metadata": {
        "id": "74Z_HyhwGLRK"
      }
    },
    {
      "cell_type": "code",
      "source": [],
      "metadata": {
        "id": "0REa6Ox9FKBw"
      },
      "execution_count": null,
      "outputs": []
    },
    {
      "cell_type": "markdown",
      "source": [
        "`sorted()`関数を使ってソートすることもできます。この場合,元のリストの順番は維持されます。\n",
        "\n",
        "\n",
        "\n",
        "```\n",
        "mylist = [4,20,0,-5,300]\n",
        "print(mylist)\n",
        "mylist_sorted = sorted(mylist)\n",
        "print(mylist)\n",
        "print(mylist_sorted)\n",
        "```\n",
        "\n"
      ],
      "metadata": {
        "id": "6gpQ0MkjGYV6"
      }
    },
    {
      "cell_type": "code",
      "source": [],
      "metadata": {
        "id": "JP2Oa5yPE9BQ"
      },
      "execution_count": null,
      "outputs": []
    },
    {
      "cell_type": "markdown",
      "source": [
        "## タプル"
      ],
      "metadata": {
        "id": "5fg_GLArHL2h"
      }
    },
    {
      "cell_type": "markdown",
      "source": [
        "### タプルの作り方 p.47\n",
        "タプルは`( )`と`,`を使って以下のように作ります。\n",
        "\n",
        "```\n",
        "mytuple = (\"うどん\", \"ラーメン\", \"スパゲッティ\")\n",
        "print(mytuple)\n",
        "print(type(mytuple))\n",
        "```"
      ],
      "metadata": {
        "id": "i13yxQU7HQwr"
      }
    },
    {
      "cell_type": "code",
      "source": [
        "mytuple = (\"うどん\", \"ラーメン\", \"スパゲッティ\")\n",
        "print(mytuple)\n",
        "print(type(mytuple))"
      ],
      "metadata": {
        "colab": {
          "base_uri": "https://localhost:8080/"
        },
        "id": "Sa85yekcH4AW",
        "outputId": "0f653603-4eb1-49ec-dff7-83733acf3eea"
      },
      "execution_count": null,
      "outputs": [
        {
          "output_type": "stream",
          "name": "stdout",
          "text": [
            "('うどん', 'ラーメン', 'スパゲッティ')\n",
            "<class 'tuple'>\n"
          ]
        }
      ]
    },
    {
      "cell_type": "markdown",
      "source": [
        "### 要素の参照\n",
        "\n",
        "リストと同じようにタプルも要素を参照できます。\n",
        "\n",
        "\n",
        "\n",
        "```\n",
        "mytuple = (\"うどん\", \"ラーメン\", \"スパゲッティ\")\n",
        "mytuple[1]\n",
        "```\n",
        "\n"
      ],
      "metadata": {
        "id": "9HE6oG-BIqdr"
      }
    },
    {
      "cell_type": "code",
      "source": [],
      "metadata": {
        "id": "2DFwXG9xI64r"
      },
      "execution_count": null,
      "outputs": []
    },
    {
      "cell_type": "markdown",
      "source": [
        "### リストとタプルの違い p.46\n",
        "\n",
        "リストと異なりタプルは変更できません。\n",
        "\n",
        "```\n",
        "mytuple = (\"うどん\", \"ラーメン\", \"スパゲッティ\")\n",
        "mytuple[1] = \"タンタンメン\"\n",
        "```"
      ],
      "metadata": {
        "id": "OoZd1r4sIFc3"
      }
    },
    {
      "cell_type": "code",
      "source": [],
      "metadata": {
        "id": "_yWcw5qiIbDP"
      },
      "execution_count": null,
      "outputs": []
    },
    {
      "cell_type": "markdown",
      "source": [
        "## 辞書\n",
        "辞書型(dict)は複数のデータについてキー(key)と値(value)をセットにして扱います。\n",
        "\n",
        "\n"
      ],
      "metadata": {
        "id": "daTKzqgORong"
      }
    },
    {
      "cell_type": "markdown",
      "source": [
        "### 辞書の作り方 p.48\n",
        "たとえばスーパーでリンゴ(apple)，バナナ(banana)，オレンジ(orange)が以下の値段で売られていたとします。\n",
        "\n",
        "|  商品 (key)  |  値段 (value)  |\n",
        "| ---- | ---- |\n",
        "|  リンゴ(apple)  |  100 円  |\n",
        "|  バナナ(banana)  |  200 円 |\n",
        "|  オレンジ(orange)  |  300 円 |\n",
        "\n",
        "このデータを辞書型で作成するには次のように書きます。\n",
        "```\n",
        "price_dict = {\"apple\":100,\n",
        "              \"banana\":200,\n",
        "              \"orange\":300}\n",
        "\n",
        "print(price_dict)\n",
        "print(type(price_dict))\n",
        "```"
      ],
      "metadata": {
        "id": "bqUAUHI1X42r"
      }
    },
    {
      "cell_type": "code",
      "source": [],
      "metadata": {
        "id": "MjBB5Tw9WwYK"
      },
      "execution_count": null,
      "outputs": []
    },
    {
      "cell_type": "markdown",
      "source": [
        "### 要素の参照と代入 p.49-50\n",
        "辞書型データの要素の値はキーを使って取り出すことができます。\n",
        "\n",
        "\n",
        "\n",
        "```\n",
        "price_dict = {\"apple\":100, \"banana\":200, \"orange\":300}\n",
        "price_dict[\"apple\"]    # appleの値を参照\n",
        "```\n",
        "\n"
      ],
      "metadata": {
        "id": "t5A8hjngY0Qb"
      }
    },
    {
      "cell_type": "code",
      "source": [],
      "metadata": {
        "id": "E8_AIAcYaXuw"
      },
      "execution_count": null,
      "outputs": []
    },
    {
      "cell_type": "markdown",
      "source": [
        "要素の値を変更（代入）する場合は次のように書きます。\n",
        "\n",
        "\n",
        "\n",
        "```\n",
        "price_dict = {\"apple\":100, \"banana\":200, \"orange\":300}\n",
        "print(price_dict)\n",
        "price_dict[\"banana\"] = 20000    # bananaの値を2000に変更\n",
        "print(price_dict)\n",
        "```\n",
        "\n"
      ],
      "metadata": {
        "id": "tAKdEJKpbsCG"
      }
    },
    {
      "cell_type": "code",
      "source": [],
      "metadata": {
        "id": "Z74zWRGFZOXu"
      },
      "execution_count": null,
      "outputs": []
    },
    {
      "cell_type": "markdown",
      "source": [
        "### 要素の追加\n",
        "辞書型データに新しい要素(keyとvalue)を追加することもできます。\n",
        "\n",
        "\n",
        "\n",
        "```\n",
        "price_dict = {\"apple\":100, \"banana\":200, \"orange\":300}\n",
        "print(price_dict)\n",
        "price_dict[\"pineapple\"] = 400\n",
        "print(price_dict)\n",
        "```\n",
        "\n"
      ],
      "metadata": {
        "id": "6dv7zjygaHDv"
      }
    },
    {
      "cell_type": "code",
      "source": [],
      "metadata": {
        "id": "ZeA9AHVsZLiY"
      },
      "execution_count": null,
      "outputs": []
    },
    {
      "cell_type": "markdown",
      "source": [
        "### 要素の削除\n",
        "要素を削除するには`.pop()`メソッドを使用します。\n",
        "\n",
        "\n",
        "\n",
        "```\n",
        "price_dict = {\"apple\":100, \"banana\":200, \"orange\":300}\n",
        "print(price_dict)\n",
        "price_dict.pop(\"banana\")\n",
        "print(price_dict)\n",
        "```\n",
        "\n"
      ],
      "metadata": {
        "id": "06zmBZiEb6bx"
      }
    },
    {
      "cell_type": "code",
      "source": [],
      "metadata": {
        "id": "COOncEG2b3wQ"
      },
      "execution_count": null,
      "outputs": []
    },
    {
      "cell_type": "markdown",
      "source": [
        "### キーと値のそれぞれのリスト p.54\n",
        "要素のキーだけをまとめて取り出すには`.keys()`メソッドを使います。\n",
        "\n",
        "\n",
        "\n",
        "```\n",
        "price_dict = {\"apple\":100, \"banana\":200, \"orange\":300}\n",
        "print(price_dict.keys())       # キーを取り出す\n",
        "print(list(price_dict.keys())) # さらにリストに変換\n",
        "```\n",
        "\n"
      ],
      "metadata": {
        "id": "RWCHfD6_fXfe"
      }
    },
    {
      "cell_type": "code",
      "source": [],
      "metadata": {
        "id": "iF0ogqnUXpyn"
      },
      "execution_count": null,
      "outputs": []
    },
    {
      "cell_type": "markdown",
      "source": [
        "要素の値だけをまとめて取り出すには`.values()`メソッドを使います。\n",
        "\n",
        "\n",
        "```\n",
        "price_dict = {\"apple\":100, \"banana\":200, \"orange\":300}\n",
        "print(price_dict.values())       # 値を取り出す\n",
        "print(list(price_dict.values())) # さらにリストに変換\n",
        "```\n"
      ],
      "metadata": {
        "id": "qNQMyBS_fqTf"
      }
    },
    {
      "cell_type": "code",
      "source": [],
      "metadata": {
        "id": "OabthwawZiV_"
      },
      "execution_count": null,
      "outputs": []
    },
    {
      "cell_type": "markdown",
      "metadata": {
        "id": "ZNEbnucxuFcQ"
      },
      "source": [
        "## まとめ\n",
        "リスト，タプル，辞書について学びました。これらも最初から暗記する必要はありません。たくさんプログラムを書いていけば自然に覚えられます。大事なことは自分でたくさんプログラムを書いてみることです。"
      ]
    }
  ]
}