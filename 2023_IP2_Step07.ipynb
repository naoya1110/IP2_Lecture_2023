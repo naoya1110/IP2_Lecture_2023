{
  "nbformat": 4,
  "nbformat_minor": 0,
  "metadata": {
    "colab": {
      "provenance": [],
      "toc_visible": true,
      "include_colab_link": true
    },
    "kernelspec": {
      "display_name": "Python 3",
      "language": "python",
      "name": "python3"
    },
    "language_info": {
      "codemirror_mode": {
        "name": "ipython",
        "version": 3
      },
      "file_extension": ".py",
      "mimetype": "text/x-python",
      "name": "python",
      "nbconvert_exporter": "python",
      "pygments_lexer": "ipython3",
      "version": "3.7.6"
    }
  },
  "cells": [
    {
      "cell_type": "markdown",
      "metadata": {
        "id": "view-in-github",
        "colab_type": "text"
      },
      "source": [
        "<a href=\"https://colab.research.google.com/github/naoya1110/IP2_Lecture_2023/blob/main/2023_IP2_Step07.ipynb\" target=\"_parent\"><img src=\"https://colab.research.google.com/assets/colab-badge.svg\" alt=\"Open In Colab\"/></a>"
      ]
    },
    {
      "cell_type": "markdown",
      "metadata": {
        "id": "YH854bAreHnL"
      },
      "source": [
        "# Step07 複素数と電気回路\n",
        "\n"
      ]
    },
    {
      "cell_type": "markdown",
      "metadata": {
        "id": "Rr4Jg1ZjdrPc"
      },
      "source": [
        "## はじめに\n",
        "Pythonでは複素数も扱うことができます。複素数の計算ができるので電気回路（正弦波交流回路）の問題も解くことができます。"
      ]
    },
    {
      "cell_type": "markdown",
      "metadata": {
        "id": "CP9HSuQ9TuVb"
      },
      "source": [
        "## パッケージのインポート\n",
        "NumpyやMatplotlibを使用します。\n",
        "\n",
        "\n",
        "\n",
        "```\n",
        "import numpy as np\n",
        "import matplotlib.pyplot as plt\n",
        "```\n",
        "\n"
      ]
    },
    {
      "cell_type": "code",
      "metadata": {
        "id": "NLPREtp_d5Xm"
      },
      "source": [],
      "execution_count": null,
      "outputs": []
    },
    {
      "cell_type": "markdown",
      "metadata": {
        "id": "hBdaOzHoqAhL"
      },
      "source": [
        "## 複素数\n",
        "複素数の作り方は2種類あります。"
      ]
    },
    {
      "cell_type": "markdown",
      "metadata": {
        "id": "KWReB03aqSL8"
      },
      "source": [
        "### 複素数の作り方1\n",
        "虚数単位`j`を使って作る方法です。\n",
        "\n",
        "例えば$\\displaystyle \\boldsymbol{c}=3+j5$という複素数であれば次のように書きます。\n",
        "\n",
        "\n",
        "\n",
        "```\n",
        "c = 3+5j\n",
        "c\n",
        "```\n",
        "\n"
      ]
    },
    {
      "cell_type": "code",
      "metadata": {
        "id": "c2S5rvb31MpN"
      },
      "source": [],
      "execution_count": null,
      "outputs": []
    },
    {
      "cell_type": "markdown",
      "source": [
        "データタイプは複素数を表す`complex`となります。\n",
        "\n",
        "\n",
        "```\n",
        "type(c)\n",
        "```\n",
        "\n"
      ],
      "metadata": {
        "id": "6RUKNzCIC40u"
      }
    },
    {
      "cell_type": "code",
      "source": [],
      "metadata": {
        "id": "dGANxNI6C81z"
      },
      "execution_count": null,
      "outputs": []
    },
    {
      "cell_type": "markdown",
      "source": [
        "数学や電気回路と違って`j`は虚部の値の最後につけます。`3+j5`ではないことに注意しましょう。\n",
        "\n",
        "\n",
        "\n",
        "```\n",
        "# このコードはエラーになります。\n",
        "3+j5\n",
        "```\n",
        "\n"
      ],
      "metadata": {
        "id": "NPwe7TvxCtsY"
      }
    },
    {
      "cell_type": "code",
      "source": [],
      "metadata": {
        "id": "c5bquxSNCqDY"
      },
      "execution_count": null,
      "outputs": []
    },
    {
      "cell_type": "markdown",
      "source": [
        "虚数単位$j=\\sqrt{-1}$は`j`だけではなく`1j`と書く必要があります。\n",
        "\n",
        "\n",
        "\n",
        "```\n",
        "1j\n",
        "```\n",
        "\n"
      ],
      "metadata": {
        "id": "P905jlH7DFbU"
      }
    },
    {
      "cell_type": "code",
      "source": [],
      "metadata": {
        "id": "1S8Wo8H9DDrD"
      },
      "execution_count": null,
      "outputs": []
    },
    {
      "cell_type": "markdown",
      "metadata": {
        "id": "24HemHZhq-9y"
      },
      "source": [
        "したがって$\\displaystyle \\boldsymbol{c}=3+j$の場合は次のように書きます。\n",
        "\n",
        "\n",
        "\n",
        "```\n",
        "c = 3+1j\n",
        "c\n",
        "```\n",
        "\n"
      ]
    },
    {
      "cell_type": "code",
      "metadata": {
        "id": "zTvciDg11Up6"
      },
      "source": [],
      "execution_count": null,
      "outputs": []
    },
    {
      "cell_type": "markdown",
      "metadata": {
        "id": "BwYpyvUEsGyC"
      },
      "source": [
        "### 複素数の作り方2\n",
        "もう一つの方法は`complex(実部の値, 虚部の値)`と記述する方法です。\n",
        "\n",
        "たとえば$\\displaystyle \\boldsymbol{c}=2+j4$は次のように作ります。\n",
        "\n",
        "```\n",
        "c = complex(2, 4)\n",
        "c\n",
        "```\n",
        "\n"
      ]
    },
    {
      "cell_type": "code",
      "metadata": {
        "id": "ztQ293f64-7c"
      },
      "source": [],
      "execution_count": null,
      "outputs": []
    },
    {
      "cell_type": "markdown",
      "source": [
        "### 複素数の計算\n",
        "複素数$\\displaystyle \\boldsymbol{c}$についていろいろな値を求めてみましょう。"
      ],
      "metadata": {
        "id": "q6H3j-frFUIi"
      }
    },
    {
      "cell_type": "markdown",
      "metadata": {
        "id": "PrX-8Ag4sb28"
      },
      "source": [
        "#### 実部\n",
        "\n",
        "\n",
        "\n",
        "\n",
        "```\n",
        "c.real\n",
        "```\n",
        "\n",
        "\n",
        "\n"
      ]
    },
    {
      "cell_type": "code",
      "metadata": {
        "id": "UhY_Abd_5FwL"
      },
      "source": [],
      "execution_count": null,
      "outputs": []
    },
    {
      "cell_type": "markdown",
      "source": [
        "\n",
        "\n",
        "```\n",
        "np.real(c)\n",
        "```\n",
        "\n"
      ],
      "metadata": {
        "id": "SAG_34bMPmXi"
      }
    },
    {
      "cell_type": "code",
      "source": [],
      "metadata": {
        "id": "RRbRaab7PpJJ"
      },
      "execution_count": null,
      "outputs": []
    },
    {
      "cell_type": "markdown",
      "source": [
        "#### 虚部\n",
        "\n",
        "\n",
        "\n",
        "```\n",
        "c.imag\n",
        "```\n",
        "\n"
      ],
      "metadata": {
        "id": "qS5vyndiFB7V"
      }
    },
    {
      "cell_type": "code",
      "source": [],
      "metadata": {
        "id": "mI0NIosPE979"
      },
      "execution_count": null,
      "outputs": []
    },
    {
      "cell_type": "markdown",
      "source": [
        "\n",
        "\n",
        "```\n",
        "np.imag(c)\n",
        "```\n",
        "\n"
      ],
      "metadata": {
        "id": "zxANC8ALPwGx"
      }
    },
    {
      "cell_type": "code",
      "source": [],
      "metadata": {
        "id": "f6-D0Yl2F42u"
      },
      "execution_count": null,
      "outputs": []
    },
    {
      "cell_type": "markdown",
      "metadata": {
        "id": "mZJ1HhGJsz0a"
      },
      "source": [
        "#### 大きさ（絶対値）\n",
        "absolute value\n",
        "\n",
        "\n",
        "```\n",
        "abs(c)\n",
        "```"
      ]
    },
    {
      "cell_type": "code",
      "metadata": {
        "id": "c7Cgc5bo5JYz"
      },
      "source": [],
      "execution_count": null,
      "outputs": []
    },
    {
      "cell_type": "markdown",
      "source": [
        "\n",
        "\n",
        "```\n",
        "np.abs(c)\n",
        "```\n",
        "\n"
      ],
      "metadata": {
        "id": "NyAga2ipP4q6"
      }
    },
    {
      "cell_type": "code",
      "source": [],
      "metadata": {
        "id": "YXPrfxMHF6pA"
      },
      "execution_count": null,
      "outputs": []
    },
    {
      "cell_type": "markdown",
      "source": [
        "#### 偏角\n",
        "単位を[rad]とする場合\n",
        "\n",
        "\n",
        "```\n",
        "np.angle(c, deg=False)\n",
        "```\n"
      ],
      "metadata": {
        "id": "SMnE8rBdGaUy"
      }
    },
    {
      "cell_type": "code",
      "source": [],
      "metadata": {
        "id": "03mnRdCvGD3m"
      },
      "execution_count": null,
      "outputs": []
    },
    {
      "cell_type": "markdown",
      "source": [
        "単位を[deg]とする場合\n",
        "\n",
        "\n",
        "\n",
        "```\n",
        "np.angle(c, deg=True)\n",
        "```\n",
        "\n"
      ],
      "metadata": {
        "id": "bA_06FKrGeO4"
      }
    },
    {
      "cell_type": "code",
      "source": [],
      "metadata": {
        "id": "yiTdfERPGYzQ"
      },
      "execution_count": null,
      "outputs": []
    },
    {
      "cell_type": "markdown",
      "source": [
        "または$\\tan^{-1}$を使って求めることもできます。この場合も単位は[rad]になります。\n",
        "\n",
        "\n",
        "\n",
        "```\n",
        "np.arctan(c.imag/c.real)\n",
        "```\n",
        "\n"
      ],
      "metadata": {
        "id": "P3L9R9FPL4zr"
      }
    },
    {
      "cell_type": "code",
      "source": [],
      "metadata": {
        "id": "B4KJX9nCMJ-d"
      },
      "execution_count": null,
      "outputs": []
    },
    {
      "cell_type": "markdown",
      "metadata": {
        "id": "4yKLPAHSwy_5"
      },
      "source": [
        "#### [rad]と[deg]の変換"
      ]
    },
    {
      "cell_type": "markdown",
      "source": [
        "rad ---> deg\n",
        "\n",
        "\n",
        "\n",
        "```\n",
        "np.rad2deg(np.pi)\n",
        "```\n",
        "\n"
      ],
      "metadata": {
        "id": "FrgNq2BRH-HP"
      }
    },
    {
      "cell_type": "code",
      "metadata": {
        "id": "qY9askBFw8kJ"
      },
      "source": [],
      "execution_count": null,
      "outputs": []
    },
    {
      "cell_type": "markdown",
      "source": [
        "deg ---> rad\n",
        "\n",
        "\n",
        "\n",
        "```\n",
        "np.deg2rad(180)\n",
        "```\n",
        "\n"
      ],
      "metadata": {
        "id": "LnGCFfySIAdM"
      }
    },
    {
      "cell_type": "code",
      "source": [],
      "metadata": {
        "id": "apMXlwGlHxh3"
      },
      "execution_count": null,
      "outputs": []
    },
    {
      "cell_type": "markdown",
      "source": [
        "#### 共役複素数\n",
        "complex conjugate\n",
        "\n",
        "\n",
        "\n",
        "```\n",
        "np.conj(c)\n",
        "```\n",
        "\n"
      ],
      "metadata": {
        "id": "Rt2FdzHbGlv-"
      }
    },
    {
      "cell_type": "code",
      "source": [],
      "metadata": {
        "id": "Beq8mE7VFM8z"
      },
      "execution_count": null,
      "outputs": []
    },
    {
      "cell_type": "markdown",
      "metadata": {
        "id": "cgzU_OQ6ujDD"
      },
      "source": [
        "#### 四則演算\n",
        "\n",
        "通常の計算と同じです。\n",
        "\n",
        "$\\displaystyle \\boldsymbol{a}=3+j5$, $\\displaystyle \\boldsymbol{b}=2-j4$として次の演算をしてみましょう。\n",
        "\n",
        "\n",
        "\n",
        "```\n",
        "a = 3+5j\n",
        "b = 2-4j\n",
        "```\n",
        "\n"
      ]
    },
    {
      "cell_type": "code",
      "metadata": {
        "id": "NdUrL4Iavntx"
      },
      "source": [],
      "execution_count": null,
      "outputs": []
    },
    {
      "cell_type": "markdown",
      "source": [
        "$\\displaystyle \\boldsymbol{a}+\\boldsymbol{b}$\n",
        "\n",
        "\n",
        "\n",
        "```\n",
        "a+b\n",
        "```\n",
        "\n"
      ],
      "metadata": {
        "id": "LsEr79Docz8R"
      }
    },
    {
      "cell_type": "code",
      "metadata": {
        "id": "KLrux2LXtCTy"
      },
      "source": [],
      "execution_count": null,
      "outputs": []
    },
    {
      "cell_type": "markdown",
      "source": [
        "$\\displaystyle \\boldsymbol{a}-\\boldsymbol{b}$\n",
        "\n",
        "\n",
        "\n",
        "```\n",
        "a-b\n",
        "```\n",
        "\n"
      ],
      "metadata": {
        "id": "iC4-9UY1c7Bs"
      }
    },
    {
      "cell_type": "code",
      "source": [],
      "metadata": {
        "id": "b3VE2EXEHahA"
      },
      "execution_count": null,
      "outputs": []
    },
    {
      "cell_type": "markdown",
      "source": [
        "$\\displaystyle \\boldsymbol{a}\\times\\boldsymbol{b}$\n",
        "\n",
        "\n",
        "```\n",
        "a*b\n",
        "```\n",
        "\n"
      ],
      "metadata": {
        "id": "JVHqycL4c8kv"
      }
    },
    {
      "cell_type": "code",
      "source": [],
      "metadata": {
        "id": "iCydW9MZHcGN"
      },
      "execution_count": null,
      "outputs": []
    },
    {
      "cell_type": "markdown",
      "source": [
        "$\\displaystyle \\boldsymbol{a}/\\boldsymbol{b}$\n",
        "\n",
        "\n",
        "\n",
        "```\n",
        "a/b\n",
        "```\n",
        "\n"
      ],
      "metadata": {
        "id": "uDFU-8t0c-if"
      }
    },
    {
      "cell_type": "code",
      "source": [],
      "metadata": {
        "id": "D50wIvetHdJU"
      },
      "execution_count": null,
      "outputs": []
    },
    {
      "cell_type": "markdown",
      "source": [
        "$\\displaystyle \\boldsymbol{a}^3$\n",
        "\n",
        "\n",
        "\n",
        "```\n",
        "a**3\n",
        "```\n",
        "\n"
      ],
      "metadata": {
        "id": "FMUzw3s2dAKj"
      }
    },
    {
      "cell_type": "code",
      "source": [],
      "metadata": {
        "id": "ikfmIDrDHeNB"
      },
      "execution_count": null,
      "outputs": []
    },
    {
      "cell_type": "markdown",
      "metadata": {
        "id": "dOrFuUE4x6QZ"
      },
      "source": [
        "### フェーザ表示\n",
        "フェーザ表示はそのままPythonでは扱えません。例えば$\\displaystyle \\boldsymbol{c}=5e^{j\\pi/6}$であればオイラーの公式を用いて展開して次のように扱います。\n",
        "\n",
        "$\\displaystyle \\boldsymbol{c}=5e^{j\\pi/6}=5\\left( \\cos(\\pi/6) + j\\sin(\\pi/6) \\right)=A\\left( \\cos\\theta + j\\sin\\theta \\right)=Ae^{j\\theta}$\n",
        "\n",
        "\n",
        "\n",
        "```\n",
        "A = 5\n",
        "theta = np.pi/6\n",
        "\n",
        "c = A*complex(np.cos(theta), np.sin(theta))\n",
        "c\n",
        "```\n",
        "\n"
      ]
    },
    {
      "cell_type": "code",
      "metadata": {
        "id": "usfDozSmyiJJ"
      },
      "source": [],
      "execution_count": null,
      "outputs": []
    },
    {
      "cell_type": "markdown",
      "source": [
        "### ベクトル表示\n",
        "matplotlibの矢印描画機能を使って複素数のベクトルを表示してみましょう。\n",
        "\n",
        "\n",
        "\n",
        "```\n",
        "plt.figure(figsize=(5,5))\n",
        "\n",
        "# 複素数cを定義\n",
        "c = 2 + 2j\n",
        "\n",
        "# 矢印の始点と終点の辞書型データ\n",
        "points = {\"start\":(0,0),\n",
        "          \"end\":(np.real(c), np.imag(c))}\n",
        "\n",
        "# 矢印を描画\n",
        "plt.annotate(xy=points[\"end\"], xytext=points[\"start\"], text=\"\",\n",
        "             arrowprops=dict(shrink=0, width=1, headwidth=8, headlength=10, connectionstyle='arc3',\n",
        "                             facecolor=\"black\", edgecolor=\"black\"))\n",
        "\n",
        "plt.xlim(-4,4)\n",
        "plt.ylim(-4,4)\n",
        "plt.xlabel(\"Real Part\")\n",
        "plt.ylabel(\"Imaginary Part\")\n",
        "plt.grid()\n",
        "```\n",
        "\n"
      ],
      "metadata": {
        "id": "Zo2lcqSTRmc7"
      }
    },
    {
      "cell_type": "code",
      "source": [],
      "metadata": {
        "id": "l3nxNsgIxrfR"
      },
      "execution_count": null,
      "outputs": []
    },
    {
      "cell_type": "markdown",
      "metadata": {
        "id": "nvZcvQ-7xhbB"
      },
      "source": [
        "## 電気回路\n",
        "電気回路IIで出された演習問題を解いてみましょう\n"
      ]
    },
    {
      "cell_type": "markdown",
      "source": [
        "### 問題2\n",
        "次の複素数を直交形式に直しなさい。"
      ],
      "metadata": {
        "id": "SzbBNXyMI1kl"
      }
    },
    {
      "cell_type": "markdown",
      "source": [
        "#### (1) $\\displaystyle \\boldsymbol{c}=2e^{j\\pi/3}$\n",
        "\n",
        "\n",
        "\n",
        "```\n",
        "A = 2\n",
        "theta = np.pi/3\n",
        "\n",
        "c = A*complex(np.cos(theta), np.sin(theta))\n",
        "c\n",
        "```\n",
        "\n"
      ],
      "metadata": {
        "id": "BQaCx_d5JWAm"
      }
    },
    {
      "cell_type": "code",
      "metadata": {
        "id": "ODpDPCtvJ_gx"
      },
      "source": [],
      "execution_count": null,
      "outputs": []
    },
    {
      "cell_type": "markdown",
      "source": [
        "#### (2) $\\displaystyle \\boldsymbol{c}=3e^{-j\\pi/4}$"
      ],
      "metadata": {
        "id": "J6drEIZfJe_6"
      }
    },
    {
      "cell_type": "code",
      "source": [],
      "metadata": {
        "id": "8wq71GAMJkWY"
      },
      "execution_count": null,
      "outputs": []
    },
    {
      "cell_type": "markdown",
      "source": [
        "#### (3) $\\displaystyle \\boldsymbol{c}=4e^{-j\\pi/2}$"
      ],
      "metadata": {
        "id": "n-sMgMgQJrFf"
      }
    },
    {
      "cell_type": "code",
      "source": [],
      "metadata": {
        "id": "uS1s0-pGJrFf"
      },
      "execution_count": null,
      "outputs": []
    },
    {
      "cell_type": "markdown",
      "source": [
        "### 問題3\n",
        "次の複素数を極形式に直しなさい。（大きさと偏角を求めなさい）"
      ],
      "metadata": {
        "id": "lqB8x902I-oK"
      }
    },
    {
      "cell_type": "markdown",
      "source": [
        "#### (1) $\\displaystyle \\boldsymbol{c}=\\sqrt{3}+j$\n",
        "\n",
        "\n",
        "\n",
        "```\n",
        "c = np.sqrt(3)+1j\n",
        "print(\"大きさ\", np.abs(c))\n",
        "print(\"偏角\", np.angle(c, deg=False), \"[rad]\")\n",
        "print(\"偏角\", np.angle(c, deg=True), \"[deg]\")\n",
        "```\n",
        "\n"
      ],
      "metadata": {
        "id": "Uk9gw2MvKaLC"
      }
    },
    {
      "cell_type": "code",
      "source": [],
      "metadata": {
        "id": "lpzd4M4VKkKN"
      },
      "execution_count": null,
      "outputs": []
    },
    {
      "cell_type": "markdown",
      "source": [
        "#### (2) $\\displaystyle \\boldsymbol{c}=2-j2$"
      ],
      "metadata": {
        "id": "odhIokRoLZ1f"
      }
    },
    {
      "cell_type": "code",
      "source": [],
      "metadata": {
        "id": "XzMA5Hr2LZ1f"
      },
      "execution_count": null,
      "outputs": []
    },
    {
      "cell_type": "markdown",
      "source": [
        "#### (3) $\\displaystyle \\boldsymbol{c}=3+j4$"
      ],
      "metadata": {
        "id": "jvOssDq7Lab8"
      }
    },
    {
      "cell_type": "code",
      "source": [],
      "metadata": {
        "id": "hlGKwOMQLab8"
      },
      "execution_count": null,
      "outputs": []
    },
    {
      "cell_type": "markdown",
      "source": [
        "### 問題4\n",
        " $\\displaystyle \\boldsymbol{A}=2-j2$, $\\displaystyle\\boldsymbol{B}=2e^{j\\pi/3} $とするとき次の計算をしなさい。\n",
        "\n",
        "\n",
        "```\n",
        "A = 2-2j\n",
        "B = 2*complex(np.cos(np.pi/3), np.sin(np.pi/3))\n",
        "print(A)\n",
        "print(B)\n",
        "```\n",
        "\n"
      ],
      "metadata": {
        "id": "-aFP_posMzBC"
      }
    },
    {
      "cell_type": "code",
      "metadata": {
        "id": "nCDAJV2t4RFn"
      },
      "source": [],
      "execution_count": null,
      "outputs": []
    },
    {
      "cell_type": "markdown",
      "source": [
        "#### (1) $|\\displaystyle\\boldsymbol{A}|$"
      ],
      "metadata": {
        "id": "2ydeR3rBNZ7o"
      }
    },
    {
      "cell_type": "code",
      "source": [],
      "metadata": {
        "id": "6gu8PFYYNXSP"
      },
      "execution_count": null,
      "outputs": []
    },
    {
      "cell_type": "markdown",
      "source": [
        "#### (2) $|\\displaystyle\\boldsymbol{B}|$"
      ],
      "metadata": {
        "id": "nbNRat3uNjyy"
      }
    },
    {
      "cell_type": "code",
      "source": [],
      "metadata": {
        "id": "CGeDsrMyNjyy"
      },
      "execution_count": null,
      "outputs": []
    },
    {
      "cell_type": "markdown",
      "source": [
        "#### (3) $\\displaystyle \\overline{\\boldsymbol{A}}$"
      ],
      "metadata": {
        "id": "SPEFCadINsIZ"
      }
    },
    {
      "cell_type": "code",
      "source": [],
      "metadata": {
        "id": "WrRVvTHaN4Cg"
      },
      "execution_count": null,
      "outputs": []
    },
    {
      "cell_type": "markdown",
      "source": [
        "#### (4) $\\displaystyle \\overline{\\boldsymbol{B}}$"
      ],
      "metadata": {
        "id": "ULlwHVkqN9z8"
      }
    },
    {
      "cell_type": "code",
      "source": [],
      "metadata": {
        "id": "XhEtI8_HN9z8"
      },
      "execution_count": null,
      "outputs": []
    },
    {
      "cell_type": "markdown",
      "source": [
        "#### (5) $\\displaystyle \\boldsymbol{A}+\\boldsymbol{B}$"
      ],
      "metadata": {
        "id": "C64-o_97QZPe"
      }
    },
    {
      "cell_type": "code",
      "source": [],
      "metadata": {
        "id": "oVa7WY47QZPf"
      },
      "execution_count": null,
      "outputs": []
    },
    {
      "cell_type": "markdown",
      "source": [
        "#### (6) $\\displaystyle \\boldsymbol{A}-\\boldsymbol{B}$"
      ],
      "metadata": {
        "id": "Q5eJpyp6Qthh"
      }
    },
    {
      "cell_type": "code",
      "source": [],
      "metadata": {
        "id": "mJmuQjfoQthh"
      },
      "execution_count": null,
      "outputs": []
    },
    {
      "cell_type": "markdown",
      "source": [
        "#### (7) $\\displaystyle \\boldsymbol{A}\\boldsymbol{B}$"
      ],
      "metadata": {
        "id": "K0JlWSlzQwoN"
      }
    },
    {
      "cell_type": "code",
      "source": [],
      "metadata": {
        "id": "iwBliDtoQwoN"
      },
      "execution_count": null,
      "outputs": []
    },
    {
      "cell_type": "markdown",
      "source": [
        "#### (8) $\\displaystyle \\boldsymbol{A}/\\boldsymbol{B}$"
      ],
      "metadata": {
        "id": "jhsOZQ_oQwzm"
      }
    },
    {
      "cell_type": "code",
      "source": [],
      "metadata": {
        "id": "rGfsCE-rQwzm"
      },
      "execution_count": null,
      "outputs": []
    },
    {
      "cell_type": "markdown",
      "source": [
        "### 問題5"
      ],
      "metadata": {
        "id": "lAJCPZsWQ_gu"
      }
    },
    {
      "cell_type": "markdown",
      "source": [
        "![image.png](data:image/png;base64,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)"
      ],
      "metadata": {
        "id": "uSdS6JZMx_ou"
      }
    },
    {
      "cell_type": "markdown",
      "source": [
        "#### $\\displaystyle \\boldsymbol{E}$\n",
        "\n",
        "```\n",
        "E = 10*complex(np.cos(0), np.sin(0))\n",
        "E\n",
        "```\n",
        "\n"
      ],
      "metadata": {
        "id": "6y7CnT09UnaK"
      }
    },
    {
      "cell_type": "code",
      "metadata": {
        "id": "vJVPWGtk0Dts"
      },
      "source": [],
      "execution_count": null,
      "outputs": []
    },
    {
      "cell_type": "markdown",
      "source": [
        "#### $\\displaystyle \\boldsymbol{I}$\n",
        "\n",
        "\n",
        "```\n",
        "I = 2*complex(np.cos(-np.pi/4), np.sin(-np.pi/4))\n",
        "I\n",
        "```\n",
        "\n"
      ],
      "metadata": {
        "id": "jKQVM08dUski"
      }
    },
    {
      "cell_type": "code",
      "source": [],
      "metadata": {
        "id": "Lgunk2tXSY4V"
      },
      "execution_count": null,
      "outputs": []
    },
    {
      "cell_type": "markdown",
      "source": [
        "#### $\\displaystyle \\boldsymbol{Z}$\n",
        "\n",
        "```\n",
        "Z = E/I\n",
        "Z\n",
        "```"
      ],
      "metadata": {
        "id": "zb6nYCUPTMbm"
      }
    },
    {
      "cell_type": "code",
      "source": [],
      "metadata": {
        "id": "CKLQvKqUSV39"
      },
      "execution_count": null,
      "outputs": []
    },
    {
      "cell_type": "markdown",
      "source": [
        "#### $\\displaystyle \\boldsymbol{P}$\n",
        "\n",
        "\n",
        "\n",
        "```\n",
        "P = E*np.conj(I)\n",
        "P\n",
        "```\n",
        "\n"
      ],
      "metadata": {
        "id": "VaNMJN8ETTb_"
      }
    },
    {
      "cell_type": "code",
      "source": [],
      "metadata": {
        "id": "VW5thehIScxa"
      },
      "execution_count": null,
      "outputs": []
    },
    {
      "cell_type": "markdown",
      "source": [
        "#### $P_a$\n",
        "\n",
        "\n",
        "```\n",
        "P_a = np.real(P)\n",
        "P_a\n",
        "```\n",
        "\n"
      ],
      "metadata": {
        "id": "TBJysMdfTcKB"
      }
    },
    {
      "cell_type": "code",
      "source": [],
      "metadata": {
        "id": "eFIbE9PRShnG"
      },
      "execution_count": null,
      "outputs": []
    },
    {
      "cell_type": "markdown",
      "source": [
        "#### $P_r$\n",
        "\n",
        "\n",
        "\n",
        "```\n",
        "P_r = np.imag(P)\n",
        "P_r\n",
        "```\n",
        "\n"
      ],
      "metadata": {
        "id": "1u__1kMhTfrL"
      }
    },
    {
      "cell_type": "code",
      "source": [],
      "metadata": {
        "id": "hB9wBnnrSle9"
      },
      "execution_count": null,
      "outputs": []
    },
    {
      "cell_type": "markdown",
      "source": [
        "#### $\\displaystyle |\\boldsymbol{P}|$\n",
        "\n",
        "\n",
        "\n",
        "```\n",
        "P_app = np.abs(P)\n",
        "P_app\n",
        "```\n",
        "\n"
      ],
      "metadata": {
        "id": "8sLK3hhoTmYx"
      }
    },
    {
      "cell_type": "code",
      "source": [],
      "metadata": {
        "id": "R8usAdWJSofl"
      },
      "execution_count": null,
      "outputs": []
    },
    {
      "cell_type": "markdown",
      "source": [
        "#### $\\displaystyle P_a/|\\boldsymbol{P}|$\n",
        "\n",
        "```\n",
        "power_factor = P_a/P_app\n",
        "power_factor\n",
        "```\n",
        "\n"
      ],
      "metadata": {
        "id": "o4ulkT3VTqe_"
      }
    },
    {
      "cell_type": "code",
      "source": [],
      "metadata": {
        "id": "x6zTxxz9S2Q_"
      },
      "execution_count": null,
      "outputs": []
    },
    {
      "cell_type": "markdown",
      "source": [
        "### 問題8"
      ],
      "metadata": {
        "id": "sC9UrItST00U"
      }
    },
    {
      "cell_type": "markdown",
      "source": [
        "![image.png](data:image/png;base64,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)"
      ],
      "metadata": {
        "id": "l02o-5IpXyFM"
      }
    },
    {
      "cell_type": "markdown",
      "source": [
        "#### (1) $\\displaystyle \\boldsymbol{Z}$\n",
        "\n",
        "\n",
        "\n",
        "```\n",
        "w = 100             # [rad/s]\n",
        "R = 50*np.sqrt(3)   # [Ohm]\n",
        "C = 200E-6          # [F]\n",
        "\n",
        "Z = R + 1/(1j*w*C)\n",
        "Z\n",
        "```\n",
        "\n"
      ],
      "metadata": {
        "id": "nqpWmGpGUhNs"
      }
    },
    {
      "cell_type": "code",
      "source": [],
      "metadata": {
        "id": "X0MT39a0Uk60"
      },
      "execution_count": null,
      "outputs": []
    },
    {
      "cell_type": "markdown",
      "source": [
        "#### (2) $\\displaystyle \\boldsymbol{I}$\n",
        "\n",
        "\n",
        "\n",
        "```\n",
        "E = complex(20, 0)   # [V]\n",
        "\n",
        "I = E/Z\n",
        "I\n",
        "```\n",
        "\n"
      ],
      "metadata": {
        "id": "k3_X21UqVLlc"
      }
    },
    {
      "cell_type": "code",
      "source": [],
      "metadata": {
        "id": "4Km-qsVKU3kn"
      },
      "execution_count": null,
      "outputs": []
    },
    {
      "cell_type": "markdown",
      "source": [
        "#### (3) $\\displaystyle \\boldsymbol{V}_R$\n",
        "\n",
        "\n",
        "\n",
        "```\n",
        "V_R = R*I\n",
        "V_R\n",
        "```\n",
        "\n"
      ],
      "metadata": {
        "id": "7ExlipDEVUv5"
      }
    },
    {
      "cell_type": "code",
      "source": [],
      "metadata": {
        "id": "Bv9KEdQdVR3f"
      },
      "execution_count": null,
      "outputs": []
    },
    {
      "cell_type": "markdown",
      "source": [
        "#### (4) $\\displaystyle \\boldsymbol{V}_C$\n",
        "\n",
        "```\n",
        "V_C = (1/(1j*w*C))*I\n",
        "V_C\n",
        "```\n",
        "\n"
      ],
      "metadata": {
        "id": "WQB3GuvGVo4v"
      }
    },
    {
      "cell_type": "code",
      "source": [],
      "metadata": {
        "id": "us_lRTqZVeFX"
      },
      "execution_count": null,
      "outputs": []
    },
    {
      "cell_type": "markdown",
      "source": [
        "#### (5) $\\displaystyle \\boldsymbol{Y}$\n",
        "\n",
        "\n",
        "```\n",
        "Y = 1/Z\n",
        "Y\n",
        "```\n"
      ],
      "metadata": {
        "id": "QFkspowJVsYB"
      }
    },
    {
      "cell_type": "code",
      "source": [],
      "metadata": {
        "id": "ef1Y1TAHVoTr"
      },
      "execution_count": null,
      "outputs": []
    },
    {
      "cell_type": "markdown",
      "source": [
        "#### (6)-1 電圧ベクトル\n",
        "\n",
        "\n",
        "```\n",
        "plt.figure(figsize=(5,5))\n",
        "\n",
        "# E\n",
        "c=E\n",
        "points = {\"start\":(0,0), \"end\":(np.real(c), np.imag(c))}\n",
        "plt.annotate(xy=points[\"end\"], xytext=points[\"start\"], text=\"\",  \n",
        "             arrowprops=dict(shrink=0, width=1, headwidth=8,\n",
        "                             headlength=10, connectionstyle='arc3',\n",
        "                             facecolor=\"black\", edgecolor=\"black\"))\n",
        "\n",
        "# V_R\n",
        "c = V_R\n",
        "points = {\"start\":(0,0), \"end\":(np.real(V_R), np.imag(V_R))}\n",
        "plt.annotate(xy=points[\"end\"], xytext=points[\"start\"], text=\"\",\n",
        "             arrowprops=dict(shrink=0, width=1, headwidth=8,\n",
        "                             headlength=10, connectionstyle='arc3',\n",
        "                             facecolor=\"red\", edgecolor=\"red\"))\n",
        "\n",
        "# V_C\n",
        "c = V_C\n",
        "points = {\"start\":(0,0), \"end\":(np.real(c), np.imag(c))}\n",
        "plt.annotate(xy=points[\"end\"], xytext=points[\"start\"], text=\"\",  \n",
        "             arrowprops=dict(shrink=0, width=1, headwidth=8,\n",
        "                             headlength=10, connectionstyle='arc3',\n",
        "                             facecolor=\"blue\", edgecolor=\"blue\"))\n",
        "\n",
        "plt.xlim(-30, 30)\n",
        "plt.ylim(-30, 30)\n",
        "plt.xlabel(\"Real Part\")\n",
        "plt.ylabel(\"Imaginary Part\")\n",
        "plt.grid()\n",
        "```\n",
        "\n"
      ],
      "metadata": {
        "id": "PgZwyWRVWuz7"
      }
    },
    {
      "cell_type": "code",
      "source": [],
      "metadata": {
        "id": "TE_YWYOryKKv"
      },
      "execution_count": null,
      "outputs": []
    },
    {
      "cell_type": "markdown",
      "source": [
        "#### (6)-2 電流ベクトル\n",
        "\n",
        "```\n",
        "plt.figure(figsize=(5,5))\n",
        "\n",
        "# I\n",
        "c=I\n",
        "points = {\"start\":(0,0), \"end\":(np.real(c), np.imag(c))}\n",
        "plt.annotate(xy=points[\"end\"], xytext=points[\"start\"], text=\"\",  \n",
        "             arrowprops=dict(shrink=0, width=1, headwidth=8,\n",
        "                             headlength=10, connectionstyle='arc3',\n",
        "                             facecolor=\"black\", edgecolor=\"black\"))\n",
        "\n",
        "\n",
        "plt.xlim(-0.3, 0.3)\n",
        "plt.ylim(-0.3, 0.3)\n",
        "plt.xlabel(\"Real Part\")\n",
        "plt.ylabel(\"Imaginary Part\")\n",
        "plt.grid()\n",
        "```\n",
        "\n"
      ],
      "metadata": {
        "id": "uqLcJ-BnZE9p"
      }
    },
    {
      "cell_type": "code",
      "source": [],
      "metadata": {
        "id": "JUYGMivrYq7E"
      },
      "execution_count": null,
      "outputs": []
    },
    {
      "cell_type": "markdown",
      "source": [
        "#### (7) 位相差"
      ],
      "metadata": {
        "id": "M9ckgCmhfsUQ"
      }
    },
    {
      "cell_type": "markdown",
      "source": [
        "$\\displaystyle \\boldsymbol{E}$と$\\displaystyle \\boldsymbol{V}_R$  \n",
        "\n",
        "\n",
        "\n",
        "```\n",
        "phase_E = np.angle(E, deg=False)\n",
        "phase_V_R = np.angle(V_R, deg=False)\n",
        "phase_diff = phase_E - phase_V_R\n",
        "\n",
        "print(\"Eの位相\", phase_E)\n",
        "print(\"V_Rの位相\", phase_V_R)\n",
        "print(\"EとV_Rの位相差\", phase_diff)\n",
        "```\n",
        "\n"
      ],
      "metadata": {
        "id": "sTkQUymqfw8G"
      }
    },
    {
      "cell_type": "code",
      "source": [],
      "metadata": {
        "id": "Q0Es1vX6rV57"
      },
      "execution_count": null,
      "outputs": []
    },
    {
      "cell_type": "markdown",
      "source": [
        "#### $\\displaystyle \\boldsymbol{Z}$のベクトル軌跡\n",
        "\n",
        "\n",
        "\n",
        "```\n",
        "plt.figure(figsize=(5,5))\n",
        "\n",
        "ws = np.logspace(1, 5, 10)\n",
        "\n",
        "for w in ws:\n",
        "    Z = R + 1/(1j*w*C)\n",
        "    c = Z\n",
        "\n",
        "    points = {\"start\":(0,0), \"end\":(np.real(c), np.imag(c))}\n",
        "\n",
        "    # 矢印を描画\n",
        "    plt.annotate(xy=points[\"end\"], xytext=points[\"start\"], text=\"\",  \n",
        "                arrowprops=dict(shrink=0, width=1, headwidth=8,\n",
        "                                headlength=10, connectionstyle='arc3',\n",
        "                                facecolor=\"black\", edgecolor=\"black\"))\n",
        "\n",
        "plt.xlim(-200, 200)\n",
        "plt.ylim(-200, 200)\n",
        "plt.xlabel(\"Real Part\")\n",
        "plt.ylabel(\"Imaginary Part\")\n",
        "plt.grid()\n",
        "```\n",
        "\n"
      ],
      "metadata": {
        "id": "MLM0UbwwbXex"
      }
    },
    {
      "cell_type": "code",
      "source": [],
      "metadata": {
        "id": "8BXdKzLFZJOJ"
      },
      "execution_count": null,
      "outputs": []
    },
    {
      "cell_type": "markdown",
      "source": [
        "#### $\\displaystyle \\boldsymbol{Y}$のベクトル軌跡\n",
        "\n",
        "\n",
        "\n",
        "```\n",
        "plt.figure(figsize=(5,5))\n",
        "\n",
        "ws = np.logspace(1, 5, 10)\n",
        "\n",
        "for w in ws:\n",
        "    Z = R + 1/(1j*w*C)\n",
        "    c = 1/Z\n",
        "\n",
        "    points = {\"start\":(0,0), \"end\":(np.real(c), np.imag(c))}\n",
        "    \n",
        "    plt.annotate(xy=points[\"end\"], xytext=points[\"start\"], text=\"\",  \n",
        "                arrowprops=dict(shrink=0, width=1, headwidth=8,\n",
        "                                headlength=10, connectionstyle='arc3',\n",
        "                                facecolor=\"black\", edgecolor=\"black\"))\n",
        "\n",
        "\n",
        "plt.xlim(-0.015, 0.015)\n",
        "plt.ylim(-0.015, 0.015)\n",
        "plt.xlabel(\"Real Part\")\n",
        "plt.ylabel(\"Imaginary Part\")\n",
        "plt.grid()\n",
        "```\n",
        "\n"
      ],
      "metadata": {
        "id": "Q8BHIC51bJq0"
      }
    },
    {
      "cell_type": "code",
      "source": [],
      "metadata": {
        "id": "rYEOZrM2aa7L"
      },
      "execution_count": null,
      "outputs": []
    }
  ]
}