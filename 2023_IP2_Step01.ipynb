{
  "nbformat": 4,
  "nbformat_minor": 0,
  "metadata": {
    "colab": {
      "provenance": [],
      "toc_visible": true,
      "include_colab_link": true
    },
    "kernelspec": {
      "name": "python3",
      "display_name": "Python 3"
    },
    "language_info": {
      "name": "python"
    }
  },
  "cells": [
    {
      "cell_type": "markdown",
      "metadata": {
        "id": "view-in-github",
        "colab_type": "text"
      },
      "source": [
        "<a href=\"https://colab.research.google.com/github/naoya1110/IP2_Lecture_2023/blob/main/2023_IP2_Step01.ipynb\" target=\"_parent\"><img src=\"https://colab.research.google.com/assets/colab-badge.svg\" alt=\"Open In Colab\"/></a>"
      ]
    },
    {
      "cell_type": "markdown",
      "metadata": {
        "id": "YH854bAreHnL"
      },
      "source": [
        "# Step01 Pythonプログラミング超入門"
      ]
    },
    {
      "cell_type": "markdown",
      "metadata": {
        "id": "Rr4Jg1ZjdrPc"
      },
      "source": [
        "## はじめに\n",
        "この授業ではプログラミング言語Pythonを使ったプログラミングを学びます。ただし，プログラムの書き方を暗記することが目的ではありません。実際に使えるプログラミングスキルを身に付け，工学実験やセミナー，卒業研究に役に立てることが目的です。\n",
        "\n",
        "プログラミングスキルを身に付けるためにとにかく実践あるのみです。最初は授業で与えられたサンプルコードを自分で記述してみて動作を確認するところから始めましょう。サンプルコードが正しく動いたら，自分でコードを少し変更し何が変わるか見てみましょう。\n",
        "\n",
        "これを何度も繰り返していけば自分の作りたいプログラムが作れるようになります。それが実際に使えるプログラミングスキルを身に付けたということです。"
      ]
    },
    {
      "cell_type": "markdown",
      "metadata": {
        "id": "VfCGCZ93hoqr"
      },
      "source": [
        "## 教科書/参考書\n",
        "\n",
        "*   （教科書）Pythonの絵本 Pythonを楽しく学ぶ9つの扉   株式会社アンク https://www.amazon.co.jp/dp/4798155136/\n",
        "*   （参考書）Pythonプログラミング逆引き大全 400の極意   金城俊哉 https://www.amazon.co.jp/dp/\n",
        "*   Python関連の本は図書館にもたくさんあります"
      ]
    },
    {
      "cell_type": "markdown",
      "metadata": {
        "id": "TrCTrd72fkgW"
      },
      "source": [
        "## 基本の文字表示（なにはともあれHello World!）p.4-5"
      ]
    },
    {
      "cell_type": "markdown",
      "metadata": {
        "id": "WuctV4kldjnZ"
      },
      "source": [
        "次のコードを実行して`Hello World!`を表示してみましょう。\n",
        "\n",
        "\n",
        "```\n",
        "print(\"Hello World!\")\n",
        "```\n",
        "\n"
      ]
    },
    {
      "cell_type": "code",
      "metadata": {
        "colab": {
          "base_uri": "https://localhost:8080/"
        },
        "id": "7aaYl3K_dZpU",
        "outputId": "d6fcfb00-b8f2-43d3-c861-373e07f0e069"
      },
      "source": [
        "print(\"Hello World!\")"
      ],
      "execution_count": null,
      "outputs": [
        {
          "output_type": "stream",
          "name": "stdout",
          "text": [
            "Hello World!\n"
          ]
        }
      ]
    },
    {
      "cell_type": "markdown",
      "metadata": {
        "id": "XljkmeM_jGvJ"
      },
      "source": [
        "文字を表示するには`print()`を使用します。表示したい文字はシングルクォート(`'`)またはダブルクォート(`\"`)で囲みます。`'`でも`\"`でも結果は同じです。\n",
        "\n",
        "\n",
        "\n",
        "\n",
        "```\n",
        "print('Hello World!')\n",
        "print(\"Hello World!\")\n",
        "```\n",
        "\n",
        "\n",
        "\n"
      ]
    },
    {
      "cell_type": "code",
      "metadata": {
        "id": "MqQy_1mVjF9y"
      },
      "source": [],
      "execution_count": null,
      "outputs": []
    },
    {
      "cell_type": "markdown",
      "metadata": {
        "id": "uq_m-8d8kuHZ"
      },
      "source": [
        "日本語（全角文字）も表示できます。\n",
        "\n",
        "\n",
        "\n",
        "```\n",
        "print(\"こんにちは\")\n",
        "```\n",
        "\n"
      ]
    },
    {
      "cell_type": "code",
      "metadata": {
        "id": "hSeVtpwwktoK"
      },
      "source": [],
      "execution_count": null,
      "outputs": []
    },
    {
      "cell_type": "markdown",
      "metadata": {
        "id": "EQ2pJYz4lHQ8"
      },
      "source": [
        "ただし，全角文字はシングルクォートまたはダブルクォートの内側でのみ使用できます。それ以外はエラーが発生します。\n",
        "\n",
        "\n",
        "\n",
        "```\n",
        "こんにちは\n",
        "```\n",
        "\n"
      ]
    },
    {
      "cell_type": "code",
      "metadata": {
        "id": "fdGCXJtxlFQ_"
      },
      "source": [],
      "execution_count": null,
      "outputs": []
    },
    {
      "cell_type": "markdown",
      "metadata": {
        "id": "X9TnnelclvXX"
      },
      "source": [
        "特に全角スペースは目に見えないのでデバッグが少し難しくなるので気を付けましょう。試しにprint(\"Hello World!\")の後ろに全角スペースを入れて実行してみましょう。\n",
        "\n",
        "\n",
        "\n",
        "```\n",
        "print(\"Hello World!\")\n",
        "```\n",
        "\n"
      ]
    },
    {
      "cell_type": "code",
      "metadata": {
        "id": "4ayNDqdUluNI"
      },
      "source": [],
      "execution_count": null,
      "outputs": []
    },
    {
      "cell_type": "markdown",
      "source": [
        "エラーメッセージが出たときはその意味を調べてみましょう。プログラミングにエラー（バグ）はつきものです。どれだけエラーに対処できるかがプログラミング能力と言っても過言ではありません。"
      ],
      "metadata": {
        "id": "nTXgpJWmMO-H"
      }
    },
    {
      "cell_type": "markdown",
      "metadata": {
        "id": "ZZ2qfP-5n6w-"
      },
      "source": [
        "## 変数を使った文字表示 p.6-7"
      ]
    },
    {
      "cell_type": "markdown",
      "metadata": {
        "id": "EJ9EjcvaoFnz"
      },
      "source": [
        "次のコードを実行してみましょう。`name`という変数に`\"大谷翔平\"`という文字列を代入し，それを表示します。\n",
        "\n",
        "\n",
        "\n",
        "```\n",
        "name = \"大谷翔平\"\n",
        "print(name)\n",
        "```\n",
        "\n"
      ]
    },
    {
      "cell_type": "code",
      "metadata": {
        "id": "Pe-fdzXloS5Y"
      },
      "source": [],
      "execution_count": null,
      "outputs": []
    },
    {
      "cell_type": "markdown",
      "metadata": {
        "id": "XXG-a7JzpFuM"
      },
      "source": [
        "次のコードを実行してみましょう。複数の変数をカンマ(,)やプラス(+)を使って一度に表示することもできます。ただし結果は少し異なります。どのように異なるか観察してみましょう。\n",
        "\n",
        "\n",
        "\n",
        "```\n",
        "first_name = \"Shohei\"\n",
        "family_name = \"Ohtani\"\n",
        "\n",
        "print(first_name, family_name)\n",
        "print(first_name + family_name)\n",
        "```\n",
        "\n"
      ]
    },
    {
      "cell_type": "code",
      "metadata": {
        "id": "SZ1enyzDpLL_"
      },
      "source": [],
      "execution_count": null,
      "outputs": []
    },
    {
      "cell_type": "markdown",
      "metadata": {
        "id": "F22B3bOTp252"
      },
      "source": [
        "次のコードを実行してみましょう。数字も表示することができます。ちなみに`first_name`と`family_name`は上のセルがすでに実行されていればその時の値が保持されているので再度記述する必要はありません。\n",
        "\n",
        "\n",
        "\n",
        "```\n",
        "age = 27\n",
        "\n",
        "print(\"I am\", first_name, family_name, \".\")\n",
        "print(\"I am\", age, \"years old.\")\n",
        "```\n",
        "\n"
      ]
    },
    {
      "cell_type": "code",
      "metadata": {
        "id": "SyptxK_PqOrm"
      },
      "source": [],
      "execution_count": null,
      "outputs": []
    },
    {
      "cell_type": "markdown",
      "metadata": {
        "id": "A0Lgs75xqo06"
      },
      "source": [
        "ちょっと複雑ですが次のような書き方もできます。この書き方はf-strings（f文字列）と呼ばれます。\n",
        "\n",
        "\n",
        "```\n",
        "print(f\"I am {first_name} {family_name}.\")\n",
        "print(f\"I am {age} years old.\")\n",
        "```\n",
        "\n"
      ]
    },
    {
      "cell_type": "code",
      "metadata": {
        "id": "FFSDZ6G-qvY3"
      },
      "source": [],
      "execution_count": null,
      "outputs": []
    },
    {
      "cell_type": "markdown",
      "metadata": {
        "id": "_upt0vePrM8J"
      },
      "source": [
        "f-stringsを使えば数値をいろいろな形式で表示することができます。今すぐ覚える必要はありませんが使えるようになるととても便利です。\n",
        "\n",
        "\n",
        "\n",
        "```\n",
        "pi = 3.141592\n",
        "\n",
        "print(pi)\n",
        "print(f\"{pi:.0f}\")\n",
        "print(f\"{pi:.2f}\")\n",
        "print(f\"{pi:.4f}\")\n",
        "```\n",
        "\n"
      ]
    },
    {
      "cell_type": "code",
      "metadata": {
        "id": "5abh7-2WrVyN"
      },
      "source": [],
      "execution_count": null,
      "outputs": []
    },
    {
      "cell_type": "markdown",
      "source": [
        "\n",
        "\n",
        "```\n",
        "x = 12345\n",
        "\n",
        "print(x)\n",
        "print(f\"{x:.1e}\")\n",
        "print(f\"{x:.2e}\")\n",
        "```\n",
        "\n"
      ],
      "metadata": {
        "id": "IIXaOoYxNIKO"
      }
    },
    {
      "cell_type": "code",
      "metadata": {
        "id": "7cobfLyAr9ao"
      },
      "source": [],
      "execution_count": null,
      "outputs": []
    },
    {
      "cell_type": "markdown",
      "source": [
        "## 改行 p.11\n",
        "文字の途中で改行したいときは`\\n`を使います。\n",
        "\n",
        "```\n",
        "print(\"吾輩は\\n猫である\")\n",
        "```\n",
        "\n"
      ],
      "metadata": {
        "id": "frAydLjC26hT"
      }
    },
    {
      "cell_type": "code",
      "source": [],
      "metadata": {
        "id": "MzKmtnH-3ONB"
      },
      "execution_count": null,
      "outputs": []
    },
    {
      "cell_type": "markdown",
      "source": [
        "二つの連続したprint文を改行せずに表示したい場合は次のように書きます。\n",
        "\n",
        "\n",
        "\n",
        "```\n",
        "print(\"吾輩は\", end=\"\")\n",
        "print(\"猫である\")\n",
        "```\n",
        "\n"
      ],
      "metadata": {
        "id": "VVmNYwuA333s"
      }
    },
    {
      "cell_type": "code",
      "source": [],
      "metadata": {
        "id": "bKxPNb0H4E8_"
      },
      "execution_count": null,
      "outputs": []
    },
    {
      "cell_type": "markdown",
      "metadata": {
        "id": "Kg2KjoSYsOQI"
      },
      "source": [
        "## コメントアウト p.xiv\n",
        "Pythonではコメントアウトには`#`を使います。各行において`#`より後の部分は無視されるのでメモなどを書いておくことができます。\n",
        "\n",
        "```\n",
        "# print(\"Hello World!\")\n",
        "print(\"こんにちは\")\n",
        "print(\"こんばんは\") #メモメモメモ\n",
        "```\n",
        "\n"
      ]
    },
    {
      "cell_type": "code",
      "metadata": {
        "id": "CJECYl_isj-J"
      },
      "source": [],
      "execution_count": null,
      "outputs": []
    },
    {
      "cell_type": "markdown",
      "metadata": {
        "id": "ZNEbnucxuFcQ"
      },
      "source": [
        "## まとめ\n",
        "プログラミングの基本である文字の表示方法について学びました。文字の表示はプログラムの実行状況を確認するときにもとても役に立ちます。これから何度も何度も使用しますので少しずつ慣れていきましょう。"
      ]
    }
  ]
}