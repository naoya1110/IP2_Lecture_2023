{
  "nbformat": 4,
  "nbformat_minor": 0,
  "metadata": {
    "colab": {
      "provenance": [],
      "include_colab_link": true
    },
    "kernelspec": {
      "name": "python3",
      "display_name": "Python 3"
    },
    "language_info": {
      "name": "python"
    }
  },
  "cells": [
    {
      "cell_type": "markdown",
      "metadata": {
        "id": "view-in-github",
        "colab_type": "text"
      },
      "source": [
        "<a href=\"https://colab.research.google.com/github/naoya1110/IP2_Lecture_2023/blob/main/2023_IP2_Step09.ipynb\" target=\"_parent\"><img src=\"https://colab.research.google.com/assets/colab-badge.svg\" alt=\"Open In Colab\"/></a>"
      ]
    },
    {
      "cell_type": "markdown",
      "metadata": {
        "id": "YH854bAreHnL"
      },
      "source": [
        "# Step09 Numpy配列のいろいろと画像データ"
      ]
    },
    {
      "cell_type": "markdown",
      "metadata": {
        "id": "Rr4Jg1ZjdrPc"
      },
      "source": [
        "## はじめに\n",
        "NumpyのN次元配列（numpy.ndarray）を使ったデータ処理と画像データの取り扱いについて学びましょう。"
      ]
    },
    {
      "cell_type": "markdown",
      "metadata": {
        "id": "CP9HSuQ9TuVb"
      },
      "source": [
        "## パッケージのインポート\n",
        "Numpy，Matplotlibに加えて画像処理用のパッケージOpenCV（インポート名は`cv2`）を使用します。\n",
        "\n",
        "https://ja.wikipedia.org/wiki/OpenCV\n",
        "\n",
        "\n",
        "\n",
        "```\n",
        "import numpy as np                 # Numpyのインポート\n",
        "import matplotlib.pyplot as plt    # Matplotlibのインポート\n",
        "import cv2                         # OpenCVのインポート\n",
        "```\n",
        "\n"
      ]
    },
    {
      "cell_type": "code",
      "metadata": {
        "id": "NLPREtp_d5Xm"
      },
      "source": [],
      "execution_count": null,
      "outputs": []
    },
    {
      "cell_type": "markdown",
      "metadata": {
        "id": "f0TYNfMdmwun"
      },
      "source": [
        "## Numpy配列の変形(Reshape)"
      ]
    },
    {
      "cell_type": "markdown",
      "metadata": {
        "id": "eazT0gIaPsY-"
      },
      "source": [
        "まずは要素数が12個の1次元配列`a`を作成します。\n",
        "\n",
        "\n",
        "\n",
        "```\n",
        "a = np.arange(12)\n",
        "a\n",
        "```\n",
        "\n"
      ]
    },
    {
      "cell_type": "code",
      "metadata": {
        "id": "dHDy7Nu6nLIn"
      },
      "source": [],
      "execution_count": null,
      "outputs": []
    },
    {
      "cell_type": "markdown",
      "source": [
        "`a`のデータタイプはnumpy.ndarray(Numpy配列)です。\n",
        "\n",
        "\n",
        "```\n",
        "type(a)\n",
        "```\n",
        "\n"
      ],
      "metadata": {
        "id": "AAlqQs_B30w3"
      }
    },
    {
      "cell_type": "code",
      "source": [],
      "metadata": {
        "id": "bRMhsLj_39to"
      },
      "execution_count": null,
      "outputs": []
    },
    {
      "cell_type": "markdown",
      "metadata": {
        "id": "Sl9zsNINQYjG"
      },
      "source": [
        "配列`a`の形（shape）を確認してみましょう。要素数（長さ）12の1次元配列であることが分かります。\n",
        "\n",
        "\n",
        "\n",
        "```\n",
        "a.shape\n",
        "```\n",
        "\n"
      ]
    },
    {
      "cell_type": "code",
      "metadata": {
        "id": "1S2VQkZuQWvW"
      },
      "source": [],
      "execution_count": null,
      "outputs": []
    },
    {
      "cell_type": "markdown",
      "metadata": {
        "id": "Ege0R4tpP7UG"
      },
      "source": [
        "配列`a`を3行4列の2次元配列に変更してみましょう。\n",
        "\n",
        "\n",
        "\n",
        "```\n",
        "a.reshape(3, 4)\n",
        "```\n",
        "\n"
      ]
    },
    {
      "cell_type": "code",
      "metadata": {
        "id": "9jgyNhvMP0Ae"
      },
      "source": [],
      "execution_count": null,
      "outputs": []
    },
    {
      "cell_type": "markdown",
      "metadata": {
        "id": "frHbkdFGQzmW"
      },
      "source": [
        "もう一度`a`を表示してみます。\n",
        "\n",
        "\n",
        "\n",
        "```\n",
        "a\n",
        "```\n",
        "\n"
      ]
    },
    {
      "cell_type": "code",
      "metadata": {
        "id": "XTh49NwVQ2xV"
      },
      "source": [],
      "execution_count": null,
      "outputs": []
    },
    {
      "cell_type": "markdown",
      "metadata": {
        "id": "OvujKiSxnY2A"
      },
      "source": [
        "`a`は1次元配列のままです。2次元配列に変形したものをそれ以降に使用するのであれば別の変数に入れておく必要があります。\n",
        "\n",
        "\n",
        "\n",
        "```\n",
        "b = a.reshape(3, 4)\n",
        "b\n",
        "```\n",
        "\n"
      ]
    },
    {
      "cell_type": "code",
      "metadata": {
        "id": "HiE7tdAyQ_-F"
      },
      "source": [],
      "execution_count": null,
      "outputs": []
    },
    {
      "cell_type": "markdown",
      "metadata": {
        "id": "JyWkN2bSTy_9"
      },
      "source": [
        "2次元配列`b`のshapeを確認してみましょう。\n",
        "\n",
        "\n",
        "\n",
        "```\n",
        "b.shape\n",
        "```\n",
        "\n"
      ]
    },
    {
      "cell_type": "code",
      "metadata": {
        "id": "YPtwNn5ZT2El"
      },
      "source": [],
      "execution_count": null,
      "outputs": []
    },
    {
      "cell_type": "markdown",
      "metadata": {
        "id": "-UyD_FueRQq2"
      },
      "source": [
        "上の変形は片方の数字を-1で省略することもできます。\n",
        "\n",
        "\n",
        "\n",
        "```\n",
        "a.reshape(-1, 4)\n",
        "```\n",
        "\n"
      ]
    },
    {
      "cell_type": "code",
      "metadata": {
        "id": "ZdyEcUnZRmzm"
      },
      "source": [],
      "execution_count": null,
      "outputs": []
    },
    {
      "cell_type": "markdown",
      "source": [
        "\n",
        "\n",
        "```\n",
        "a.reshape(3, -1)\n",
        "```\n",
        "\n"
      ],
      "metadata": {
        "id": "Cd1b-Chtuxn1"
      }
    },
    {
      "cell_type": "code",
      "metadata": {
        "id": "WU0pyEPcSRIV"
      },
      "source": [],
      "execution_count": null,
      "outputs": []
    },
    {
      "cell_type": "markdown",
      "metadata": {
        "id": "9P_yaib1Rvf9"
      },
      "source": [
        "配列`a`の要素数は12なので，`a.reshape(4, 4)`のように要素数が合わない変形はできません。以下のコードはエラーになります。\n",
        "\n",
        "\n",
        "\n",
        "```\n",
        "a.reshape(4, 4)\n",
        "```\n",
        "\n"
      ]
    },
    {
      "cell_type": "code",
      "metadata": {
        "id": "3JsKSU5PR6ve"
      },
      "source": [],
      "execution_count": null,
      "outputs": []
    },
    {
      "cell_type": "markdown",
      "metadata": {
        "id": "Tira19R5SZxG"
      },
      "source": [
        "1次元配列から3次元配列への変形も同様にできます。\n",
        "\n",
        "\n",
        "\n",
        "```\n",
        "b = a.reshape(3, 2, 2)\n",
        "b\n",
        "```\n",
        "\n"
      ]
    },
    {
      "cell_type": "code",
      "metadata": {
        "id": "L_LF-PG4Saot"
      },
      "source": [],
      "execution_count": null,
      "outputs": []
    },
    {
      "cell_type": "markdown",
      "metadata": {
        "id": "o6Gy6fFBgGki"
      },
      "source": [
        "shapeを確認してみましょう。\n",
        "\n",
        "\n",
        "\n",
        "```\n",
        "b.shape\n",
        "```\n",
        "\n"
      ]
    },
    {
      "cell_type": "code",
      "metadata": {
        "id": "QV7HVeAeUbF0"
      },
      "source": [],
      "execution_count": null,
      "outputs": []
    },
    {
      "cell_type": "markdown",
      "source": [
        "**練習問題** 要素数が24で[0, 1, 2, 3, ... , 23]となる1次元配列`c`を作りなさい。\n",
        "\n"
      ],
      "metadata": {
        "id": "xalxhkzKzjch"
      }
    },
    {
      "cell_type": "code",
      "source": [],
      "metadata": {
        "id": "3kKlCqTPzjBQ"
      },
      "execution_count": null,
      "outputs": []
    },
    {
      "cell_type": "markdown",
      "metadata": {
        "id": "KXMPUQEbRGqV"
      },
      "source": [
        "**練習問題** `c`を4行6列の2次元配列に変形し変数`d`に入れなさい。さらに`d`のshapeを確認しなさい。"
      ]
    },
    {
      "cell_type": "code",
      "metadata": {
        "id": "4Tu0FFeuRAs9"
      },
      "source": [],
      "execution_count": null,
      "outputs": []
    },
    {
      "cell_type": "code",
      "source": [],
      "metadata": {
        "id": "ctjvz3CI0Svn"
      },
      "execution_count": null,
      "outputs": []
    },
    {
      "cell_type": "markdown",
      "metadata": {
        "id": "ylstD1DlTDpG"
      },
      "source": [
        "**練習問題** `c`を8行3列の2次元配列に変形し変数`d`に入れなさい。さらに`d`のshapeを確認しなさい。"
      ]
    },
    {
      "cell_type": "code",
      "metadata": {
        "id": "PRl0y3siRAql"
      },
      "source": [],
      "execution_count": null,
      "outputs": []
    },
    {
      "cell_type": "code",
      "source": [],
      "metadata": {
        "id": "Kw2FO7_H0n6Y"
      },
      "execution_count": null,
      "outputs": []
    },
    {
      "cell_type": "markdown",
      "metadata": {
        "id": "eF4O0ZahWING"
      },
      "source": [
        "## Numpy配列のスライス\n",
        "配列の一部分の要素のみを取り出すことをスライスと言います。\n",
        "\n",
        "まずは１次元配列のスライスを説明するために，要素数が10の1次元配列`e`を作成します。\n",
        "\n",
        "\n",
        "\n",
        "```\n",
        "e = np.arange(10)\n",
        "e\n",
        "```\n",
        "\n"
      ]
    },
    {
      "cell_type": "code",
      "metadata": {
        "id": "aBo_rq4NVJ2j"
      },
      "source": [],
      "execution_count": null,
      "outputs": []
    },
    {
      "cell_type": "markdown",
      "metadata": {
        "id": "ZB3kS1CpWh-7"
      },
      "source": [
        "`e`の2番目から6番目まで（7番目の前まで）の要素をスライスするには次のように書きます。\n",
        "\n",
        "\n",
        "\n",
        "```\n",
        "e[2:7]\n",
        "```\n",
        "\n"
      ]
    },
    {
      "cell_type": "code",
      "metadata": {
        "id": "OA0U7hrBVJzy"
      },
      "source": [],
      "execution_count": null,
      "outputs": []
    },
    {
      "cell_type": "markdown",
      "metadata": {
        "id": "cNtlLn9DWrWF"
      },
      "source": [
        "`e`の3番目以降のすべての要素をスライスします。\n",
        "\n",
        "\n",
        "\n",
        "```\n",
        "e[3:]\n",
        "```\n",
        "\n"
      ]
    },
    {
      "cell_type": "code",
      "metadata": {
        "id": "SAcO5HeCVJw9"
      },
      "source": [],
      "execution_count": null,
      "outputs": []
    },
    {
      "cell_type": "markdown",
      "metadata": {
        "id": "2NmE52MIWyLE"
      },
      "source": [
        "`e`の5番目より前の全ての要素をスライスします。\n",
        "\n",
        "\n",
        "```\n",
        "e[:5]\n",
        "```"
      ]
    },
    {
      "cell_type": "code",
      "metadata": {
        "id": "8T2Lx1ugVJt3"
      },
      "source": [],
      "execution_count": null,
      "outputs": []
    },
    {
      "cell_type": "markdown",
      "metadata": {
        "id": "wFXhgRE8XjXM"
      },
      "source": [
        "Numpy配列のスライスでは，[ ]内に条件式を記載することで，この条件がTrueとなるものだけを取り出すことができます。\n",
        "\n",
        "次の例は`e`のうち6以上である要素を全てスライスします。\n",
        "\n",
        "\n",
        "\n",
        "```\n",
        "e[e>=6]\n",
        "```\n",
        "\n"
      ]
    },
    {
      "cell_type": "code",
      "metadata": {
        "id": "VstmbefeXv4z"
      },
      "source": [],
      "execution_count": null,
      "outputs": []
    },
    {
      "cell_type": "markdown",
      "metadata": {
        "id": "eX-Qz2u9XF9E"
      },
      "source": [
        "`e`のうち偶数である要素を全てスライスします。\n",
        "\n",
        "\n",
        "```\n",
        "e[e%2==0]\n",
        "```\n",
        "\n"
      ]
    },
    {
      "cell_type": "code",
      "metadata": {
        "id": "NHdaPzU2VJrF"
      },
      "source": [],
      "execution_count": null,
      "outputs": []
    },
    {
      "cell_type": "markdown",
      "metadata": {
        "id": "89BFTef6YWy7"
      },
      "source": [
        "2次元配列のスライスも同様です。まずは10行10列の配列`f`を作成します。\n",
        "\n",
        "\n",
        "```\n",
        "f = np.arange(100)         # 0-99の1次元配列を作成\n",
        "f = f.reshape(10, 10)      # 10行10列の2次元配列に変形\n",
        "f\n",
        "```\n",
        "\n"
      ]
    },
    {
      "cell_type": "code",
      "metadata": {
        "id": "b2KPGT2MYf4j"
      },
      "source": [],
      "execution_count": null,
      "outputs": []
    },
    {
      "cell_type": "markdown",
      "metadata": {
        "id": "_cLEgEhbYlFD"
      },
      "source": [
        "ちなみに上のプログラムは次のように1行で書くこともできます。\n",
        "\n",
        "\n",
        "\n",
        "```\n",
        "f = np.arange(100).reshape(10, 10)\n",
        "f\n",
        "```\n",
        "\n"
      ]
    },
    {
      "cell_type": "code",
      "metadata": {
        "id": "amhn7G73Ypv7"
      },
      "source": [],
      "execution_count": null,
      "outputs": []
    },
    {
      "cell_type": "markdown",
      "metadata": {
        "id": "D3nGROa8Y1xr"
      },
      "source": [
        "`f`の3行2列目の要素だけをスライスします。\n",
        "\n",
        "\n",
        "\n",
        "```\n",
        "f[3, 2]\n",
        "```\n",
        "\n",
        "\n",
        "\n"
      ]
    },
    {
      "cell_type": "code",
      "metadata": {
        "id": "-l8m2vOsZDra"
      },
      "source": [],
      "execution_count": null,
      "outputs": []
    },
    {
      "cell_type": "markdown",
      "metadata": {
        "id": "ehYpiFrlZMCj"
      },
      "source": [
        "`f`の3行目の要素をすべてスライスします。\n",
        "\n",
        "\n",
        "\n",
        "```\n",
        "d[3, :]\n",
        "```\n",
        "\n"
      ]
    },
    {
      "cell_type": "code",
      "metadata": {
        "id": "BkM1BrsGZLCq"
      },
      "source": [],
      "execution_count": null,
      "outputs": []
    },
    {
      "cell_type": "markdown",
      "metadata": {
        "id": "fyh7Bii3Zcvz"
      },
      "source": [
        "fの4列目の要素を全てスライスします。\n",
        "\n",
        "\n",
        "```\n",
        "f[:, 4]\n",
        "```\n",
        "\n"
      ]
    },
    {
      "cell_type": "code",
      "metadata": {
        "id": "kbLgRifkZTMj"
      },
      "source": [],
      "execution_count": null,
      "outputs": []
    },
    {
      "cell_type": "markdown",
      "metadata": {
        "id": "1qhqINXKZ0MC"
      },
      "source": [
        "`f`の3-5行，4-7列の要素を全てスライスします。\n",
        "\n",
        "\n",
        "\n",
        "```\n",
        "f[3:6, 4:8]\n",
        "```\n",
        "\n"
      ]
    },
    {
      "cell_type": "code",
      "metadata": {
        "id": "gf4cOXXDaG25"
      },
      "source": [],
      "execution_count": null,
      "outputs": []
    },
    {
      "cell_type": "markdown",
      "metadata": {
        "id": "T8j5URvxbbnq"
      },
      "source": [
        "1次元のときと同様に条件でスライスすることもできます。ただしスライス後の配列は1次元配列になってしまいます。\n",
        "\n",
        "\n",
        "\n",
        "```\n",
        "g = f[f>=80]\n",
        "print(g)\n",
        "print(g.shape)\n",
        "```\n",
        "\n"
      ]
    },
    {
      "cell_type": "code",
      "source": [],
      "metadata": {
        "id": "jXOBE-NmwRwZ"
      },
      "execution_count": null,
      "outputs": []
    },
    {
      "cell_type": "markdown",
      "metadata": {
        "id": "ViCRHTYYb42y"
      },
      "source": [
        "2次元配列が必要であれば変形する必要があります。\n",
        "\n",
        "\n",
        "\n",
        "```\n",
        "g.reshape(2, 10)\n",
        "```\n",
        "\n"
      ]
    },
    {
      "cell_type": "code",
      "metadata": {
        "id": "xfiShN5McCqZ"
      },
      "source": [],
      "execution_count": null,
      "outputs": []
    },
    {
      "cell_type": "markdown",
      "metadata": {
        "id": "ZksWCW1eari9"
      },
      "source": [
        "**練習問題** `f`の5行目の要素を全てスライスしなさい。"
      ]
    },
    {
      "cell_type": "code",
      "metadata": {
        "id": "9kOIF2yJa0Lp"
      },
      "source": [],
      "execution_count": null,
      "outputs": []
    },
    {
      "cell_type": "markdown",
      "metadata": {
        "id": "uJYVIDjTa0dq"
      },
      "source": [
        "**練習問題** `f`の5行目と6行目の要素を全てスライスしなさい。"
      ]
    },
    {
      "cell_type": "code",
      "metadata": {
        "id": "DVRDNv45a4mb"
      },
      "source": [],
      "execution_count": null,
      "outputs": []
    },
    {
      "cell_type": "markdown",
      "metadata": {
        "id": "Rw1zziUZbBuS"
      },
      "source": [
        "**練習問題** `f`の7列目の要素を全てスライスしなさい。"
      ]
    },
    {
      "cell_type": "code",
      "metadata": {
        "id": "Vg-5HDHLbFNy"
      },
      "source": [],
      "execution_count": null,
      "outputs": []
    },
    {
      "cell_type": "markdown",
      "metadata": {
        "id": "EDLnGG6bbHiC"
      },
      "source": [
        "**練習問題** `f`の7列目以降の要素を全てスライスしなさい。"
      ]
    },
    {
      "cell_type": "code",
      "metadata": {
        "id": "XtJzmMZobKm6"
      },
      "source": [],
      "execution_count": null,
      "outputs": []
    },
    {
      "cell_type": "markdown",
      "metadata": {
        "id": "-xcGwgHGbPki"
      },
      "source": [
        "**練習問題** `f`のうち値が75以上の要素を全てスライスし，5行5列の配列を作りなさい。"
      ]
    },
    {
      "cell_type": "code",
      "metadata": {
        "id": "xX-LrnJgbR1a"
      },
      "source": [],
      "execution_count": null,
      "outputs": []
    },
    {
      "cell_type": "markdown",
      "metadata": {
        "id": "mt-VK97IdG8y"
      },
      "source": [
        "## 画像データの読み込みとスライス\n",
        "次のセルをだ実行して画像ファイルcat.jpgをダウンロードします。ダウンロードしたファイルは左のファイルタブから確認できます。\n",
        "\n"
      ]
    },
    {
      "cell_type": "code",
      "source": [
        "! wget https://github.com/naoya1110/IP2_Lecture_2023/blob/main/cat.jpg"
      ],
      "metadata": {
        "id": "IKUpRTkvdQQ7",
        "outputId": "58c31056-2263-41ee-8155-122e6539c84e",
        "colab": {
          "base_uri": "https://localhost:8080/"
        }
      },
      "execution_count": 1,
      "outputs": [
        {
          "output_type": "stream",
          "name": "stdout",
          "text": [
            "--2023-11-22 00:37:45--  https://github.com/naoya1110/IP2_Lecture_2023/blob/main/cat.jpg\n",
            "Resolving github.com (github.com)... 140.82.113.3\n",
            "Connecting to github.com (github.com)|140.82.113.3|:443... connected.\n",
            "HTTP request sent, awaiting response... 200 OK\n",
            "Length: 4929 (4.8K) [text/plain]\n",
            "Saving to: ‘cat.jpg’\n",
            "\n",
            "\rcat.jpg               0%[                    ]       0  --.-KB/s               \rcat.jpg             100%[===================>]   4.81K  --.-KB/s    in 0s      \n",
            "\n",
            "2023-11-22 00:37:45 (62.8 MB/s) - ‘cat.jpg’ saved [4929/4929]\n",
            "\n"
          ]
        }
      ]
    },
    {
      "cell_type": "markdown",
      "metadata": {
        "id": "-q8YeZ11dWu4"
      },
      "source": [
        "OpenCVを使って`cat.jpg`の画像データを変数`img`に読み込んで`matplotlib`で表示します。\n",
        "\n",
        "\n",
        "\n",
        "```\n",
        "img = cv2.imread(\"/PATH/TO/YOUR/DATA\")         # 変更が必要\n",
        "img = cv2.cvtColor(img, cv2.COLOR_BGR2GRAY)    # 色をグレースケールに変換\n",
        "plt.imshow(img, cmap=\"gray\")\n",
        "```\n",
        "\n"
      ]
    },
    {
      "cell_type": "code",
      "metadata": {
        "id": "9BEFpNfXdVSj"
      },
      "source": [],
      "execution_count": null,
      "outputs": []
    },
    {
      "cell_type": "markdown",
      "source": [
        "`img`のデータタイプを確認してみましょう。numpy.ndarray(Numpy配列)であることが分かります。\n",
        "\n",
        "\n",
        "\n",
        "```\n",
        "type(img)\n",
        "```\n",
        "\n"
      ],
      "metadata": {
        "id": "a3G6iUy03gmu"
      }
    },
    {
      "cell_type": "code",
      "source": [],
      "metadata": {
        "id": "akKt0O243dZ1"
      },
      "execution_count": null,
      "outputs": []
    },
    {
      "cell_type": "markdown",
      "metadata": {
        "id": "PAhxcqZneTX5"
      },
      "source": [
        "`img`のshapeを確認してみましょう。487行x650列のデータであることが分かります。\n",
        "\n",
        "\n",
        "\n",
        "```\n",
        "img.shape\n",
        "```\n",
        "\n"
      ]
    },
    {
      "cell_type": "code",
      "metadata": {
        "id": "qD1515fEee75"
      },
      "source": [],
      "execution_count": null,
      "outputs": []
    },
    {
      "cell_type": "markdown",
      "metadata": {
        "id": "FKU2dB1-epkw"
      },
      "source": [
        "猫の体全体が写っている部分のみをスライスして表示してみましょう。\n",
        "\n",
        "\n",
        "\n",
        "```\n",
        "cat_body = img[100:300, 120:600]\n",
        "plt.imshow(cat_body, cmap=\"gray\")\n",
        "```\n",
        "\n"
      ]
    },
    {
      "cell_type": "code",
      "metadata": {
        "id": "WsdizttBevpg"
      },
      "source": [],
      "execution_count": null,
      "outputs": []
    },
    {
      "cell_type": "markdown",
      "metadata": {
        "id": "PBdqa2ETfEJp"
      },
      "source": [
        "**練習問題** 猫の顔の部分のみをスライスして表示しなさい。"
      ]
    },
    {
      "cell_type": "code",
      "metadata": {
        "id": "t-jLtzZUhfto"
      },
      "source": [],
      "execution_count": null,
      "outputs": []
    }
  ]
}