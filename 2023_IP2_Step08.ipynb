{
  "nbformat": 4,
  "nbformat_minor": 0,
  "metadata": {
    "colab": {
      "provenance": [],
      "toc_visible": true,
      "include_colab_link": true
    },
    "kernelspec": {
      "name": "python3",
      "display_name": "Python 3"
    },
    "language_info": {
      "name": "python"
    }
  },
  "cells": [
    {
      "cell_type": "markdown",
      "metadata": {
        "id": "view-in-github",
        "colab_type": "text"
      },
      "source": [
        "<a href=\"https://colab.research.google.com/github/naoya1110/IP2_Lecture_2023/blob/main/2023_IP2_Step08.ipynb\" target=\"_parent\"><img src=\"https://colab.research.google.com/assets/colab-badge.svg\" alt=\"Open In Colab\"/></a>"
      ]
    },
    {
      "cell_type": "markdown",
      "metadata": {
        "id": "YH854bAreHnL"
      },
      "source": [
        "# Step08:関数\n"
      ]
    },
    {
      "cell_type": "markdown",
      "metadata": {
        "id": "Rr4Jg1ZjdrPc"
      },
      "source": [
        "## はじめに\n",
        "関数（function）は**まとまった複数の処理をまとめて実行**するためのものです。まとまった処理を何度も行う場合は関数を使ってプログラムを作成した方が，全体的なコードの量が少なくなり修正もしやすくなります。"
      ]
    },
    {
      "cell_type": "markdown",
      "metadata": {
        "id": "CP9HSuQ9TuVb"
      },
      "source": [
        "## パッケージのインポート\n",
        "NumpyとMatplotlibをインポートしておきましょう。\n",
        "\n",
        "\n",
        "\n",
        "```\n",
        "import numpy as np                  # Numpyのインポート\n",
        "import matplotlib.pyplot as plt     # Matplotlibのインポート\n",
        "! pip install japanize-matplotlib   # japanize-matplotlibのインストール\n",
        "import japanize_matplotlib          # japanize_matplotlibのインポート\n",
        "```\n",
        "\n"
      ]
    },
    {
      "cell_type": "code",
      "metadata": {
        "id": "NLPREtp_d5Xm"
      },
      "source": [],
      "execution_count": null,
      "outputs": []
    },
    {
      "cell_type": "markdown",
      "metadata": {
        "id": "f0TYNfMdmwun"
      },
      "source": [
        "## 関数の基本"
      ]
    },
    {
      "cell_type": "markdown",
      "source": [
        "### シンプルな関数の例\n",
        "辺の長さが$a$ [cm]と$b$ [cm]の長方形の面積を求めるための関数`get_rectangle_area()`を作ってみましょう。\n",
        "\n",
        "\n",
        "\n",
        "```\n",
        "def get_rectangle_area(a, b):\n",
        "    s = a*b\n",
        "    return s\n",
        "```\n",
        "\n"
      ],
      "metadata": {
        "id": "1XMmuOwQ2wkw"
      }
    },
    {
      "cell_type": "code",
      "metadata": {
        "id": "dHDy7Nu6nLIn"
      },
      "source": [],
      "execution_count": null,
      "outputs": []
    },
    {
      "cell_type": "markdown",
      "source": [
        "*   `def`は新しく関数を定義(definition)することを意味します。\n",
        "*   `get_rectangle_area()`は関数名です。任意の名前を付けることができます。最後に`()`が必要です。\n",
        "*    関数への入力データ（引数：ひきすう）は関数名の最後の`()`内に書きます。今回は`a`と`b`が引数です。\n",
        "*    関数内で行う処理を2行目以降にインデントして書きます。\n",
        "*    関数からの出力データ（戻り値:もどりち）は`return`の後に書きます。今回は`s`が戻り値です。"
      ],
      "metadata": {
        "id": "vZS5FHP8w396"
      }
    },
    {
      "cell_type": "markdown",
      "source": [
        "例えば$a=5$, $b=3$の場合，次のようにして面積を求めることができます。\n",
        "\n",
        "\n",
        "\n",
        "```\n",
        "s = get_rectangle_area(a=5, b=3)\n",
        "print(s)\n",
        "```\n",
        "\n"
      ],
      "metadata": {
        "id": "PQB-e4xLwMVL"
      }
    },
    {
      "cell_type": "code",
      "source": [],
      "metadata": {
        "id": "Wg6wd3Z2wRjx"
      },
      "execution_count": null,
      "outputs": []
    },
    {
      "cell_type": "markdown",
      "source": [
        "### 引数に関する注意\n",
        "引数の挙動を確認するために`get_rectangle_area2()`を定義します。\n",
        "\n",
        "\n",
        "\n",
        "```\n",
        "def get_rectangle_area2(a, b):\n",
        "    s = a*b\n",
        "    print(f\"a = {a}\")\n",
        "    print(f\"b = {b}\")\n",
        "    print(f\"s = {s}\")\n",
        "    return s\n",
        "```\n",
        "\n"
      ],
      "metadata": {
        "id": "tVJJ4yjx23fV"
      }
    },
    {
      "cell_type": "code",
      "source": [],
      "metadata": {
        "id": "V5PQJo9l038D"
      },
      "execution_count": null,
      "outputs": []
    },
    {
      "cell_type": "markdown",
      "source": [
        "#### 引数名を明示せずに実行\n",
        "次の例のように引数名を明示せず値だけを与えても実行できます。この場合は定義した関数の引数の順番通りに$a=5$, $b=3$として扱われます。\n",
        "\n",
        "\n",
        "```\n",
        "s = get_rectangle_area2(5, 3)\n",
        "```\n",
        "\n"
      ],
      "metadata": {
        "id": "g79UY3mAzuww"
      }
    },
    {
      "cell_type": "code",
      "source": [],
      "metadata": {
        "id": "hUmcvQV9yk8M"
      },
      "execution_count": null,
      "outputs": []
    },
    {
      "cell_type": "markdown",
      "source": [
        "#### 引数の順序\n",
        "引数名を指定する場合は，関数を定義したときと引数の順序が変わってもかまいません。\n",
        "\n",
        "\n",
        "```\n",
        "s = get_rectangle_area2(b=3, a=5)\n",
        "```\n",
        "\n"
      ],
      "metadata": {
        "id": "FM5XfXfd1vHX"
      }
    },
    {
      "cell_type": "code",
      "source": [],
      "metadata": {
        "id": "59lXUN1n1q-Y"
      },
      "execution_count": null,
      "outputs": []
    },
    {
      "cell_type": "markdown",
      "source": [
        "#### 引数のデフォルト値\n",
        "関数を定義する際に引数のデフォルト値を設定することもできます。ここでは$a=5, b=3$に設定されます。\n",
        "\n",
        "\n",
        "\n",
        "```\n",
        "def get_rectangle_area3(a=5, b=3):\n",
        "    s = a*b\n",
        "    print(f\"a = {a}\")\n",
        "    print(f\"b = {b}\")\n",
        "    print(f\"s = {s}\")\n",
        "    return s\n",
        "```\n",
        "\n"
      ],
      "metadata": {
        "id": "jMSDCwfwEyw5"
      }
    },
    {
      "cell_type": "code",
      "source": [],
      "metadata": {
        "id": "5BfPRv-ME1y5"
      },
      "execution_count": null,
      "outputs": []
    },
    {
      "cell_type": "markdown",
      "source": [
        "デフォルト値が設定されていれば，関数の実行時に引数が指定されていなくてもデフォルト値を使って関数が実行されます。\n",
        "\n",
        "aもbも指定しない場合：\n",
        "\n",
        "\n",
        "\n",
        "```\n",
        "s = get_rectangle_area3()\n",
        "```\n",
        "\n"
      ],
      "metadata": {
        "id": "GHg4hFvdE99o"
      }
    },
    {
      "cell_type": "code",
      "source": [],
      "metadata": {
        "id": "NZNGc5MJFdKh"
      },
      "execution_count": null,
      "outputs": []
    },
    {
      "cell_type": "markdown",
      "source": [
        "aのみ指定，bは指定しない場合：\n",
        "```\n",
        "s = get_rectangle_area3(a=10)\n",
        "```\n",
        "\n"
      ],
      "metadata": {
        "id": "O_-ZjIEhBn9W"
      }
    },
    {
      "cell_type": "code",
      "source": [],
      "metadata": {
        "id": "rAhKf3gNFSk4"
      },
      "execution_count": null,
      "outputs": []
    },
    {
      "cell_type": "markdown",
      "source": [
        "### 戻り値に関する注意"
      ],
      "metadata": {
        "id": "hAgC_K-WG1T4"
      }
    },
    {
      "cell_type": "markdown",
      "source": [
        "#### 複数の戻り値をもつ関数\n",
        "長方形の面積$s$と対角線の長さ$d$を求める関数`compute_rectangle()`を定義します。複数の戻り値がある場合は`return`の後カンマで区切って書きます。\n",
        "\n",
        "\n",
        "\n",
        "```\n",
        "def compute_rectangle(a, b):\n",
        "    s = a*b\n",
        "    d = np.sqrt(a**2+b**2)\n",
        "    return s, d\n",
        "```\n",
        "\n"
      ],
      "metadata": {
        "id": "-yXegXUH2l4e"
      }
    },
    {
      "cell_type": "code",
      "source": [],
      "metadata": {
        "id": "iM3p2v0T18Se"
      },
      "execution_count": null,
      "outputs": []
    },
    {
      "cell_type": "markdown",
      "source": [
        "実行して確認してみましょう。\n",
        "\n",
        "\n",
        "\n",
        "```\n",
        "s, d = compute_rectangle(a=5, b=3)\n",
        "print(f\"s = {s}\")\n",
        "print(f\"d = {d}\")\n",
        "```\n",
        "\n"
      ],
      "metadata": {
        "id": "T9Hy0CTDHvgP"
      }
    },
    {
      "cell_type": "code",
      "source": [],
      "metadata": {
        "id": "yhMZcG3s4GH0"
      },
      "execution_count": null,
      "outputs": []
    },
    {
      "cell_type": "markdown",
      "source": [
        "#### 戻り値を持たない関数\n",
        "関数内で処理した結果を関数外で使用しない場合は戻り値は必要ありません。したがって`return`の行は不要です。\n",
        "\n",
        "\n",
        "\n",
        "```\n",
        "def compute_rectangle2(a, b):\n",
        "    s = a*b\n",
        "    d = np.sqrt(a**2+b**2)\n",
        "    print(f\"a={a}, b={b}の長方形の面積は{s}で対角線の長さは{d:.3f}です。\")\n",
        "```\n",
        "\n"
      ],
      "metadata": {
        "id": "t8xYO8Ky4Yzu"
      }
    },
    {
      "cell_type": "code",
      "source": [],
      "metadata": {
        "id": "F9Q_1XLP4tos"
      },
      "execution_count": null,
      "outputs": []
    },
    {
      "cell_type": "markdown",
      "source": [
        "実行して確認してみましょう。\n",
        "\n",
        "\n",
        "\n",
        "```\n",
        "compute_rectangle2(a=5, b=3)\n",
        "```\n",
        "\n"
      ],
      "metadata": {
        "id": "i6b08af8H0iX"
      }
    },
    {
      "cell_type": "code",
      "source": [],
      "metadata": {
        "id": "WorH3Sxk5F5L"
      },
      "execution_count": null,
      "outputs": []
    },
    {
      "cell_type": "markdown",
      "source": [
        "## 練習問題1\n",
        "次の関数を作ってみましょう。\n",
        "*   目的：自己紹介の文を生成する\n",
        "*   関数名：`jikoshokai()`\n",
        "*   引数：苗字(family_name)，名前(first_name)，年齢(age)\n",
        "*   戻り値：「私は〇〇〇〇です。〇〇歳です。」という文\n",
        "\n",
        "\n",
        "\n",
        "```\n",
        "def jikoshokai(family_name, first_name, age):\n",
        "    text = f\"私の名前は{family_name}{first_name}です。{age}歳です。\"\n",
        "    return text\n",
        "```\n",
        "\n"
      ],
      "metadata": {
        "id": "GIE0RGJo5E1U"
      }
    },
    {
      "cell_type": "code",
      "source": [],
      "metadata": {
        "id": "f9WMhA9x5ZYd"
      },
      "execution_count": null,
      "outputs": []
    },
    {
      "cell_type": "markdown",
      "source": [
        "実行して確認してみましょう。\n",
        "\n",
        "\n",
        "```\n",
        "text = jikoshokai(family_name=\"大谷\", first_name=\"翔平\",age=28)\n",
        "print(text)\n",
        "```\n",
        "\n"
      ],
      "metadata": {
        "id": "3K79tdWVH_hu"
      }
    },
    {
      "cell_type": "code",
      "source": [],
      "metadata": {
        "id": "fdOLuu695ss9"
      },
      "execution_count": null,
      "outputs": []
    },
    {
      "cell_type": "markdown",
      "source": [
        "## 練習問題2\n"
      ],
      "metadata": {
        "id": "AdctD-K_37pd"
      }
    },
    {
      "cell_type": "markdown",
      "source": [
        "次の関数を作ってみましょう。\n",
        "*   目的：$v(t)=V_m\\sin\\left(\\omega t + \\theta\\right)$の波形を表示する\n",
        "*   関数名：`draw_sine_wave()`\n",
        "*   引数：振幅(V_m), 角周波数(omega)，初期位相(theta)，時刻の最大値(t_max)\n",
        "*   戻り値：なし（関数内でグラフを描画）\n",
        "\n",
        "\n",
        "\n",
        "```\n",
        "def draw_sine_wave(V_m, omega, theta, t_max):\n",
        "    t = np.linspace(0, t_max, 1000)\n",
        "    v_t = V_m*np.sin(omega*t + theta)\n",
        "    plt.plot(t, v_t)\n",
        "    plt.xlabel(\"time (s)\")\n",
        "    plt.ylabel(\"voltage (V)\")\n",
        "```\n",
        "\n"
      ],
      "metadata": {
        "id": "DE_1n92E_xOr"
      }
    },
    {
      "cell_type": "code",
      "source": [],
      "metadata": {
        "id": "MeeqDh9w6qQk"
      },
      "execution_count": null,
      "outputs": []
    },
    {
      "cell_type": "markdown",
      "source": [
        "引数を適当に設定してグラフを描画してみましょう。\n",
        "\n",
        "\n",
        "```\n",
        "draw_sine_wave(V_m = 10, omega=10, theta=np.pi/6, t_max=1)\n",
        "```\n",
        "\n"
      ],
      "metadata": {
        "id": "comUmuznBwUq"
      }
    },
    {
      "cell_type": "code",
      "source": [],
      "metadata": {
        "id": "euovBrioA-hj"
      },
      "execution_count": null,
      "outputs": []
    },
    {
      "cell_type": "markdown",
      "source": [
        "\n",
        "\n",
        "```\n",
        "draw_sine_wave(V_m=10, omega=40, theta=np.pi/2, t_max=1)\n",
        "```\n",
        "\n"
      ],
      "metadata": {
        "id": "SJO4k1RhDCHr"
      }
    },
    {
      "cell_type": "code",
      "source": [],
      "metadata": {
        "id": "xlL8UrwJIbqu"
      },
      "execution_count": null,
      "outputs": []
    },
    {
      "cell_type": "markdown",
      "source": [
        "## 課題1\n",
        "次の関数を作りなさい。\n",
        "*   目的：論理演算のXOR(排他的論理和)を出力する\n",
        "*   関数名：`xor()`\n",
        "*   引数：入力1(a)，入力(b)\n",
        "*   戻り値：aとbの排他的論理和(z)"
      ],
      "metadata": {
        "id": "lDWupipTCF1Z"
      }
    },
    {
      "cell_type": "code",
      "source": [],
      "metadata": {
        "id": "QDLmDUOvDf3x"
      },
      "execution_count": null,
      "outputs": []
    },
    {
      "cell_type": "markdown",
      "source": [
        "次の4つのセルを実行して関数xor()が正しく動くことを確認しなさい。"
      ],
      "metadata": {
        "id": "GkV3HuhaDyMY"
      }
    },
    {
      "cell_type": "code",
      "source": [
        "xor(a=0, b=0)"
      ],
      "metadata": {
        "id": "bjud9WXnDh7p"
      },
      "execution_count": null,
      "outputs": []
    },
    {
      "cell_type": "code",
      "source": [
        "xor(a=0, b=1)"
      ],
      "metadata": {
        "id": "ahdEJ8Q0DnnB"
      },
      "execution_count": null,
      "outputs": []
    },
    {
      "cell_type": "code",
      "source": [
        "xor(a=1, b=0)"
      ],
      "metadata": {
        "id": "X_Edp4SjDtgp"
      },
      "execution_count": null,
      "outputs": []
    },
    {
      "cell_type": "code",
      "source": [
        "xor(a=1, b=1)"
      ],
      "metadata": {
        "id": "YJ6rIjaQDuCh"
      },
      "execution_count": null,
      "outputs": []
    },
    {
      "cell_type": "markdown",
      "source": [
        "## 課題2\n",
        "次の関数を作りなさい。\n",
        "*   目的：複素数のベクトルを表示する\n",
        "*   関数名：`draw_complex_vector()`\n",
        "*   引数：複素数(c)\n",
        "*   戻り値：なし（関数内でベクトルを描画）"
      ],
      "metadata": {
        "id": "F9s4p7MVCtPd"
      }
    },
    {
      "cell_type": "code",
      "source": [],
      "metadata": {
        "id": "3eJZ7ERIBHc0"
      },
      "execution_count": null,
      "outputs": []
    },
    {
      "cell_type": "markdown",
      "source": [
        "次の2つのセルを実行して関数draw_vector()が正しく動くことを確認しなさい。"
      ],
      "metadata": {
        "id": "2DSK47gmEC2J"
      }
    },
    {
      "cell_type": "code",
      "source": [
        "draw_complex_vector(c=1-1j)"
      ],
      "metadata": {
        "id": "XAebeTtyEB85"
      },
      "execution_count": null,
      "outputs": []
    },
    {
      "cell_type": "code",
      "source": [
        "draw_complex_vector(c=2j)"
      ],
      "metadata": {
        "id": "Lm474vPpEQWp"
      },
      "execution_count": null,
      "outputs": []
    },
    {
      "cell_type": "markdown",
      "source": [
        "## 課題3\n",
        "自分の好きな関数を自作し目的通り動くことを確認しなさい。\n",
        "*   目的：〇〇〇〇\n",
        "*   関数名：〇〇〇〇\n",
        "*   引数：〇〇〇〇\n",
        "*   戻り値：〇〇〇〇"
      ],
      "metadata": {
        "id": "WV05KesOEd-Z"
      }
    },
    {
      "cell_type": "code",
      "source": [],
      "metadata": {
        "id": "MHNGO7jrIpr_"
      },
      "execution_count": null,
      "outputs": []
    },
    {
      "cell_type": "code",
      "source": [],
      "metadata": {
        "id": "04ipJos-J7M-"
      },
      "execution_count": null,
      "outputs": []
    }
  ]
}