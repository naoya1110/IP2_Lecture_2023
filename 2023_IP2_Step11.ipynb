{
  "nbformat": 4,
  "nbformat_minor": 0,
  "metadata": {
    "colab": {
      "provenance": [],
      "include_colab_link": true
    },
    "kernelspec": {
      "name": "python3",
      "display_name": "Python 3"
    },
    "language_info": {
      "name": "python"
    }
  },
  "cells": [
    {
      "cell_type": "markdown",
      "metadata": {
        "id": "view-in-github",
        "colab_type": "text"
      },
      "source": [
        "<a href=\"https://colab.research.google.com/github/naoya1110/IP2_Lecture_2023/blob/main/2023_IP2_Step11.ipynb\" target=\"_parent\"><img src=\"https://colab.research.google.com/assets/colab-badge.svg\" alt=\"Open In Colab\"/></a>"
      ]
    },
    {
      "cell_type": "markdown",
      "metadata": {
        "id": "YH854bAreHnL"
      },
      "source": [
        "# Step11 OpenCVでお絵描き"
      ]
    },
    {
      "cell_type": "markdown",
      "metadata": {
        "id": "CP9HSuQ9TuVb"
      },
      "source": [
        "## パッケージのインポート\n",
        "\n",
        "\n",
        "\n",
        "```\n",
        "import numpy as np                 # Numpyのインポート\n",
        "import matplotlib.pyplot as plt    # Matplotlibのインポート\n",
        "import cv2                         # OpenCVのインポート\n",
        "```\n",
        "\n"
      ]
    },
    {
      "cell_type": "code",
      "metadata": {
        "id": "NLPREtp_d5Xm"
      },
      "source": [
        "import numpy as np                 # Numpyのインポート\n",
        "import matplotlib.pyplot as plt    # Matplotlibのインポート\n",
        "import cv2                         # OpenCVのインポート"
      ],
      "execution_count": null,
      "outputs": []
    },
    {
      "cell_type": "markdown",
      "metadata": {
        "id": "OqAY7PFaBcpM"
      },
      "source": [
        "## OpenCVを使った図形の描画\n",
        "OpenCVを使って様々な図形を描画しましょう。\n",
        "\n",
        "参考（図形の描画）　https://note.nkmk.me/python-opencv-draw-function/\n",
        "\n",
        "参考（カラーコード）　https://www.sysecol2.ethz.ch/_DevAux/Testing_and_Development/colormap.html"
      ]
    },
    {
      "cell_type": "markdown",
      "metadata": {
        "id": "gwNIqlhXDlej"
      },
      "source": [
        "### フレームの作成\n",
        "\n",
        "\n",
        "\n",
        "```\n",
        "img = np.zeros((500, 500, 3), dtype=\"uint8\")       # 背景を黒にする\n",
        "#img = 255*np.ones((500, 500, 3), dtype=\"uint8\")   # 背景を白にする\n",
        "#img = 128*np.ones((500, 500, 3), dtype=\"uint8\")   # 背景をグレーにする\n",
        "plt.imshow(img)                                    # 画像の表示\n",
        "```\n",
        "\n"
      ]
    },
    {
      "cell_type": "code",
      "metadata": {
        "id": "k908aHQYA2rD"
      },
      "source": [],
      "execution_count": null,
      "outputs": []
    },
    {
      "cell_type": "markdown",
      "metadata": {
        "id": "5FUrRMz-DeHb"
      },
      "source": [
        "### 線 `cv2.line()`\n",
        "\n",
        "\n",
        "\n",
        "```\n",
        "img = np.zeros((500, 500, 3), dtype=\"uint8\")          # 背景を黒にする\n",
        "\n",
        "pt1 = (100, 200)          # 始点のxy座標\n",
        "pt2 = (300, 400)          # 終点のxy座標\n",
        "color = (255, 255, 0)     # 色 (R, G, B)\n",
        "thickness = 10            # 線の太さ\n",
        "\n",
        "cv2.line(img, pt1, pt2, color, thickness)                   # 線の描画\n",
        "#cv2.line(img, (100, 200), (300, 400), (255, 255, 0), 10)   # 上の1行と同じ\n",
        "\n",
        "plt.imshow(img)    # 画像の表示\n",
        "```\n",
        "\n"
      ]
    },
    {
      "cell_type": "code",
      "metadata": {
        "id": "Pf2TV0pdBsEi"
      },
      "source": [],
      "execution_count": null,
      "outputs": []
    },
    {
      "cell_type": "markdown",
      "metadata": {
        "id": "mkHs5SaOD0Sq"
      },
      "source": [
        "### 長方形 `cv2.rectangle()`\n",
        "\n",
        "\n",
        "\n",
        "```\n",
        "img = np.zeros((500, 500, 3), dtype=\"uint8\")          # 背景を黒にする\n",
        "\n",
        "pt1 = (100, 200)         # 左上のxy座標\n",
        "pt2 = (400, 300)         # 右下のxy座標\n",
        "color = (255, 0, 255)    # 色 (R, G, B)\n",
        "thickness = 20           # 線の太さ\n",
        "# thickness = -1         # -1の場合は塗りつぶし\n",
        "\n",
        "cv2.rectangle(img, pt1, pt2, color, thickness)                    # 長方形の描画\n",
        "# cv2.rectangle(img, (100, 200), (300, 400), (255, 0, 255), 20)   # 上の1行と同じ\n",
        "\n",
        "plt.imshow(img)    # 画像の表示\n",
        "```\n",
        "\n"
      ]
    },
    {
      "cell_type": "code",
      "metadata": {
        "id": "q08vUD9-Dz46"
      },
      "source": [],
      "execution_count": null,
      "outputs": []
    },
    {
      "cell_type": "markdown",
      "metadata": {
        "id": "HYu5sFqwGXoK"
      },
      "source": [
        "### 円 `cv2.circle()`\n",
        "\n",
        "\n",
        "\n",
        "```\n",
        "img = np.zeros((500, 500, 3), dtype=\"uint8\")          # 背景を黒にする\n",
        "\n",
        "center = (200, 200)       # 中心のxy座標\n",
        "radius = 100              # 半径\n",
        "color = (0, 255, 255)     # 色 (R, G, B)\n",
        "thickness = 5             # 線の太さ\n",
        "# thickness = -1          # -1の場合は塗りつぶし\n",
        "\n",
        "cv2.circle(img, center, radius, color, thickness)        # 円を描画\n",
        "# cv2.circle(img, (200, 200), 100, (0, 255, 255), 5)   # 上の1行と同じ\n",
        "\n",
        "plt.imshow(img)    # 画像の表示\n",
        "```\n",
        "\n"
      ]
    },
    {
      "cell_type": "code",
      "metadata": {
        "id": "0-jAi3l9GXGK"
      },
      "source": [],
      "execution_count": null,
      "outputs": []
    },
    {
      "cell_type": "markdown",
      "metadata": {
        "id": "nTKmEHBGHl7T"
      },
      "source": [
        "### 楕円 `cv2.ellipse()`\n",
        "\n",
        "\n",
        "\n",
        "```\n",
        "img = np.zeros((500, 500, 3), dtype=\"uint8\")          # 背景を黒にする\n",
        "\n",
        "center = (250, 250)         # 中心のxy座標\n",
        "axes = (100, 200)           # 横方向と縦方向の直径\n",
        "angle = 0                   # 角度（x軸方向を0度として時計回りに度で指定）\n",
        "color = (204, 204, 255)     # 色 (R, G, B)\n",
        "thickness = 5               # 線の太さ\n",
        "# thickness = -1            # -1の場合は塗りつぶし\n",
        "\n",
        "cv2.ellipse(img, (center, axes, angle), color, thickness)     # 円を描画\n",
        "\n",
        "plt.imshow(img)    # 画像の表示\n",
        "```\n",
        "\n"
      ]
    },
    {
      "cell_type": "code",
      "metadata": {
        "id": "LxrXYNOpEiND"
      },
      "source": [],
      "execution_count": null,
      "outputs": []
    },
    {
      "cell_type": "markdown",
      "metadata": {
        "id": "2LnBhLD8PLFa"
      },
      "source": [
        "### 円弧 `cv2.ellipse()`\n",
        "\n",
        "\n",
        "\n",
        "```\n",
        "img = np.zeros((500, 500, 3), dtype=\"uint8\")   # 背景を黒にする\n",
        "\n",
        "center = (250, 250)         # 中心のxy座標\n",
        "axes = (100, 200)           # 横方向と縦方向の半径（楕円のときと異なるので注意）\n",
        "angle = 0                   # 角度（x軸方向を0度として時計回りに度で指定）\n",
        "startAngle = 45             # angleを基準としたときの開始角度（時計回り）\n",
        "endAngle = 270              # angleを基準としたときの終了角度（時計回り）\n",
        "color = (255, 0, 204)       # 色 (R, G, B)\n",
        "# thickness = 5             # 線の太さ\n",
        "thickness = -1              # -1の場合は塗りつぶし\n",
        "\n",
        "cv2.ellipse(img, center, axes, angle, startAngle, endAngle, color, thickness)     # 円を描画\n",
        "\n",
        "plt.imshow(img)    # 画像の表示\n",
        "```\n",
        "\n"
      ]
    },
    {
      "cell_type": "code",
      "metadata": {
        "id": "F_XVyoDQOXKj"
      },
      "source": [],
      "execution_count": null,
      "outputs": []
    },
    {
      "cell_type": "markdown",
      "metadata": {
        "id": "mvH5zPxVIu5Y"
      },
      "source": [
        "### 折れ線，多角形 `cv2.polylines()`, `cv2.fillPoly()`\n",
        "\n",
        "\n",
        "\n",
        "```\n",
        "img = np.zeros((500, 500, 3), dtype=\"uint8\")              # 背景を黒にする\n",
        "\n",
        "pts = np.array(((100, 400), (400, 400), (250, 100)))   # 始点から終点までのxy座標\n",
        "isClosed = False              # 始点と終点をつなぐ？\n",
        "color = (102, 255, 102)       # 色 (R, G, B)\n",
        "thickness = 20                # 線の太さ\n",
        "\n",
        "cv2.polylines(img, [pts], isClosed, color, thickness)       # 描画（塗りつぶさない）\n",
        "# cv2.fillPoly(img, [pts], color)                           # 描画（塗りつぶす場合）\n",
        "\n",
        "plt.imshow(img)    # 画像の表示\n",
        "```\n",
        "\n"
      ]
    },
    {
      "cell_type": "code",
      "metadata": {
        "id": "ibIB8sn1ItnC"
      },
      "source": [],
      "execution_count": null,
      "outputs": []
    },
    {
      "cell_type": "markdown",
      "metadata": {
        "id": "tsicThKhMAvJ"
      },
      "source": [
        "### 文字 `cv2.putText()`\n",
        "\n",
        "\n",
        "\n",
        "```\n",
        "img = np.zeros((500, 500, 3), dtype=\"uint8\")      # 背景を黒にする\n",
        "\n",
        "text = \"hello\"                           # テキスト\n",
        "org = (100, 300)                         # 文字の左下のxy座標\n",
        "fontFace = cv2.FONT_HERSHEY_SIMPLEX      # フォントの種類\n",
        "# fontFace = cv2.FONT_HERSHEY_COMPLEX\n",
        "fontScale = 4                            # フォントの大きさ\n",
        "color = (255, 204, 51)                   # 色\n",
        "thickness = 10                           # フォントの太さ\n",
        "\n",
        "cv2.putText(img, text, org, fontFace, fontScale, color, thickness)    # 文字の描画\n",
        "\n",
        "plt.imshow(img)    # 画像の表示\n",
        "```\n",
        "\n"
      ]
    },
    {
      "cell_type": "code",
      "metadata": {
        "id": "yz4ke7UYpWBB"
      },
      "source": [],
      "execution_count": null,
      "outputs": []
    },
    {
      "cell_type": "markdown",
      "metadata": {
        "id": "TH5RS6L8p88B"
      },
      "source": [
        "### 複数の図形\n",
        "複数の図形を描画することも可能です。\n",
        "\n",
        "\n",
        "\n",
        "```\n",
        "img = np.zeros((500, 500, 3), dtype=\"uint8\")      # 背景を黒にする\n",
        "\n",
        "cv2.line(img, (100, 200), (300, 400), (255, 255, 0), 10)   # 線の描画\n",
        "cv2.rectangle(img, (100, 200), (300, 400), (255, 0, 255), 20)   # 長方形の描画\n",
        "cv2.putText(img, \"hello\", (100, 150), cv2.FONT_HERSHEY_SIMPLEX, 3, (0,255,0), 10)    # 文字の描画\n",
        "\n",
        "plt.imshow(img)    # 画像の表示\n",
        "```\n",
        "\n"
      ]
    },
    {
      "cell_type": "code",
      "metadata": {
        "id": "7M5dNYQdLc9p"
      },
      "source": [],
      "execution_count": null,
      "outputs": []
    },
    {
      "cell_type": "markdown",
      "source": [
        "```\n",
        "img = np.zeros((500, 500, 3), dtype=\"uint8\")          # 背景を黒にする\n",
        "\n",
        "center = (200, 200)      # 中心のxy座標\n",
        "radius = 50              # 半径\n",
        "color = (0, 255, 255)    # 色 (R, G, B)\n",
        "thickness = 5            # 線の太さ\n",
        "# thickness = -1         # -1の場合は塗りつぶし\n",
        "\n",
        "for i in range(5):\n",
        "    cv2.circle(img, center, radius, color, thickness)   # 円を描画\n",
        "    radius += 50         # 半径を変更\n",
        "\n",
        "plt.imshow(img)    # 画像の表示\n",
        "```\n",
        "\n"
      ],
      "metadata": {
        "id": "qi8Ci2mvRpF4"
      }
    },
    {
      "cell_type": "code",
      "source": [],
      "metadata": {
        "id": "FrWER4n7-2Jd"
      },
      "execution_count": null,
      "outputs": []
    },
    {
      "cell_type": "markdown",
      "metadata": {
        "id": "jsh4VY1dP31o"
      },
      "source": [
        "## 問題\n",
        "OpenCVの図形描画機能を使って自分の好きなアニメのキャラクタやオリジナルのイラストを描きなさい。\n",
        "\n",
        "参考　https://free-webdesigner.com/category/kakikata/animechara"
      ]
    },
    {
      "cell_type": "markdown",
      "metadata": {
        "id": "64qN2ux52EP-"
      },
      "source": [
        "### プログラム\n",
        "以下にプログラムを記述してください。コードセルやテキストセルは必要に応じて増やしてください。"
      ]
    },
    {
      "cell_type": "code",
      "metadata": {
        "id": "LB1nx2Ag3VzG"
      },
      "source": [],
      "execution_count": null,
      "outputs": []
    }
  ]
}