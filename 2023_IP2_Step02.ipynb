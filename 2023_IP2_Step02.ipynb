{
  "nbformat": 4,
  "nbformat_minor": 0,
  "metadata": {
    "colab": {
      "provenance": [],
      "toc_visible": true,
      "authorship_tag": "ABX9TyPaBKPifc+I0c+PHF+sTEVQ",
      "include_colab_link": true
    },
    "kernelspec": {
      "name": "python3",
      "display_name": "Python 3"
    },
    "language_info": {
      "name": "python"
    }
  },
  "cells": [
    {
      "cell_type": "markdown",
      "metadata": {
        "id": "view-in-github",
        "colab_type": "text"
      },
      "source": [
        "<a href=\"https://colab.research.google.com/github/naoya1110/IP2_lecture/blob/main/2023_IP2_Step02.ipynb\" target=\"_parent\"><img src=\"https://colab.research.google.com/assets/colab-badge.svg\" alt=\"Open In Colab\"/></a>"
      ]
    },
    {
      "cell_type": "markdown",
      "metadata": {
        "id": "YH854bAreHnL"
      },
      "source": [
        "# Step02 演算子，データタイプ"
      ]
    },
    {
      "cell_type": "markdown",
      "metadata": {
        "id": "Rr4Jg1ZjdrPc"
      },
      "source": [
        "## 演算子\n",
        "演算子とはプラス**`+`**やマイナス**`-`**などデータの演算（計算や処理）を行うための記号のことです。数値データを計算する場合はExcelで使用するような馴染みのある記号を使用します。コンピュータ上で扱えるデータは数値以外にもいくつかあるのでそれらを使って演算を行うときは別の記号を使用します。"
      ]
    },
    {
      "cell_type": "markdown",
      "metadata": {
        "id": "vGaBTHAVhkUl"
      },
      "source": [
        "### 数値計算用の演算子 p.24-25\n",
        "数値計算用の演算子には以下のようなものがあります。\n",
        "*   `+` 足し算\n",
        "*   `-` 引き算\n",
        "*   `*` 掛け算\n",
        "*   `/` 割り算\n",
        "*   `//` 割り算の商\n",
        "*   `%` 割り算の余り\n",
        "*   `**` べき乗\n",
        "\n",
        "\n"
      ]
    },
    {
      "cell_type": "markdown",
      "metadata": {
        "id": "ISdJxd0gCdIS"
      },
      "source": [
        "試しに計算してみましょう。ちなみに1行だけのプログラムなら**`print()`**を使わなくても結果を表示してくれます。\n",
        "\n",
        "\n",
        "```\n",
        "3+2\n",
        "```\n",
        "\n"
      ]
    },
    {
      "cell_type": "code",
      "metadata": {
        "id": "2b99wTPeCfU_"
      },
      "source": [],
      "execution_count": null,
      "outputs": []
    },
    {
      "cell_type": "markdown",
      "source": [
        "複数行のプログラムの場合は最後の1行の実行結果だけが表示されます。\n",
        "\n",
        "\n",
        "```\n",
        "3+2\n",
        "5*3\n",
        "```\n",
        "\n"
      ],
      "metadata": {
        "id": "JzTa-D99DsZL"
      }
    },
    {
      "cell_type": "code",
      "source": [],
      "metadata": {
        "id": "-0QnE8xIDszL"
      },
      "execution_count": null,
      "outputs": []
    },
    {
      "cell_type": "markdown",
      "metadata": {
        "id": "zsa3CgjWCnjI"
      },
      "source": [
        "変数を使って計算してみましょう。\n",
        "\n",
        "\n",
        "\n",
        "```\n",
        "a = 3\n",
        "b = 2\n",
        "c = a*b\n",
        "\n",
        "print(a, \"*\", b, \"=\", c)\n",
        "```\n",
        "\n"
      ]
    },
    {
      "cell_type": "code",
      "metadata": {
        "id": "sVTdhau3C1dt"
      },
      "source": [],
      "execution_count": null,
      "outputs": []
    },
    {
      "cell_type": "markdown",
      "metadata": {
        "id": "eWU35EZgvwVm"
      },
      "source": [
        "f文字列(f-strings)を使って次のような別の書き方もできます。f文字列では`{ }`の中に変数を渡します。\n",
        "\n",
        "\n",
        "\n",
        "```\n",
        "print(f\"{a} * {b} = {c}\")\n",
        "```\n",
        "\n"
      ]
    },
    {
      "cell_type": "code",
      "source": [],
      "metadata": {
        "id": "1V_KFO4pxp7f"
      },
      "execution_count": null,
      "outputs": []
    },
    {
      "cell_type": "markdown",
      "source": [
        "`{ }`の中で演算を行うことも可能です。\n",
        "\n",
        "\n",
        "\n",
        "```\n",
        "print(f\"{a} * {b} = {a*b}\")\n",
        "```\n",
        "\n"
      ],
      "metadata": {
        "id": "Pokogo4UXA10"
      }
    },
    {
      "cell_type": "code",
      "source": [],
      "metadata": {
        "id": "d7KJLoyOW8BM"
      },
      "execution_count": null,
      "outputs": []
    },
    {
      "cell_type": "markdown",
      "source": [
        "いろんな演算をしてみましょう。\n",
        "\n",
        "\n",
        "\n",
        "```\n",
        "print(f\"{a} + {b} = {a+b}\")\n",
        "print(f\"{a} - {b} = {a-b}\")\n",
        "print(f\"{a} * {b} = {a*b}\")\n",
        "print(f\"{a} / {b} = {a/b}\")\n",
        "print(f\"{a} // {b} = {a//b}\")\n",
        "print(f\"{a} % {b} = {a%b}\")\n",
        "```\n",
        "\n"
      ],
      "metadata": {
        "id": "7BetLJGYXFM9"
      }
    },
    {
      "cell_type": "code",
      "metadata": {
        "id": "z3jYxq4VDb_0"
      },
      "source": [],
      "execution_count": null,
      "outputs": []
    },
    {
      "cell_type": "markdown",
      "metadata": {
        "id": "omwCoRnKEIoF"
      },
      "source": [
        "###  比較演算子 p.26-27\n",
        "\n",
        "*   `==` 等しい（イコールがふたつ）\n",
        "*   `<` 小なり\n",
        "*   `>` 大なり\n",
        "*   `<=` 以下（`<`が先，`=`が後）\n",
        "*   `>=` 以上（`>`が先，`=`が後）\n",
        "*   `!=` 等しくない（`!`が先，`=`が後）\n",
        "\n"
      ]
    },
    {
      "cell_type": "markdown",
      "metadata": {
        "id": "4en_hfT-FJ6w"
      },
      "source": [
        "試しに演算してみましょう。比較演算子による演算結果は`True`（真：正しい）または`False`（偽：正しくない）となります。\n",
        "\n",
        "\n",
        "\n",
        "```\n",
        "3 == 2\n",
        "```\n",
        "\n"
      ]
    },
    {
      "cell_type": "code",
      "metadata": {
        "id": "k-fJ2ltxv5c-"
      },
      "source": [],
      "execution_count": null,
      "outputs": []
    },
    {
      "cell_type": "markdown",
      "source": [
        "```\n",
        "a = 3\n",
        "b = 2\n",
        "\n",
        "print(f\"{a} == {b}:  {a==b}\")\n",
        "print(f\"{a} < {b}:  {a<b}\")\n",
        "print(f\"{a} > {b}:  {a>b}\")\n",
        "print(f\"{a} <= {b}:  {a<=b}\")\n",
        "print(f\"{a} >= {b}:  {a>=b}\")\n",
        "print(f\"{a} != {b}:  {a!=b}\")\n",
        "```\n",
        "\n"
      ],
      "metadata": {
        "id": "1LkI0HOnx6-V"
      }
    },
    {
      "cell_type": "code",
      "metadata": {
        "id": "nj_EiC1bFIr9"
      },
      "source": [],
      "execution_count": null,
      "outputs": []
    },
    {
      "cell_type": "markdown",
      "metadata": {
        "id": "-dJnrOLKGZT-"
      },
      "source": [
        "###  論理演算子 p.28-29\n",
        "デジタル回路で出てきた論理和(OR)や論理積(AND)，否定(NOT)を計算する演算子です。計算するデータはブール値（`True/False`）です。\n",
        "*   `or` 論理和\n",
        "*   `and` 論理積\n",
        "*   `not()` 否定\n",
        "\n",
        "\n",
        "\n",
        "```\n",
        "a = True\n",
        "b = False\n",
        "\n",
        "print(f\"a or b : {a or b}\")\n",
        "print(f\"a and b : {a and b}\")\n",
        "print(f\"not a: {not(a)}\")\n",
        "```\n",
        "\n"
      ]
    },
    {
      "cell_type": "code",
      "metadata": {
        "id": "HgtWxFWYHLeV"
      },
      "source": [],
      "execution_count": null,
      "outputs": []
    },
    {
      "cell_type": "markdown",
      "source": [
        "ブール値としては`True`，`False`の代わりに`1`と`0`を使うこともできます。\n",
        "\n",
        "\n",
        "\n",
        "```\n",
        "a = 1  # True\n",
        "b = 0  # False\n",
        "\n",
        "print(f\"a or b : {a or b}\")\n",
        "print(f\"a and b : {a and b}\")\n",
        "print(f\"not a: {not(a)}\")\n",
        "```\n",
        "\n"
      ],
      "metadata": {
        "id": "cW8FuHn7XoJe"
      }
    },
    {
      "cell_type": "code",
      "metadata": {
        "id": "U-aJEv4XITp1"
      },
      "source": [],
      "execution_count": null,
      "outputs": []
    },
    {
      "cell_type": "markdown",
      "metadata": {
        "id": "HSwwIPxaBOdP"
      },
      "source": [
        "NOR, NAND, XOR (Exclusive OR)の関数は標準装備されていませんが，自分で作ることができます。\n",
        "\n",
        "* NOR　　　$\\overline{a + b}$\n",
        "\n",
        "\n",
        "\n",
        "```\n",
        "a = True\n",
        "b = False\n",
        "\n",
        "not(a or b)\n",
        "```\n",
        "\n"
      ]
    },
    {
      "cell_type": "code",
      "metadata": {
        "id": "CqNxuREWBYju"
      },
      "source": [],
      "execution_count": null,
      "outputs": []
    },
    {
      "cell_type": "markdown",
      "metadata": {
        "id": "txYtkroNDjhd"
      },
      "source": [
        "* NAND　　$\\overline{a \\cdot b}$\n",
        "\n",
        "\n",
        "\n",
        "```\n",
        "not(a and b)\n",
        "```\n",
        "\n"
      ]
    },
    {
      "cell_type": "code",
      "metadata": {
        "id": "itkckGWeBt9W"
      },
      "source": [],
      "execution_count": null,
      "outputs": []
    },
    {
      "cell_type": "markdown",
      "metadata": {
        "id": "d7AB-AhcDkKt"
      },
      "source": [
        "* XOR　　　$a\\cdot\\overline{b} + \\overline{a}\\cdot b$\n",
        "\n",
        "\n",
        "\n",
        "```\n",
        "(a and not(b)) or (not(a) and b)\n",
        "```\n",
        "\n"
      ]
    },
    {
      "cell_type": "code",
      "metadata": {
        "id": "jhtvztA-ByI-"
      },
      "source": [],
      "execution_count": null,
      "outputs": []
    },
    {
      "cell_type": "markdown",
      "metadata": {
        "id": "VfCGCZ93hoqr"
      },
      "source": [
        "## データタイプ p.9\n",
        "Pythonで扱う主なデータタイプ（データ型）は以下の通りです。（実際には他にもたくさんありますが，とりあえずこれくらいで大丈夫です。）\n",
        "\n",
        "\n",
        "* `int`型　整数型 -1, 0, 1, 5, 78, 100\n",
        "* `float`型　浮動小数点型 0.01, 3.14\n",
        "* `complex`型　複素数型 2+3j（虚数単位はj，j3ではなく3jと書く）\n",
        "* `bool`型　ブール型 True, False\n",
        "* `str`型　文字列型\n",
        "* `list`型　リスト型 [1, 2, 3, 4], [\"dog\", \"cat\"]（四角括弧で囲んでカンマで区切る）\n",
        "* `tuple`型　タプル型 (1, 2, 3, 4),（丸括弧で囲んでカンマで区切る）\n",
        "\n"
      ]
    },
    {
      "cell_type": "markdown",
      "metadata": {
        "id": "RKuQnLjkKrju"
      },
      "source": [
        "データタイプは`type()`で確認できます。\n",
        "\n",
        "### int型／整数型\n",
        "\n",
        "```\n",
        "a = 3\n",
        "type(a)\n",
        "```\n",
        "\n"
      ]
    },
    {
      "cell_type": "code",
      "metadata": {
        "id": "sf8ytfYmRcsK"
      },
      "source": [],
      "execution_count": null,
      "outputs": []
    },
    {
      "cell_type": "markdown",
      "source": [
        "### float型／浮動小数点型\n",
        "\n",
        "```\n",
        "a = 3.14\n",
        "type(a)\n",
        "```\n",
        "\n"
      ],
      "metadata": {
        "id": "c4GWGZgXypno"
      }
    },
    {
      "cell_type": "code",
      "metadata": {
        "id": "VZwMirsaRdOJ"
      },
      "source": [],
      "execution_count": null,
      "outputs": []
    },
    {
      "cell_type": "markdown",
      "source": [
        "### complex型/複素数型\n",
        "\n",
        "\n",
        "```\n",
        "a = 2+3j  # 2+j3ではなく，2+3jと書く\n",
        "type(a)\n",
        "```\n",
        "\n"
      ],
      "metadata": {
        "id": "fpyMx342ompO"
      }
    },
    {
      "cell_type": "code",
      "source": [],
      "metadata": {
        "id": "p9Q2sxndobJ4"
      },
      "execution_count": null,
      "outputs": []
    },
    {
      "cell_type": "markdown",
      "source": [
        "### bool型／ブール型\n",
        "\n",
        "```\n",
        "a = True\n",
        "type(a)\n",
        "```\n",
        "\n"
      ],
      "metadata": {
        "id": "_kPhTHvXys7A"
      }
    },
    {
      "cell_type": "code",
      "metadata": {
        "id": "Wvwvzi-YRep4"
      },
      "source": [],
      "execution_count": null,
      "outputs": []
    },
    {
      "cell_type": "markdown",
      "source": [
        "### str型／文字列型\n",
        "\n",
        "```\n",
        "a = \"Hello World!\"\n",
        "type(a)\n",
        "```\n",
        "\n"
      ],
      "metadata": {
        "id": "Yfq-BXTuy17k"
      }
    },
    {
      "cell_type": "code",
      "metadata": {
        "id": "d_W9QQq_Rf0h"
      },
      "source": [],
      "execution_count": null,
      "outputs": []
    },
    {
      "cell_type": "markdown",
      "source": [
        "###  list型／リスト型\n",
        "```\n",
        "a = [1, 2, 3, 4]\n",
        "type(a)\n",
        "```\n",
        "\n"
      ],
      "metadata": {
        "id": "MosS3y21y63m"
      }
    },
    {
      "cell_type": "code",
      "metadata": {
        "id": "LblH4oI_RhMp"
      },
      "source": [],
      "execution_count": null,
      "outputs": []
    },
    {
      "cell_type": "markdown",
      "source": [
        "\n",
        "### tuple型／タプル型\n",
        "```\n",
        "a = (1, 2, 3, 4)\n",
        "type(a)\n",
        "```\n",
        "\n"
      ],
      "metadata": {
        "id": "zRb99CjZzBtK"
      }
    },
    {
      "cell_type": "code",
      "source": [],
      "metadata": {
        "id": "WIWpoILx-vD7"
      },
      "execution_count": null,
      "outputs": []
    },
    {
      "cell_type": "markdown",
      "metadata": {
        "id": "ZNEbnucxuFcQ"
      },
      "source": [
        "## まとめ\n",
        "演算子，データタイプについて学びました。これらも最初から暗記する必要はありません。たくさんプログラムを書いていけば自然に覚えられます。大事なことは自分でたくさんプログラムを書いてみることです。"
      ]
    }
  ]
}